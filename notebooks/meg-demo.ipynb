{
 "cells": [
  {
   "cell_type": "markdown",
   "id": "086e59a3",
   "metadata": {},
   "source": [
    "# Import Widget Libraries"
   ]
  },
  {
   "cell_type": "code",
   "execution_count": 1,
   "id": "d4a1228b",
   "metadata": {},
   "outputs": [
    {
     "name": "stdout",
     "output_type": "stream",
     "text": [
      "kyurem_client: 0.0.0\n"
     ]
    }
   ],
   "source": [
    "%load_ext autoreload   \n",
    "%autoreload 2\n",
    "import kyurem\n",
    "from kyurem.core.idom_loader import reload_bundle\n",
    "from kyurem.core.widget import WidgetModel"
   ]
  },
  {
   "cell_type": "markdown",
   "id": "509de0e1",
   "metadata": {},
   "source": [
    "# Import Relevant Data"
   ]
  },
  {
   "cell_type": "markdown",
   "id": "2e0646cb",
   "metadata": {},
   "source": [
    "## Import Graph"
   ]
  },
  {
   "cell_type": "code",
   "execution_count": 2,
   "id": "9c44e8e4",
   "metadata": {},
   "outputs": [],
   "source": [
    "from kyurem import Service\n",
    "service = Service(kh = 'indeed.v0.0.1:612e3403')"
   ]
  },
  {
   "cell_type": "code",
   "execution_count": 3,
   "id": "53dc8ef8",
   "metadata": {},
   "outputs": [],
   "source": [
    "schema = service.get_kh_edge_list()"
   ]
  },
  {
   "cell_type": "markdown",
   "id": "2adb1d4e",
   "metadata": {},
   "source": [
    "## Import Corpus Data"
   ]
  },
  {
   "cell_type": "code",
   "execution_count": 5,
   "id": "3ed8bac5",
   "metadata": {},
   "outputs": [],
   "source": [
    "import pandas as pd\n",
    "df = pd.read_csv(\"indeed.v0.0.1_612e3403_sampled.csv\")\n",
    "data = df.to_dict('records')"
   ]
  },
  {
   "cell_type": "code",
   "execution_count": 6,
   "id": "f424bd0b",
   "metadata": {},
   "outputs": [],
   "source": [
    "service.load_corpus(data, 'parent_title', 'context', 'child_title')"
   ]
  },
  {
   "cell_type": "markdown",
   "id": "80af343a",
   "metadata": {},
   "source": [
    "# ESE Seed Creation"
   ]
  },
  {
   "cell_type": "markdown",
   "id": "d24419b0",
   "metadata": {},
   "source": [
    "## Exploration"
   ]
  },
  {
   "cell_type": "code",
   "execution_count": 18,
   "id": "4f1794f4",
   "metadata": {
    "scrolled": false
   },
   "outputs": [
    {
     "data": {
      "text/plain": [
       "component(7f04946e0e20, self=<kyurem.widgets.StatefulWidgetBase.StatefulWidgetBase object at 0x7f0497abd9d0>)"
      ]
     },
     "execution_count": 18,
     "metadata": {},
     "output_type": "execute_result"
    },
    {
     "data": {
      "application/vnd.jupyter.widget-view+json": {
       "model_id": "18c86c6ea2194ded81dd1f58e832d426",
       "version_major": 2,
       "version_minor": 0
      },
      "text/plain": [
       "LayoutWidget(Layout(component(7f04946e0e20, self=<kyurem.widgets.StatefulWidgetBase.StatefulWidgetBase object …"
      ]
     },
     "metadata": {},
     "output_type": "display_data"
    }
   ],
   "source": [
    "from kyurem import ExplorerESE\n",
    "\n",
    "\n",
    "def init(): \n",
    "    # Fetch initial view data\n",
    "    return {\n",
    "        \"subgraph\": None,\n",
    "        \"children\": service.get_children_node_distributions(),\n",
    "        \"relations\": service.get_relation_distribution(),\n",
    "        \"datatable\": None,\n",
    "        \"highlight\": None,\n",
    "    }\n",
    "\n",
    "def focus(node, panel):\n",
    "    # node can be in one of two formats:\n",
    "    # node : { \"node_label\": str, \"node_property\": str, \"node_property_value\": str }\n",
    "    # node : { \"node_label\": str, \"title\": str, \"uuid\": str }\n",
    "    \n",
    "    # Since the service functions use the first format, node must first\n",
    "    # be converted to the proper format\n",
    "    if \"title\" in node:\n",
    "        node = {\n",
    "            \"node_label\": node[\"node_label\"],\n",
    "            \"node_property\": \"title\",\n",
    "            \"node_property_value\": node[\"title\"]\n",
    "        }\n",
    "        \n",
    "    # TODO: Return nodes in a consistent format from the service\n",
    "    #       functions to streamline the above\n",
    "    \n",
    "    \n",
    "    # Fetch the neighborhood around the input node \n",
    "    result = service.get_node_neighborhood(node)\n",
    "    datatable = service.get_annotated_corpus(node)\n",
    "    \n",
    "    data = { \"subgraph\": None }\n",
    "    if panel != \"schema\":\n",
    "        data[\"schema\"] = result[\"schema\"]\n",
    "    if panel != \"children\":\n",
    "        data[\"children\"] = service.get_children_node_distributions(node)\n",
    "\n",
    "    # Use a list comprehension to convert the return format of the relation_dist \n",
    "    # to a bar-chart format\n",
    "    data[\"relations\"] = [\n",
    "        {\"x\": relation[\"label\"], \"y\": relation[\"count\"], \"type\": type}\n",
    "        for type, relations in result[\"relation_dist\"].items()\n",
    "        for relation in relations\n",
    "    ]\n",
    "    # TODO: Move conversion code into service\n",
    "    if datatable[\"rows\"]:\n",
    "        data[\"datatable\"] = datatable[\"rows\"]\n",
    "        data[\"highlight\"] = datatable[\"highlight\"]\n",
    "    else:\n",
    "        data[\"datatable\"] = None\n",
    "        data[\"highlight\"] = None\n",
    "    return data\n",
    "  \n",
    "# Create widget \n",
    "reload_bundle()\n",
    "explorer = ExplorerESE({\n",
    "        \"init\": init,\n",
    "        \"focus\": focus\n",
    "    }, schema)\n",
    "\n",
    "explorer.show()"
   ]
  },
  {
   "cell_type": "markdown",
   "id": "805ee0b6",
   "metadata": {},
   "source": [
    "## Todo: Export Seed"
   ]
  },
  {
   "cell_type": "code",
   "execution_count": 9,
   "id": "84aca39e",
   "metadata": {},
   "outputs": [
    {
     "ename": "AttributeError",
     "evalue": "'ExplorerESE' object has no attribute 'state'",
     "output_type": "error",
     "traceback": [
      "\u001b[0;31m---------------------------------------------------------------------------\u001b[0m",
      "\u001b[0;31mAttributeError\u001b[0m                            Traceback (most recent call last)",
      "Input \u001b[0;32mIn [9]\u001b[0m, in \u001b[0;36m<cell line: 1>\u001b[0;34m()\u001b[0m\n\u001b[0;32m----> 1\u001b[0m \u001b[43mexplorer\u001b[49m\u001b[38;5;241;43m.\u001b[39;49m\u001b[43mstate\u001b[49m\u001b[38;5;241m.\u001b[39mdata\u001b[38;5;241m.\u001b[39mdatatable[\u001b[38;5;241m0\u001b[39m][\u001b[38;5;124m'\u001b[39m\u001b[38;5;124mhighlight\u001b[39m\u001b[38;5;124m'\u001b[39m]\n",
      "\u001b[0;31mAttributeError\u001b[0m: 'ExplorerESE' object has no attribute 'state'"
     ]
    }
   ],
   "source": [
    "explorer.state.data.datatable[0]['highlight']"
   ]
  },
  {
   "cell_type": "code",
   "execution_count": 19,
   "id": "56b36468",
   "metadata": {},
   "outputs": [
    {
     "data": {
      "text/plain": [
       "component(7f049477f460, self=<kyurem.widgets.StatefulWidgetBase.StatefulWidgetBase object at 0x7f049792ac70>)"
      ]
     },
     "execution_count": 19,
     "metadata": {},
     "output_type": "execute_result"
    },
    {
     "data": {
      "application/vnd.jupyter.widget-view+json": {
       "model_id": "8b7342386ff8484994ad69585e225426",
       "version_major": 2,
       "version_minor": 0
      },
      "text/plain": [
       "LayoutWidget(Layout(component(7f049477f460, self=<kyurem.widgets.StatefulWidgetBase.StatefulWidgetBase object …"
      ]
     },
     "metadata": {},
     "output_type": "display_data"
    }
   ],
   "source": [
    "prov = explorer.history()\n",
    "prov.show()"
   ]
  },
  {
   "cell_type": "markdown",
   "id": "74e35603",
   "metadata": {},
   "source": [
    "# Merging Decision Making"
   ]
  },
  {
   "cell_type": "markdown",
   "id": "402fd521",
   "metadata": {},
   "source": [
    "## Load Merge Data"
   ]
  },
  {
   "cell_type": "code",
   "execution_count": 20,
   "id": "29261857",
   "metadata": {},
   "outputs": [],
   "source": [
    "df2 = pd.read_csv(\"indeed.v0.0.1_612e3403_merged.csv\")\n",
    "merge_data = df2.to_dict('records')\n",
    "\n",
    "service.load_merge_data(merge_data, 'corpus_entity', 'node_label', 'node_uuid', 'node_title')\n",
    "mergedata = service.get_merge_data()[\"rows\"]"
   ]
  },
  {
   "cell_type": "code",
   "execution_count": 21,
   "id": "1111223a",
   "metadata": {},
   "outputs": [],
   "source": [
    "decision_list = [\"Accept\", \"Reject\", \"Defer\"]"
   ]
  },
  {
   "cell_type": "markdown",
   "id": "bd47d855",
   "metadata": {},
   "source": [
    "## Verify Merging Recommendations"
   ]
  },
  {
   "cell_type": "code",
   "execution_count": 24,
   "id": "8322d3fb",
   "metadata": {
    "scrolled": false
   },
   "outputs": [
    {
     "name": "stdout",
     "output_type": "stream",
     "text": [
      "kyurem_client: 0.0.0\n"
     ]
    },
    {
     "name": "stderr",
     "output_type": "stream",
     "text": [
      "[autoreload of kyurem failed: Traceback (most recent call last):\n",
      "  File \"/home/fchoi/.local/share/virtualenvs/kyurem-migration-FfkIKKAu/lib/python3.9/site-packages/IPython/extensions/autoreload.py\", line 257, in check\n",
      "    superreload(m, reload, self.old_objects)\n",
      "  File \"/home/fchoi/.local/share/virtualenvs/kyurem-migration-FfkIKKAu/lib/python3.9/site-packages/IPython/extensions/autoreload.py\", line 455, in superreload\n",
      "    module = reload(module)\n",
      "  File \"/home/fchoi/.pyenv/versions/3.9.13/lib/python3.9/importlib/__init__.py\", line 169, in reload\n",
      "    _bootstrap._exec(spec, module)\n",
      "  File \"<frozen importlib._bootstrap>\", line 613, in _exec\n",
      "  File \"<frozen importlib._bootstrap_external>\", line 850, in exec_module\n",
      "  File \"<frozen importlib._bootstrap>\", line 228, in _call_with_frames_removed\n",
      "  File \"/home/fchoi/git/kyurem-migration/src/kyurem/__init__.py\", line 35, in <module>\n",
      "    from .widgets.MergeVerifier import MergeVerifier\n",
      "  File \"/home/fchoi/git/kyurem-migration/src/kyurem/widgets/MergeVerifier.py\", line 4, in <module>\n",
      "    from .WidgetWithHistory import WidgetWithHistory\n",
      "ModuleNotFoundError: No module named 'kyurem.widgets.WidgetWithHistory'\n",
      "]\n"
     ]
    },
    {
     "ename": "ImportError",
     "evalue": "cannot import name 'MergeVerifier' from 'kyurem' (/home/fchoi/git/kyurem-migration/src/kyurem/__init__.py)",
     "output_type": "error",
     "traceback": [
      "\u001b[0;31m---------------------------------------------------------------------------\u001b[0m",
      "\u001b[0;31mImportError\u001b[0m                               Traceback (most recent call last)",
      "Input \u001b[0;32mIn [24]\u001b[0m, in \u001b[0;36m<cell line: 1>\u001b[0;34m()\u001b[0m\n\u001b[0;32m----> 1\u001b[0m \u001b[38;5;28;01mfrom\u001b[39;00m \u001b[38;5;21;01mkyurem\u001b[39;00m \u001b[38;5;28;01mimport\u001b[39;00m MergeVerifier\n\u001b[1;32m      4\u001b[0m \u001b[38;5;28;01mdef\u001b[39;00m \u001b[38;5;21minit\u001b[39m(state): \n\u001b[1;32m      5\u001b[0m     \u001b[38;5;66;03m# Fetch initial view data\u001b[39;00m\n\u001b[1;32m      6\u001b[0m     \u001b[38;5;28;01mreturn\u001b[39;00m {\n\u001b[1;32m      7\u001b[0m         \u001b[38;5;124m\"\u001b[39m\u001b[38;5;124msubgraph\u001b[39m\u001b[38;5;124m\"\u001b[39m: \u001b[38;5;28;01mNone\u001b[39;00m,\n\u001b[1;32m      8\u001b[0m         \u001b[38;5;124m\"\u001b[39m\u001b[38;5;124mcorpus\u001b[39m\u001b[38;5;124m\"\u001b[39m: \u001b[38;5;28;01mNone\u001b[39;00m,\n\u001b[1;32m      9\u001b[0m         \u001b[38;5;124m\"\u001b[39m\u001b[38;5;124mmergedata\u001b[39m\u001b[38;5;124m\"\u001b[39m:mergedata,\n\u001b[1;32m     10\u001b[0m         \u001b[38;5;124m\"\u001b[39m\u001b[38;5;124mdecisions\u001b[39m\u001b[38;5;124m\"\u001b[39m:decision_list,\n\u001b[1;32m     11\u001b[0m     }\n",
      "\u001b[0;31mImportError\u001b[0m: cannot import name 'MergeVerifier' from 'kyurem' (/home/fchoi/git/kyurem-migration/src/kyurem/__init__.py)"
     ]
    }
   ],
   "source": [
    "from kyurem import MergeVerifier\n",
    "\n",
    "\n",
    "def init(state): \n",
    "    # Fetch initial view data\n",
    "    return {\n",
    "        \"subgraph\": None,\n",
    "        \"corpus\": None,\n",
    "        \"mergedata\":mergedata,\n",
    "        \"decisions\":decision_list,\n",
    "    }\n",
    "\n",
    "def focus(state, row, panel):\n",
    "    # node can be in the following format:\n",
    "    # node : { \"node_label\": str, \"node_property\": str, \"node_property_value\": str }\n",
    "    node = { \"node_label\": row[\"node_label\"], \"node_property\": \"title\", \"node_property_value\": row[\"node\"] }\n",
    "    entity = { \"node_label\": row[\"node_label\"], \"node_property\": \"title\", \"node_property_value\": row[\"entity\"] }\n",
    "    # Fetch the neighborhood around the input node \n",
    "    result = service.get_node_neighborhood(node)\n",
    "    datatable = service.get_annotated_corpus(entity)\n",
    "    \n",
    "    data = {}\n",
    "    data[\"subgraph\"] = result[\"schema\"]\n",
    "    # TODO: Move conversion code into service\n",
    "    if datatable[\"rows\"]:\n",
    "        data[\"corpus\"] = datatable[\"rows\"]\n",
    "        data[\"highlight\"] = datatable[\"highlight\"]\n",
    "    else:\n",
    "        data[\"corpus\"] = None\n",
    "        data[\"highlight\"] = None\n",
    "    return data\n",
    "  \n",
    "# Create widget \n",
    "reload_bundle()\n",
    "merge_verifier = MergeVerifier({\n",
    "        \"init\": init,\n",
    "        \"focus\": focus\n",
    "    }, mergedata)\n",
    "\n",
    "merge_verifier.show()"
   ]
  },
  {
   "cell_type": "markdown",
   "id": "a3b3f8ce",
   "metadata": {},
   "source": [
    "## Todo: Export Merge Data"
   ]
  },
  {
   "cell_type": "code",
   "execution_count": null,
   "id": "3c51652b",
   "metadata": {},
   "outputs": [],
   "source": [
    "merge_verifier.state.data.mergedata"
   ]
  },
  {
   "cell_type": "code",
   "execution_count": null,
   "id": "041c6e70",
   "metadata": {},
   "outputs": [],
   "source": []
  }
 ],
 "metadata": {
  "kernelspec": {
   "display_name": "Python 3 (ipykernel)",
   "language": "python",
   "name": "python3"
  },
  "language_info": {
   "codemirror_mode": {
    "name": "ipython",
    "version": 3
   },
   "file_extension": ".py",
   "mimetype": "text/x-python",
   "name": "python",
   "nbconvert_exporter": "python",
   "pygments_lexer": "ipython3",
   "version": "3.9.13"
  },
  "vscode": {
   "interpreter": {
    "hash": "1969bb85aac28e13d40e6bbb10858a8d5a24994d890621fece8ba081534ca906"
   }
  }
 },
 "nbformat": 4,
 "nbformat_minor": 5
}
