{
 "cells": [
  {
   "cell_type": "code",
   "execution_count": 1,
   "id": "d4a1228b",
   "metadata": {},
   "outputs": [
    {
     "name": "stdout",
     "output_type": "stream",
     "text": [
      "kyurem_client: 0.0.0\n"
     ]
    }
   ],
   "source": [
    "from kyurem_client import Distribution, Service"
   ]
  },
  {
   "cell_type": "code",
   "execution_count": 2,
   "id": "1525bf4b",
   "metadata": {},
   "outputs": [],
   "source": [
    "service = Service(kh = 'indeed.v0.0.1:c2b0ce85')"
   ]
  },
  {
   "cell_type": "code",
   "execution_count": 3,
   "id": "d5b3a5e0",
   "metadata": {},
   "outputs": [],
   "source": [
    "node_dist = service.get_node_distribution()"
   ]
  },
  {
   "cell_type": "code",
   "execution_count": 4,
   "id": "18ce7eaf",
   "metadata": {},
   "outputs": [
    {
     "data": {
      "text/plain": [
       "show(7feedb091100, self=<kyurem_client.widgets.Distribution.Distribution object at 0x7feedb063550>)"
      ]
     },
     "execution_count": 4,
     "metadata": {},
     "output_type": "execute_result"
    },
    {
     "data": {
      "application/vnd.jupyter.widget-view+json": {
       "model_id": "03c485a9177340b9be98e316b7310722",
       "version_major": 2,
       "version_minor": 0
      },
      "text/plain": [
       "LayoutWidget(Layout(show(7feedb091100, self=<kyurem_client.widgets.Distribution.Distribution object at 0x7feed…"
      ]
     },
     "metadata": {},
     "output_type": "display_data"
    }
   ],
   "source": [
    "widget = Distribution(node_dist)\n",
    "widget.show()"
   ]
  },
  {
   "cell_type": "code",
   "execution_count": null,
   "id": "fd043308",
   "metadata": {},
   "outputs": [],
   "source": []
  }
 ],
 "metadata": {
  "kernelspec": {
   "display_name": "Python 3 (ipykernel)",
   "language": "python",
   "name": "python3"
  },
  "language_info": {
   "codemirror_mode": {
    "name": "ipython",
    "version": 3
   },
   "file_extension": ".py",
   "mimetype": "text/x-python",
   "name": "python",
   "nbconvert_exporter": "python",
   "pygments_lexer": "ipython3",
   "version": "3.8.13"
  }
 },
 "nbformat": 4,
 "nbformat_minor": 5
}
