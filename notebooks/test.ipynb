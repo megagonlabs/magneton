{
 "cells": [
  {
   "cell_type": "code",
   "execution_count": 2,
   "id": "d4a1228b",
   "metadata": {},
   "outputs": [],
   "source": [
    "from kyurem_ui import Distribution"
   ]
  },
  {
   "cell_type": "code",
   "execution_count": 3,
   "id": "6e29c875",
   "metadata": {},
   "outputs": [
    {
     "name": "stdout",
     "output_type": "stream",
     "text": [
      "/Users/srahman/Documents/projects/kyurem-ui/notebooks/app.ini\n",
      "Connecting to neo4j server on bolt://3.144.160.227:7687 with user neo4j...\n",
      "Connected to neo4j server\n"
     ]
    }
   ],
   "source": [
    "widget = Distribution(\"3.144.160.227\", \"indeed.v0.1\")"
   ]
  },
  {
   "cell_type": "code",
   "execution_count": 4,
   "id": "32ddc3dd",
   "metadata": {},
   "outputs": [
    {
     "data": {
      "text/plain": [
       "show(7fb169d81bb0, self=<kyurem_ui.Distribution.Distribution object at 0x7fb1676b5610>)"
      ]
     },
     "execution_count": 4,
     "metadata": {},
     "output_type": "execute_result"
    },
    {
     "data": {
      "application/vnd.jupyter.widget-view+json": {
       "model_id": "21382866fc124667ba15d62cf3a8915d",
       "version_major": 2,
       "version_minor": 0
      },
      "text/plain": [
       "LayoutWidget(Layout(show(7fb169d81bb0, self=<kyurem_ui.Distribution.Distribution object at 0x7fb1676b5610>)))"
      ]
     },
     "metadata": {},
     "output_type": "display_data"
    }
   ],
   "source": [
    "widget.show()"
   ]
  },
  {
   "cell_type": "code",
   "execution_count": null,
   "id": "ba5ff298",
   "metadata": {},
   "outputs": [],
   "source": [
    "kh_profile = Service(\"3.144.160.227\", \"indeed.v0.1\")"
   ]
  },
  {
   "cell_type": "code",
   "execution_count": null,
   "id": "3cf7d8af",
   "metadata": {},
   "outputs": [],
   "source": [
    "node_dist = kh_profile.get_node_distribution()"
   ]
  },
  {
   "cell_type": "code",
   "execution_count": null,
   "id": "b00287b6",
   "metadata": {},
   "outputs": [],
   "source": [
    "widget = Distribution(node_dist)"
   ]
  },
  {
   "cell_type": "code",
   "execution_count": null,
   "id": "b1b8378b",
   "metadata": {},
   "outputs": [],
   "source": [
    "widget.show()"
   ]
  }
 ],
 "metadata": {
  "kernelspec": {
   "display_name": "kyurem_ui",
   "language": "python",
   "name": "kyurem_ui"
  },
  "language_info": {
   "codemirror_mode": {
    "name": "ipython",
    "version": 3
   },
   "file_extension": ".py",
   "mimetype": "text/x-python",
   "name": "python",
   "nbconvert_exporter": "python",
   "pygments_lexer": "ipython3",
   "version": "3.7.13"
  }
 },
 "nbformat": 4,
 "nbformat_minor": 5
}
