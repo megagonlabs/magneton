{
 "cells": [
  {
   "cell_type": "code",
   "execution_count": 1,
   "id": "d4a1228b",
   "metadata": {},
   "outputs": [
    {
     "name": "stdout",
     "output_type": "stream",
     "text": [
      "kyurem_ui: 0.0.0\n"
     ]
    }
   ],
   "source": [
    "from kyurem_ui import Distribution\n",
    "from kyurem_ui.service import Explorer"
   ]
  },
  {
   "cell_type": "code",
   "execution_count": 3,
   "id": "8de0c2dd",
   "metadata": {},
   "outputs": [
    {
     "name": "stdout",
     "output_type": "stream",
     "text": [
      "/Users/srahman/Documents/projects/kyurem-ui/notebooks/app.ini\n",
      "Connecting to neo4j server on bolt://3.144.160.227:7687 with user neo4j...\n",
      "Connected to neo4j server\n"
     ]
    }
   ],
   "source": [
    "kh_profile = Explorer(\"3.144.160.227\", \"indeed.v0.1\")"
   ]
  },
  {
   "cell_type": "code",
   "execution_count": 4,
   "id": "3cf7d8af",
   "metadata": {},
   "outputs": [],
   "source": [
    "node_dist = kh_profile.get_distribution(_type=\"node\")"
   ]
  },
  {
   "cell_type": "code",
   "execution_count": 5,
   "id": "5f922326",
   "metadata": {},
   "outputs": [],
   "source": [
    "widget = Distribution(node_dist)"
   ]
  },
  {
   "cell_type": "code",
   "execution_count": 6,
   "id": "9c20213f",
   "metadata": {},
   "outputs": [
    {
     "data": {
      "text/plain": [
       "show(7fd68faa1ec0, self=<kyurem_ui.Distribution.Distribution object at 0x7fd690ef1ad0>)"
      ]
     },
     "execution_count": 6,
     "metadata": {},
     "output_type": "execute_result"
    },
    {
     "data": {
      "application/vnd.jupyter.widget-view+json": {
       "model_id": "3acd8125fbeb45759a1e29a651cb66fe",
       "version_major": 2,
       "version_minor": 0
      },
      "text/plain": [
       "LayoutWidget(Layout(show(7fd68faa1ec0, self=<kyurem_ui.Distribution.Distribution object at 0x7fd690ef1ad0>)))"
      ]
     },
     "metadata": {},
     "output_type": "display_data"
    }
   ],
   "source": [
    "widget.show()"
   ]
  },
  {
   "cell_type": "code",
   "execution_count": null,
   "id": "082ddd8b",
   "metadata": {},
   "outputs": [],
   "source": []
  }
 ],
 "metadata": {
  "kernelspec": {
   "display_name": "kyurem_ui",
   "language": "python",
   "name": "kyurem_ui"
  },
  "language_info": {
   "codemirror_mode": {
    "name": "ipython",
    "version": 3
   },
   "file_extension": ".py",
   "mimetype": "text/x-python",
   "name": "python",
   "nbconvert_exporter": "python",
   "pygments_lexer": "ipython3",
   "version": "3.7.13"
  }
 },
 "nbformat": 4,
 "nbformat_minor": 5
}
