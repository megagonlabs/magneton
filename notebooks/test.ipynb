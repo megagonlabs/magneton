{
 "cells": [
  {
   "cell_type": "code",
   "execution_count": 1,
   "id": "d4a1228b",
   "metadata": {},
   "outputs": [
    {
     "name": "stdout",
     "output_type": "stream",
     "text": [
      "kyurem_client: 0.0.0\n"
     ]
    }
   ],
   "source": [
    "from kyurem_client import Distribution"
   ]
  },
  {
   "cell_type": "code",
   "execution_count": 2,
   "id": "8de0c2dd",
   "metadata": {},
   "outputs": [],
   "source": [
    "import requests"
   ]
  },
  {
   "cell_type": "code",
   "execution_count": 3,
   "id": "01694e29",
   "metadata": {},
   "outputs": [],
   "source": [
    "response = requests.get('http://127.0.0.1:5000/distributions/node', json={'database_name': 'indeed.v0.0.1:c2b0ce85'})"
   ]
  },
  {
   "cell_type": "code",
   "execution_count": 4,
   "id": "082ddd8b",
   "metadata": {},
   "outputs": [],
   "source": [
    "if response.status_code == 200:\n",
    "    node_dist = response.json()\n",
    "else:\n",
    "    print(response.text)"
   ]
  },
  {
   "cell_type": "code",
   "execution_count": 5,
   "id": "18ce7eaf",
   "metadata": {},
   "outputs": [
    {
     "data": {
      "text/plain": [
       "show(7f803b050040, self=<kyurem_client.widgets.Distribution.Distribution object at 0x7f803b024b80>)"
      ]
     },
     "execution_count": 5,
     "metadata": {},
     "output_type": "execute_result"
    },
    {
     "data": {
      "application/vnd.jupyter.widget-view+json": {
       "model_id": "c2d00d731b5a4e34bb2ba491de126d6a",
       "version_major": 2,
       "version_minor": 0
      },
      "text/plain": [
       "LayoutWidget(Layout(show(7f803b050040, self=<kyurem_client.widgets.Distribution.Distribution object at 0x7f803…"
      ]
     },
     "metadata": {},
     "output_type": "display_data"
    }
   ],
   "source": [
    "widget = Distribution(node_dist)\n",
    "widget.show()"
   ]
  },
  {
   "cell_type": "code",
   "execution_count": null,
   "id": "2ba8d3ae",
   "metadata": {},
   "outputs": [],
   "source": []
  }
 ],
 "metadata": {
  "kernelspec": {
   "display_name": "Python 3 (ipykernel)",
   "language": "python",
   "name": "python3"
  },
  "language_info": {
   "codemirror_mode": {
    "name": "ipython",
    "version": 3
   },
   "file_extension": ".py",
   "mimetype": "text/x-python",
   "name": "python",
   "nbconvert_exporter": "python",
   "pygments_lexer": "ipython3",
   "version": "3.8.13"
  }
 },
 "nbformat": 4,
 "nbformat_minor": 5
}
