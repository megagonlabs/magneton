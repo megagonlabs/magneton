{
 "cells": [
  {
   "cell_type": "code",
   "execution_count": 1,
   "id": "d4a1228b",
   "metadata": {},
   "outputs": [
    {
     "name": "stdout",
     "output_type": "stream",
     "text": [
      "kyurem_client: 0.0.0\n"
     ]
    }
   ],
   "source": [
    "from kyurem_client import Distribution, DualDistribution, LinkedDistribution, Schema, Service"
   ]
  },
  {
   "cell_type": "markdown",
   "id": "7eb7a066",
   "metadata": {},
   "source": [
    "# Load Service"
   ]
  },
  {
   "cell_type": "code",
   "execution_count": 2,
   "id": "1525bf4b",
   "metadata": {},
   "outputs": [],
   "source": [
    "service = Service(kh = 'indeed.v0.0.1:c2b0ce85')"
   ]
  },
  {
   "cell_type": "markdown",
   "id": "3ac119ca",
   "metadata": {},
   "source": [
    "# Get node distribution"
   ]
  },
  {
   "cell_type": "code",
   "execution_count": null,
   "id": "d5b3a5e0",
   "metadata": {},
   "outputs": [],
   "source": [
    "node_dist = service.get_node_distribution()"
   ]
  },
  {
   "cell_type": "code",
   "execution_count": null,
   "id": "18ce7eaf",
   "metadata": {},
   "outputs": [],
   "source": [
    "widget = Distribution(node_dist)\n",
    "widget.show()"
   ]
  },
  {
   "cell_type": "markdown",
   "id": "1264b887",
   "metadata": {},
   "source": [
    "# Get relation distribution"
   ]
  },
  {
   "cell_type": "code",
   "execution_count": null,
   "id": "fd043308",
   "metadata": {},
   "outputs": [],
   "source": [
    "relation_dist = service.get_relation_distribution()"
   ]
  },
  {
   "cell_type": "code",
   "execution_count": null,
   "id": "30bee6f2",
   "metadata": {},
   "outputs": [],
   "source": [
    "widget = Distribution(relation_dist)\n",
    "widget.show()"
   ]
  },
  {
   "cell_type": "markdown",
   "id": "a9bc03b5",
   "metadata": {},
   "source": [
    "# Get node granularity distribution"
   ]
  },
  {
   "cell_type": "code",
   "execution_count": null,
   "id": "29363faa",
   "metadata": {},
   "outputs": [],
   "source": [
    "granularity_dist = service.get_node_granularity_distribution()"
   ]
  },
  {
   "cell_type": "code",
   "execution_count": null,
   "id": "9820b094",
   "metadata": {},
   "outputs": [],
   "source": [
    "widget = Distribution(granularity_dist)\n",
    "widget.show()"
   ]
  },
  {
   "cell_type": "code",
   "execution_count": null,
   "id": "d7d9893a",
   "metadata": {},
   "outputs": [],
   "source": [
    "node_granularity_dist = service.get_node_granularity_distribution('attribute')"
   ]
  },
  {
   "cell_type": "code",
   "execution_count": null,
   "id": "1939e063",
   "metadata": {},
   "outputs": [],
   "source": [
    "widget = Distribution(node_granularity_dist)\n",
    "widget.show()"
   ]
  },
  {
   "cell_type": "markdown",
   "id": "7b910c3c",
   "metadata": {},
   "source": [
    "# Display Dual Distribution"
   ]
  },
  {
   "cell_type": "code",
   "execution_count": null,
   "id": "c5e3108a",
   "metadata": {},
   "outputs": [],
   "source": [
    "widget = DualDistribution(node_dist, granularity_dist)\n",
    "widget.show()"
   ]
  },
  {
   "cell_type": "markdown",
   "id": "90e7cc16",
   "metadata": {},
   "source": [
    "# Display Linked Distribution"
   ]
  },
  {
   "cell_type": "code",
   "execution_count": null,
   "id": "4142fda2",
   "metadata": {},
   "outputs": [],
   "source": [
    "widget = LinkedDistribution(node_dist, service)\n",
    "widget.show()"
   ]
  },
  {
   "cell_type": "markdown",
   "id": "d5b8df4c",
   "metadata": {},
   "source": [
    "# Display Schema"
   ]
  },
  {
   "cell_type": "code",
   "execution_count": null,
   "id": "fbd65cc9",
   "metadata": {},
   "outputs": [],
   "source": [
    "schema = service.get_kh_edge_list()"
   ]
  },
  {
   "cell_type": "code",
   "execution_count": null,
   "id": "31c472b2",
   "metadata": {},
   "outputs": [],
   "source": [
    "widget = Schema(schema)\n",
    "widget.show()"
   ]
  },
  {
   "cell_type": "markdown",
   "id": "7bca84c0",
   "metadata": {},
   "source": [
    "# Get Children Node Dist"
   ]
  },
  {
   "cell_type": "code",
   "execution_count": 4,
   "id": "10194ddf",
   "metadata": {},
   "outputs": [],
   "source": [
    "children_node_dist = service.get_children_node_distributions('attribute')"
   ]
  },
  {
   "cell_type": "code",
   "execution_count": 5,
   "id": "4f3fe0bc",
   "metadata": {},
   "outputs": [
    {
     "data": {
      "text/plain": [
       "[{'x': 'Comparative Literature', 'y': 2},\n",
       " {'x': 'Measuring Instruments', 'y': 7},\n",
       " {'x': 'Government Security Clearances', 'y': 11},\n",
       " {'x': 'Math Skills', 'y': 13},\n",
       " {'x': 'Retail & Hospitality Skills', 'y': 14},\n",
       " {'x': 'Trucking Route Characteristics', 'y': 15},\n",
       " {'x': 'Animal Care & Handling Skills', 'y': 15},\n",
       " {'x': 'Operating Systems', 'y': 16},\n",
       " {'x': 'Beauty & Skincare Skills', 'y': 16},\n",
       " {'x': 'Agriculture & Farming Skills', 'y': 17},\n",
       " {'x': 'Material Moving Skills', 'y': 20},\n",
       " {'x': 'Databases', 'y': 21},\n",
       " {'x': 'Architecture & Engineering Skills', 'y': 22},\n",
       " {'x': 'Quantitative & Qualitative Research Skills', 'y': 22},\n",
       " {'x': 'Caregiving Skills', 'y': 22},\n",
       " {'x': 'Military, Protective & Intelligence Skills', 'y': 24},\n",
       " {'x': 'Human Resources Skills', 'y': 24},\n",
       " {'x': 'Scientific Specialties', 'y': 24},\n",
       " {'x': 'Cleaning & Grounds Maintenance Skills', 'y': 25},\n",
       " {'x': 'Sports & Fitness Skills', 'y': 25},\n",
       " {'x': 'Corporate Strategy & Development Skills', 'y': 25},\n",
       " {'x': 'Information Management Skills', 'y': 26},\n",
       " {'x': 'Legal Knowledge & Experience', 'y': 26},\n",
       " {'x': 'Employment Types', 'y': 28},\n",
       " {'x': 'Quality Improvement Processes', 'y': 28},\n",
       " {'x': 'Logistics & Operations Management Skills', 'y': 29},\n",
       " {'x': 'Social Services & Counseling Skills', 'y': 29},\n",
       " {'x': 'Data Analysis & Visualization Skills', 'y': 29},\n",
       " {'x': 'Vehicle Design, Manufacturing & Repair Skills', 'y': 30},\n",
       " {'x': 'Laboratory Skills', 'y': 30},\n",
       " {'x': 'Vehicle Operation Skills', 'y': 31},\n",
       " {'x': 'Writing & Editing Skills', 'y': 33},\n",
       " {'x': 'Education & Instruction Skills', 'y': 34},\n",
       " {'x': 'Apply Methods', 'y': 35},\n",
       " {'x': 'Food Preparation & Service Skills', 'y': 35},\n",
       " {'x': 'Encouraged to Apply', 'y': 35},\n",
       " {'x': 'Project & Program Management Skills', 'y': 38},\n",
       " {'x': 'Electrical & Mechanical Systems & Technology Skills', 'y': 39},\n",
       " {'x': 'Sales Skills', 'y': 45},\n",
       " {'x': 'Heavy Equipment & Machinery Skills', 'y': 45},\n",
       " {'x': 'Pre-Employment Conditions', 'y': 48},\n",
       " {'x': 'Marketing & Public Relations Skills', 'y': 50},\n",
       " {'x': 'Media, Arts & Design Skills', 'y': 50},\n",
       " {'x': 'Leadership & Management Skills', 'y': 53},\n",
       " {'x': 'Administrative & Customer Service Skills', 'y': 57},\n",
       " {'x': 'Medical Specialties', 'y': 59},\n",
       " {'x': 'Shifts', 'y': 71},\n",
       " {'x': 'Regulations & Standards', 'y': 76},\n",
       " {'x': 'Pay Types', 'y': 77},\n",
       " {'x': 'Finance & Accounting Skills', 'y': 78},\n",
       " {'x': 'Network & Server Technology', 'y': 81},\n",
       " {'x': 'Construction & Fabrication Skills', 'y': 82},\n",
       " {'x': 'Education Levels', 'y': 97},\n",
       " {'x': 'Healthcare Skills', 'y': 103},\n",
       " {'x': 'Programming Languages & Frameworks', 'y': 106},\n",
       " {'x': 'Spoken & Written Languages', 'y': 107},\n",
       " {'x': 'IT & Software Development Skills', 'y': 159},\n",
       " {'x': 'Work Settings', 'y': 173},\n",
       " {'x': 'Benefits & Perks', 'y': 226},\n",
       " {'x': 'Fields of Study', 'y': 391},\n",
       " {'x': 'Software Programs', 'y': 397},\n",
       " {'x': 'Certifications', 'y': 767},\n",
       " {'x': 'Licenses', 'y': 788}]"
      ]
     },
     "execution_count": 5,
     "metadata": {},
     "output_type": "execute_result"
    }
   ],
   "source": [
    "children_node_dist"
   ]
  },
  {
   "cell_type": "code",
   "execution_count": null,
   "id": "f804c589",
   "metadata": {},
   "outputs": [],
   "source": [
    "widget = Distribution(children_node_dist)\n",
    "widget.show()"
   ]
  },
  {
   "cell_type": "markdown",
   "id": "037d3699",
   "metadata": {},
   "source": [
    "# Get Node Degree Distribution"
   ]
  },
  {
   "cell_type": "code",
   "execution_count": null,
   "id": "91164ab0",
   "metadata": {},
   "outputs": [],
   "source": [
    "node_degree_dist = service.get_node_degree_distributions('attribute')"
   ]
  },
  {
   "cell_type": "code",
   "execution_count": null,
   "id": "c9ccc192",
   "metadata": {},
   "outputs": [],
   "source": [
    "node_degree_dist"
   ]
  },
  {
   "cell_type": "code",
   "execution_count": null,
   "id": "baeb533f",
   "metadata": {},
   "outputs": [],
   "source": [
    "widget = Distribution(node_degree_dist)\n",
    "widget.show()"
   ]
  },
  {
   "cell_type": "code",
   "execution_count": null,
   "id": "9b42646f",
   "metadata": {},
   "outputs": [],
   "source": []
  }
 ],
 "metadata": {
  "kernelspec": {
   "display_name": "Python 3 (ipykernel)",
   "language": "python",
   "name": "python3"
  },
  "language_info": {
   "codemirror_mode": {
    "name": "ipython",
    "version": 3
   },
   "file_extension": ".py",
   "mimetype": "text/x-python",
   "name": "python",
   "nbconvert_exporter": "python",
   "pygments_lexer": "ipython3",
   "version": "3.8.13"
  },
  "vscode": {
   "interpreter": {
    "hash": "1969bb85aac28e13d40e6bbb10858a8d5a24994d890621fece8ba081534ca906"
   }
  }
 },
 "nbformat": 4,
 "nbformat_minor": 5
}
