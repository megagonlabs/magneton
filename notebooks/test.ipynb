{
 "cells": [
  {
   "cell_type": "code",
   "execution_count": 1,
   "id": "d4a1228b",
   "metadata": {},
   "outputs": [
    {
     "name": "stdout",
     "output_type": "stream",
     "text": [
      "kyurem_client: 0.0.0\n"
     ]
    }
   ],
   "source": [
    "from kyurem_client import Distribution, DualDistribution, LinkedDistribution, Schema, Service"
   ]
  },
  {
   "cell_type": "markdown",
   "id": "7eb7a066",
   "metadata": {},
   "source": [
    "# Load Service"
   ]
  },
  {
   "cell_type": "code",
   "execution_count": 2,
   "id": "1525bf4b",
   "metadata": {},
   "outputs": [],
   "source": [
    "service = Service(kh = 'indeed.v0.0.1:c2b0ce85')"
   ]
  },
  {
   "cell_type": "markdown",
   "id": "3ac119ca",
   "metadata": {},
   "source": [
    "# Get node distribution"
   ]
  },
  {
   "cell_type": "code",
   "execution_count": 3,
   "id": "d5b3a5e0",
   "metadata": {},
   "outputs": [],
   "source": [
    "node_dist = service.get_node_distribution()"
   ]
  },
  {
   "cell_type": "code",
   "execution_count": 4,
   "id": "18ce7eaf",
   "metadata": {},
   "outputs": [
    {
     "data": {
      "text/plain": [
       "show(7ff56e114340, self=<kyurem_client.widgets.Distribution.Distribution object at 0x7ff56e10a970>)"
      ]
     },
     "execution_count": 4,
     "metadata": {},
     "output_type": "execute_result"
    },
    {
     "data": {
      "application/vnd.jupyter.widget-view+json": {
       "model_id": "e5f694ab4eeb406dbb27e1c915e426e7",
       "version_major": 2,
       "version_minor": 0
      },
      "text/plain": [
       "LayoutWidget(Layout(show(7ff56e114340, self=<kyurem_client.widgets.Distribution.Distribution object at 0x7ff56…"
      ]
     },
     "metadata": {},
     "output_type": "display_data"
    }
   ],
   "source": [
    "widget = Distribution(node_dist)\n",
    "widget.show()"
   ]
  },
  {
   "cell_type": "markdown",
   "id": "1264b887",
   "metadata": {},
   "source": [
    "# Get relation distribution"
   ]
  },
  {
   "cell_type": "code",
   "execution_count": 5,
   "id": "fd043308",
   "metadata": {},
   "outputs": [],
   "source": [
    "relation_dist = service.get_relation_distribution()"
   ]
  },
  {
   "cell_type": "code",
   "execution_count": 6,
   "id": "30bee6f2",
   "metadata": {},
   "outputs": [
    {
     "data": {
      "text/plain": [
       "show(7ff56e1148e0, self=<kyurem_client.widgets.Distribution.Distribution object at 0x7ff56e13ae80>)"
      ]
     },
     "execution_count": 6,
     "metadata": {},
     "output_type": "execute_result"
    },
    {
     "data": {
      "application/vnd.jupyter.widget-view+json": {
       "model_id": "ddcd9a5b908f46dfb9d87d3d7a378b5f",
       "version_major": 2,
       "version_minor": 0
      },
      "text/plain": [
       "LayoutWidget(Layout(show(7ff56e1148e0, self=<kyurem_client.widgets.Distribution.Distribution object at 0x7ff56…"
      ]
     },
     "metadata": {},
     "output_type": "display_data"
    }
   ],
   "source": [
    "widget = Distribution(relation_dist)\n",
    "widget.show()"
   ]
  },
  {
   "cell_type": "markdown",
   "id": "a9bc03b5",
   "metadata": {},
   "source": [
    "# Get node granularity distribution"
   ]
  },
  {
   "cell_type": "code",
   "execution_count": 7,
   "id": "29363faa",
   "metadata": {},
   "outputs": [],
   "source": [
    "node_granularity_dist = service.get_node_granularity_distribution()"
   ]
  },
  {
   "cell_type": "code",
   "execution_count": 8,
   "id": "9820b094",
   "metadata": {},
   "outputs": [
    {
     "data": {
      "text/plain": [
       "show(7ff56e114e80, self=<kyurem_client.widgets.Distribution.Distribution object at 0x7ff56e149d90>)"
      ]
     },
     "execution_count": 8,
     "metadata": {},
     "output_type": "execute_result"
    },
    {
     "data": {
      "application/vnd.jupyter.widget-view+json": {
       "model_id": "80d7fd2762c94e4f9b668c544cfdb180",
       "version_major": 2,
       "version_minor": 0
      },
      "text/plain": [
       "LayoutWidget(Layout(show(7ff56e114e80, self=<kyurem_client.widgets.Distribution.Distribution object at 0x7ff56…"
      ]
     },
     "metadata": {},
     "output_type": "display_data"
    }
   ],
   "source": [
    "widget = Distribution(node_granularity_dist)\n",
    "widget.show()"
   ]
  },
  {
   "cell_type": "markdown",
   "id": "7b910c3c",
   "metadata": {},
   "source": [
    "# Display Dual Distribution"
   ]
  },
  {
   "cell_type": "code",
   "execution_count": 9,
   "id": "c5e3108a",
   "metadata": {},
   "outputs": [
    {
     "data": {
      "text/plain": [
       "show(7ff56e1458e0, self=<kyurem_client.widgets.DualDistribution.DualDistribution object at 0x7ff56e1558b0>)"
      ]
     },
     "execution_count": 9,
     "metadata": {},
     "output_type": "execute_result"
    },
    {
     "data": {
      "application/vnd.jupyter.widget-view+json": {
       "model_id": "31563bb66de84281b707909cf840ac2a",
       "version_major": 2,
       "version_minor": 0
      },
      "text/plain": [
       "LayoutWidget(Layout(show(7ff56e1458e0, self=<kyurem_client.widgets.DualDistribution.DualDistribution object at…"
      ]
     },
     "metadata": {},
     "output_type": "display_data"
    }
   ],
   "source": [
    "widget = DualDistribution(node_dist, node_granularity_dist)\n",
    "widget.show()"
   ]
  },
  {
   "cell_type": "markdown",
   "id": "90e7cc16",
   "metadata": {},
   "source": [
    "# Display Linked Distribution"
   ]
  },
  {
   "cell_type": "code",
   "execution_count": 10,
   "id": "4142fda2",
   "metadata": {},
   "outputs": [
    {
     "data": {
      "text/plain": [
       "show(7ff56e1542e0, self=<kyurem_client.widgets.LinkedDistribution.LinkedDistribution object at 0x7ff56e15d820>)"
      ]
     },
     "execution_count": 10,
     "metadata": {},
     "output_type": "execute_result"
    },
    {
     "data": {
      "application/vnd.jupyter.widget-view+json": {
       "model_id": "d86b820cd51b422daf8cfc492f38a99b",
       "version_major": 2,
       "version_minor": 0
      },
      "text/plain": [
       "LayoutWidget(Layout(show(7ff56e1542e0, self=<kyurem_client.widgets.LinkedDistribution.LinkedDistribution objec…"
      ]
     },
     "metadata": {},
     "output_type": "display_data"
    }
   ],
   "source": [
    "widget = LinkedDistribution(node_dist, node_granularity_dist, service)\n",
    "widget.show()"
   ]
  },
  {
   "cell_type": "markdown",
   "id": "d5b8df4c",
   "metadata": {},
   "source": [
    "# Display Schema"
   ]
  },
  {
   "cell_type": "code",
   "execution_count": 11,
   "id": "fbd65cc9",
   "metadata": {},
   "outputs": [],
   "source": [
    "schema = service.get_kh_edge_list()"
   ]
  },
  {
   "cell_type": "code",
   "execution_count": 12,
   "id": "31c472b2",
   "metadata": {},
   "outputs": [
    {
     "data": {
      "text/plain": [
       "show(7ff56e1b3c40, self=<kyurem_client.widgets.Schema.Schema object at 0x7ff56e1bd070>)"
      ]
     },
     "execution_count": 12,
     "metadata": {},
     "output_type": "execute_result"
    },
    {
     "data": {
      "application/vnd.jupyter.widget-view+json": {
       "model_id": "de8d815293654ae1b23ee6bbe4b390bb",
       "version_major": 2,
       "version_minor": 0
      },
      "text/plain": [
       "LayoutWidget(Layout(show(7ff56e1b3c40, self=<kyurem_client.widgets.Schema.Schema object at 0x7ff56e1bd070>)))"
      ]
     },
     "metadata": {},
     "output_type": "display_data"
    }
   ],
   "source": [
    "widget = Schema(schema)\n",
    "widget.show()"
   ]
  },
  {
   "cell_type": "markdown",
   "id": "7bca84c0",
   "metadata": {},
   "source": [
    "# Get Children Node Dist"
   ]
  },
  {
   "cell_type": "code",
   "execution_count": 13,
   "id": "10194ddf",
   "metadata": {},
   "outputs": [],
   "source": [
    "children_node_dist = service.get_children_node_distributions('attribute')"
   ]
  },
  {
   "cell_type": "code",
   "execution_count": 14,
   "id": "c44c0487",
   "metadata": {},
   "outputs": [
    {
     "data": {
      "text/plain": [
       "[{'x': 'Comparative Literature', 'y': 2},\n",
       " {'x': 'Measuring Instruments', 'y': 7},\n",
       " {'x': 'Government Security Clearances', 'y': 11},\n",
       " {'x': 'Math Skills', 'y': 13},\n",
       " {'x': 'Retail & Hospitality Skills', 'y': 14},\n",
       " {'x': 'Trucking Route Characteristics', 'y': 15},\n",
       " {'x': 'Animal Care & Handling Skills', 'y': 15},\n",
       " {'x': 'Operating Systems', 'y': 16},\n",
       " {'x': 'Beauty & Skincare Skills', 'y': 16},\n",
       " {'x': 'Agriculture & Farming Skills', 'y': 17},\n",
       " {'x': 'Material Moving Skills', 'y': 20},\n",
       " {'x': 'Databases', 'y': 21},\n",
       " {'x': 'Architecture & Engineering Skills', 'y': 22},\n",
       " {'x': 'Quantitative & Qualitative Research Skills', 'y': 22},\n",
       " {'x': 'Caregiving Skills', 'y': 22},\n",
       " {'x': 'Military, Protective & Intelligence Skills', 'y': 24},\n",
       " {'x': 'Human Resources Skills', 'y': 24},\n",
       " {'x': 'Scientific Specialties', 'y': 24},\n",
       " {'x': 'Cleaning & Grounds Maintenance Skills', 'y': 25},\n",
       " {'x': 'Sports & Fitness Skills', 'y': 25},\n",
       " {'x': 'Corporate Strategy & Development Skills', 'y': 25},\n",
       " {'x': 'Information Management Skills', 'y': 26},\n",
       " {'x': 'Legal Knowledge & Experience', 'y': 26},\n",
       " {'x': 'Employment Types', 'y': 28},\n",
       " {'x': 'Quality Improvement Processes', 'y': 28},\n",
       " {'x': 'Logistics & Operations Management Skills', 'y': 29},\n",
       " {'x': 'Social Services & Counseling Skills', 'y': 29},\n",
       " {'x': 'Data Analysis & Visualization Skills', 'y': 29},\n",
       " {'x': 'Vehicle Design, Manufacturing & Repair Skills', 'y': 30},\n",
       " {'x': 'Laboratory Skills', 'y': 30},\n",
       " {'x': 'Vehicle Operation Skills', 'y': 31},\n",
       " {'x': 'Writing & Editing Skills', 'y': 33},\n",
       " {'x': 'Education & Instruction Skills', 'y': 34},\n",
       " {'x': 'Apply Methods', 'y': 35},\n",
       " {'x': 'Food Preparation & Service Skills', 'y': 35},\n",
       " {'x': 'Encouraged to Apply', 'y': 35},\n",
       " {'x': 'Project & Program Management Skills', 'y': 38},\n",
       " {'x': 'Electrical & Mechanical Systems & Technology Skills', 'y': 39},\n",
       " {'x': 'Sales Skills', 'y': 45},\n",
       " {'x': 'Heavy Equipment & Machinery Skills', 'y': 45},\n",
       " {'x': 'Pre-Employment Conditions', 'y': 48},\n",
       " {'x': 'Marketing & Public Relations Skills', 'y': 50},\n",
       " {'x': 'Media, Arts & Design Skills', 'y': 50},\n",
       " {'x': 'Leadership & Management Skills', 'y': 53},\n",
       " {'x': 'Administrative & Customer Service Skills', 'y': 57},\n",
       " {'x': 'Medical Specialties', 'y': 59},\n",
       " {'x': 'Shifts', 'y': 71},\n",
       " {'x': 'Regulations & Standards', 'y': 76},\n",
       " {'x': 'Pay Types', 'y': 77},\n",
       " {'x': 'Finance & Accounting Skills', 'y': 78},\n",
       " {'x': 'Network & Server Technology', 'y': 81},\n",
       " {'x': 'Construction & Fabrication Skills', 'y': 82},\n",
       " {'x': 'Education Levels', 'y': 97},\n",
       " {'x': 'Healthcare Skills', 'y': 103},\n",
       " {'x': 'Programming Languages & Frameworks', 'y': 106},\n",
       " {'x': 'Spoken & Written Languages', 'y': 107},\n",
       " {'x': 'IT & Software Development Skills', 'y': 159},\n",
       " {'x': 'Work Settings', 'y': 173},\n",
       " {'x': 'Benefits & Perks', 'y': 226},\n",
       " {'x': 'Fields of Study', 'y': 391},\n",
       " {'x': 'Software Programs', 'y': 397},\n",
       " {'x': 'Certifications', 'y': 767},\n",
       " {'x': 'Licenses', 'y': 788}]"
      ]
     },
     "execution_count": 14,
     "metadata": {},
     "output_type": "execute_result"
    }
   ],
   "source": [
    "children_node_dist"
   ]
  },
  {
   "cell_type": "code",
   "execution_count": 15,
   "id": "f804c589",
   "metadata": {},
   "outputs": [
    {
     "data": {
      "text/plain": [
       "show(7ff56e154a00, self=<kyurem_client.widgets.Distribution.Distribution object at 0x7ff56e1bd460>)"
      ]
     },
     "execution_count": 15,
     "metadata": {},
     "output_type": "execute_result"
    },
    {
     "data": {
      "application/vnd.jupyter.widget-view+json": {
       "model_id": "57863f6c2e254c9787b6cebb6799006f",
       "version_major": 2,
       "version_minor": 0
      },
      "text/plain": [
       "LayoutWidget(Layout(show(7ff56e154a00, self=<kyurem_client.widgets.Distribution.Distribution object at 0x7ff56…"
      ]
     },
     "metadata": {},
     "output_type": "display_data"
    }
   ],
   "source": [
    "widget = Distribution(children_node_dist)\n",
    "widget.show()"
   ]
  },
  {
   "cell_type": "markdown",
   "id": "037d3699",
   "metadata": {},
   "source": [
    "# Get Node Degree Distribution"
   ]
  },
  {
   "cell_type": "code",
   "execution_count": 16,
   "id": "91164ab0",
   "metadata": {},
   "outputs": [],
   "source": [
    "node_degree_dist = service.get_node_degree_distributions('attribute')"
   ]
  },
  {
   "cell_type": "code",
   "execution_count": 17,
   "id": "19d757b5",
   "metadata": {},
   "outputs": [
    {
     "data": {
      "text/plain": [
       "[{'type': 'out', 'x': 'is_strictly_required_by', 'y': 357},\n",
       " {'type': 'out', 'x': 'is_typically_required_by', 'y': 219},\n",
       " {'type': 'out', 'x': 'lower_degree_than', 'y': 5},\n",
       " {'type': 'out', 'x': 'higher_degree_than', 'y': 5},\n",
       " {'type': 'out', 'x': 'has_experience_variant', 'y': 7},\n",
       " {'type': 'out', 'x': 'experience_variant_of', 'y': 7},\n",
       " {'type': 'out', 'x': 'level_variant_of', 'y': 10},\n",
       " {'type': 'out', 'x': 'has_level_variant', 'y': 10},\n",
       " {'type': 'out', 'x': 'has_authorization_variant', 'y': 10},\n",
       " {'type': 'out', 'x': 'has_topical_variant', 'y': 13},\n",
       " {'type': 'out', 'x': 'topical_variant_of', 'y': 13},\n",
       " {'type': 'out', 'x': 'has_issuer_variant', 'y': 41},\n",
       " {'type': 'out', 'x': 'component_of', 'y': 41},\n",
       " {'type': 'out', 'x': 'issuer_variant_of', 'y': 41},\n",
       " {'type': 'out', 'x': 'has_component', 'y': 41},\n",
       " {'type': 'out', 'x': 'sufficient_prerequisite_of', 'y': 44},\n",
       " {'type': 'out', 'x': 'has_sufficient_prerequisite', 'y': 44},\n",
       " {'type': 'out', 'x': 'necessary_prerequisite_of', 'y': 96},\n",
       " {'type': 'out', 'x': 'has_necessary_prerequisite', 'y': 96},\n",
       " {'type': 'out', 'x': 'has_prerequisite', 'y': 128},\n",
       " {'type': 'out', 'x': 'prerequisite_of', 'y': 146},\n",
       " {'type': 'out', 'x': 'may_substitute_for', 'y': 204},\n",
       " {'type': 'in', 'x': 'typically_requires', 'y': 216},\n",
       " {'type': 'in', 'x': 'strictly_requires', 'y': 353},\n",
       " {'type': 'out', 'x': 'is_guaranteed_by', 'y': 377},\n",
       " {'type': 'out', 'x': 'guarantees', 'y': 378},\n",
       " {'type': 'out', 'x': 'has_variant', 'y': 797},\n",
       " {'type': 'out', 'x': 'variant_of', 'y': 806},\n",
       " {'type': 'in', 'x': 'sometimes_requires', 'y': 1413},\n",
       " {'type': 'in', 'x': 'has_premium_skill', 'y': 2147},\n",
       " {'type': 'in', 'x': 'has_core_skill', 'y': 3078},\n",
       " {'type': 'in', 'x': 'has_relevant_skill', 'y': 3321},\n",
       " {'type': 'out', 'x': '__EXTRACTED_BY__', 'y': 5099},\n",
       " {'type': 'out', 'x': '__EXTRACTED_FROM__', 'y': 5099},\n",
       " {'type': 'out', 'x': 'generalization', 'y': 5102},\n",
       " {'type': 'out', 'x': 'specialization', 'y': 5101},\n",
       " {'type': 'out', 'x': 'is_adjacent_to', 'y': 30063},\n",
       " {'type': 'out', 'x': 'has_attr_sibling_test', 'y': 518066},\n",
       " {'type': 'out', 'x': 'has_attr_sibling_training', 'y': 826623},\n",
       " {'type': 'out', 'x': 'has_attr_sibling', 'y': 867488},\n",
       " {'type': 'out', 'x': 'is_sometimes_required_by', 'y': 1430},\n",
       " {'type': 'out', 'x': 'is_a_premium_skill_for', 'y': 2147},\n",
       " {'type': 'out', 'x': 'is_a_core_skill_for', 'y': 3078},\n",
       " {'type': 'out', 'x': 'is_a_relevant_skill_for', 'y': 3321}]"
      ]
     },
     "execution_count": 17,
     "metadata": {},
     "output_type": "execute_result"
    }
   ],
   "source": [
    "node_degree_dist"
   ]
  },
  {
   "cell_type": "code",
   "execution_count": 18,
   "id": "baeb533f",
   "metadata": {},
   "outputs": [
    {
     "data": {
      "text/plain": [
       "show(7ff56bba3d60, self=<kyurem_client.widgets.Distribution.Distribution object at 0x7ff56e1f5520>)"
      ]
     },
     "execution_count": 18,
     "metadata": {},
     "output_type": "execute_result"
    },
    {
     "data": {
      "application/vnd.jupyter.widget-view+json": {
       "model_id": "f0b4a4bb8cfc483bbe078c59fcf9e921",
       "version_major": 2,
       "version_minor": 0
      },
      "text/plain": [
       "LayoutWidget(Layout(show(7ff56bba3d60, self=<kyurem_client.widgets.Distribution.Distribution object at 0x7ff56…"
      ]
     },
     "metadata": {},
     "output_type": "display_data"
    }
   ],
   "source": [
    "widget = Distribution(node_degree_dist)\n",
    "widget.show()"
   ]
  },
  {
   "cell_type": "code",
   "execution_count": null,
   "id": "e9d8b2c2",
   "metadata": {},
   "outputs": [],
   "source": []
  }
 ],
 "metadata": {
  "kernelspec": {
   "display_name": "Python 3 (ipykernel)",
   "language": "python",
   "name": "python3"
  },
  "language_info": {
   "codemirror_mode": {
    "name": "ipython",
    "version": 3
   },
   "file_extension": ".py",
   "mimetype": "text/x-python",
   "name": "python",
   "nbconvert_exporter": "python",
   "pygments_lexer": "ipython3",
   "version": "3.8.13"
  }
 },
 "nbformat": 4,
 "nbformat_minor": 5
}
