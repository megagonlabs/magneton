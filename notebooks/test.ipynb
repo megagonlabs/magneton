{
 "cells": [
  {
   "cell_type": "code",
   "execution_count": 1,
   "id": "d4a1228b",
   "metadata": {},
   "outputs": [
    {
     "name": "stdout",
     "output_type": "stream",
     "text": [
      "kyurem_ui: 0.0.0\n"
     ]
    }
   ],
   "source": [
    "from kyurem_ui import Widget"
   ]
  },
  {
   "cell_type": "code",
   "execution_count": 2,
   "id": "6e29c875",
   "metadata": {},
   "outputs": [
    {
     "name": "stdout",
     "output_type": "stream",
     "text": [
      "/Users/srahman/Documents/projects/kyurem-ui/notebooks/app.ini\n",
      "Connecting to neo4j server on bolt://3.144.160.227:7687 with user neo4j...\n",
      "Connected to neo4j server\n"
     ]
    }
   ],
   "source": [
    "widget = Widget(\"3.144.160.227\", \"indeed.v0.1\")"
   ]
  },
  {
   "cell_type": "code",
   "execution_count": 3,
   "id": "32ddc3dd",
   "metadata": {},
   "outputs": [
    {
     "data": {
      "text/plain": [
       "show(7fb80d94c4b0, self=<kyurem_ui.Widget.Widget object at 0x7fb80cd16ed0>)"
      ]
     },
     "execution_count": 3,
     "metadata": {},
     "output_type": "execute_result"
    },
    {
     "data": {
      "application/vnd.jupyter.widget-view+json": {
       "model_id": "fd709870a3ee42d9b367a284071787d9",
       "version_major": 2,
       "version_minor": 0
      },
      "text/plain": [
       "LayoutWidget(Layout(show(7fb80d94c4b0, self=<kyurem_ui.Widget.Widget object at 0x7fb80cd16ed0>)))"
      ]
     },
     "metadata": {},
     "output_type": "display_data"
    }
   ],
   "source": [
    "widget.show()"
   ]
  },
  {
   "cell_type": "code",
   "execution_count": null,
   "id": "3cf7d8af",
   "metadata": {},
   "outputs": [],
   "source": []
  }
 ],
 "metadata": {
  "kernelspec": {
   "display_name": "kyurem_ui",
   "language": "python",
   "name": "kyurem_ui"
  },
  "language_info": {
   "codemirror_mode": {
    "name": "ipython",
    "version": 3
   },
   "file_extension": ".py",
   "mimetype": "text/x-python",
   "name": "python",
   "nbconvert_exporter": "python",
   "pygments_lexer": "ipython3",
   "version": "3.7.13"
  }
 },
 "nbformat": 4,
 "nbformat_minor": 5
}
