{
 "cells": [
  {
   "cell_type": "code",
   "execution_count": 1,
   "id": "d4a1228b",
   "metadata": {},
   "outputs": [
    {
     "name": "stdout",
     "output_type": "stream",
     "text": [
      "kyurem_client: 0.0.0\n"
     ]
    }
   ],
   "source": [
    "from kyurem_client import Distribution, DualDistribution, Service"
   ]
  },
  {
   "cell_type": "markdown",
   "id": "7eb7a066",
   "metadata": {},
   "source": [
    "# Load Service"
   ]
  },
  {
   "cell_type": "code",
   "execution_count": 2,
   "id": "1525bf4b",
   "metadata": {},
   "outputs": [],
   "source": [
    "service = Service(kh = 'indeed.v0.0.1:c2b0ce85')"
   ]
  },
  {
   "cell_type": "markdown",
   "id": "3ac119ca",
   "metadata": {},
   "source": [
    "# Get node distribution"
   ]
  },
  {
   "cell_type": "code",
   "execution_count": 3,
   "id": "d5b3a5e0",
   "metadata": {},
   "outputs": [],
   "source": [
    "node_dist = service.get_node_distribution()"
   ]
  },
  {
   "cell_type": "code",
   "execution_count": 4,
   "id": "18ce7eaf",
   "metadata": {},
   "outputs": [
    {
     "data": {
      "text/plain": [
       "show(7fdf360a1220, self=<kyurem_client.widgets.Distribution.Distribution object at 0x7fdf3609ed00>)"
      ]
     },
     "execution_count": 4,
     "metadata": {},
     "output_type": "execute_result"
    },
    {
     "data": {
      "application/vnd.jupyter.widget-view+json": {
       "model_id": "4cf63b59185d4f58b528c3ceb46ef1f0",
       "version_major": 2,
       "version_minor": 0
      },
      "text/plain": [
       "LayoutWidget(Layout(show(7fdf360a1220, self=<kyurem_client.widgets.Distribution.Distribution object at 0x7fdf3…"
      ]
     },
     "metadata": {},
     "output_type": "display_data"
    }
   ],
   "source": [
    "widget = Distribution(node_dist)\n",
    "widget.show()"
   ]
  },
  {
   "cell_type": "markdown",
   "id": "1264b887",
   "metadata": {},
   "source": [
    "# Get relation distribution"
   ]
  },
  {
   "cell_type": "code",
   "execution_count": 5,
   "id": "fd043308",
   "metadata": {},
   "outputs": [],
   "source": [
    "relation_dist = service.get_relation_distribution()"
   ]
  },
  {
   "cell_type": "code",
   "execution_count": 6,
   "id": "30bee6f2",
   "metadata": {},
   "outputs": [
    {
     "data": {
      "text/plain": [
       "show(7fdf32732580, self=<kyurem_client.widgets.Distribution.Distribution object at 0x7fdf360b16a0>)"
      ]
     },
     "execution_count": 6,
     "metadata": {},
     "output_type": "execute_result"
    },
    {
     "data": {
      "application/vnd.jupyter.widget-view+json": {
       "model_id": "d5cd3a1dde21407d83fc12fe1b60741f",
       "version_major": 2,
       "version_minor": 0
      },
      "text/plain": [
       "LayoutWidget(Layout(show(7fdf32732580, self=<kyurem_client.widgets.Distribution.Distribution object at 0x7fdf3…"
      ]
     },
     "metadata": {},
     "output_type": "display_data"
    }
   ],
   "source": [
    "widget = Distribution(relation_dist)\n",
    "widget.show()"
   ]
  },
  {
   "cell_type": "markdown",
   "id": "a9bc03b5",
   "metadata": {},
   "source": [
    "# Get node granularity distribution"
   ]
  },
  {
   "cell_type": "code",
   "execution_count": 7,
   "id": "29363faa",
   "metadata": {},
   "outputs": [],
   "source": [
    "node_granularity_dist = service.get_node_granularity_distribution('occupation')"
   ]
  },
  {
   "cell_type": "code",
   "execution_count": 8,
   "id": "9820b094",
   "metadata": {},
   "outputs": [
    {
     "data": {
      "text/plain": [
       "show(7fdf360a1640, self=<kyurem_client.widgets.Distribution.Distribution object at 0x7fdf360d3880>)"
      ]
     },
     "execution_count": 8,
     "metadata": {},
     "output_type": "execute_result"
    },
    {
     "data": {
      "application/vnd.jupyter.widget-view+json": {
       "model_id": "72f303ce16364daeb4deffdf85a91192",
       "version_major": 2,
       "version_minor": 0
      },
      "text/plain": [
       "LayoutWidget(Layout(show(7fdf360a1640, self=<kyurem_client.widgets.Distribution.Distribution object at 0x7fdf3…"
      ]
     },
     "metadata": {},
     "output_type": "display_data"
    }
   ],
   "source": [
    "widget = Distribution(node_granularity_dist)\n",
    "widget.show()"
   ]
  },
  {
   "cell_type": "markdown",
   "id": "7b910c3c",
   "metadata": {},
   "source": [
    "# Display Dual Distribution"
   ]
  },
  {
   "cell_type": "code",
   "execution_count": 11,
   "id": "c5e3108a",
   "metadata": {},
   "outputs": [
    {
     "data": {
      "text/plain": [
       "show(7fdf360dd340, self=<kyurem_client.widgets.DualDistribution.DualDistribution object at 0x7fdf360e74c0>)"
      ]
     },
     "execution_count": 11,
     "metadata": {},
     "output_type": "execute_result"
    },
    {
     "data": {
      "application/vnd.jupyter.widget-view+json": {
       "model_id": "1a9cee5ae23c4fff99f24b40b193f6cc",
       "version_major": 2,
       "version_minor": 0
      },
      "text/plain": [
       "LayoutWidget(Layout(show(7fdf360dd340, self=<kyurem_client.widgets.DualDistribution.DualDistribution object at…"
      ]
     },
     "metadata": {},
     "output_type": "display_data"
    }
   ],
   "source": [
    "widget = DualDistribution(node_dist, node_granularity_dist)\n",
    "widget.show()"
   ]
  },
  {
   "cell_type": "code",
   "execution_count": null,
   "id": "f3806ea5",
   "metadata": {},
   "outputs": [],
   "source": []
  }
 ],
 "metadata": {
  "kernelspec": {
   "display_name": "Python 3 (ipykernel)",
   "language": "python",
   "name": "python3"
  },
  "language_info": {
   "codemirror_mode": {
    "name": "ipython",
    "version": 3
   },
   "file_extension": ".py",
   "mimetype": "text/x-python",
   "name": "python",
   "nbconvert_exporter": "python",
   "pygments_lexer": "ipython3",
   "version": "3.8.13"
  }
 },
 "nbformat": 4,
 "nbformat_minor": 5
}
