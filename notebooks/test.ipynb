{
 "cells": [
  {
   "cell_type": "code",
   "execution_count": 1,
   "id": "d4a1228b",
   "metadata": {},
   "outputs": [
    {
     "name": "stdout",
     "output_type": "stream",
     "text": [
      "kyurem_client: 0.0.0\n"
     ]
    }
   ],
   "source": [
    "from kyurem_client import Distribution, DualDistribution, LinkedDistribution, Service"
   ]
  },
  {
   "cell_type": "markdown",
   "id": "7eb7a066",
   "metadata": {},
   "source": [
    "# Load Service"
   ]
  },
  {
   "cell_type": "code",
   "execution_count": 2,
   "id": "1525bf4b",
   "metadata": {},
   "outputs": [],
   "source": [
    "service = Service(kh = 'indeed.v0.0.1:c2b0ce85')"
   ]
  },
  {
   "cell_type": "markdown",
   "id": "3ac119ca",
   "metadata": {},
   "source": [
    "# Get node distribution"
   ]
  },
  {
   "cell_type": "code",
   "execution_count": 3,
   "id": "d5b3a5e0",
   "metadata": {},
   "outputs": [],
   "source": [
    "node_dist = service.get_node_distribution()"
   ]
  },
  {
   "cell_type": "code",
   "execution_count": 4,
   "id": "18ce7eaf",
   "metadata": {},
   "outputs": [
    {
     "data": {
      "text/plain": [
       "show(7f94bc0a43a0, self=<kyurem_client.widgets.Distribution.Distribution object at 0x7f94bc09eb80>)"
      ]
     },
     "execution_count": 4,
     "metadata": {},
     "output_type": "execute_result"
    },
    {
     "data": {
      "application/vnd.jupyter.widget-view+json": {
       "model_id": "bc7f717ee790470e9307b36f091ea6c9",
       "version_major": 2,
       "version_minor": 0
      },
      "text/plain": [
       "LayoutWidget(Layout(show(7f94bc0a43a0, self=<kyurem_client.widgets.Distribution.Distribution object at 0x7f94b…"
      ]
     },
     "metadata": {},
     "output_type": "display_data"
    }
   ],
   "source": [
    "widget = Distribution(node_dist)\n",
    "widget.show()"
   ]
  },
  {
   "cell_type": "markdown",
   "id": "1264b887",
   "metadata": {},
   "source": [
    "# Get relation distribution"
   ]
  },
  {
   "cell_type": "code",
   "execution_count": 5,
   "id": "fd043308",
   "metadata": {},
   "outputs": [],
   "source": [
    "relation_dist = service.get_relation_distribution()"
   ]
  },
  {
   "cell_type": "code",
   "execution_count": 6,
   "id": "30bee6f2",
   "metadata": {},
   "outputs": [
    {
     "data": {
      "text/plain": [
       "show(7f94baba7be0, self=<kyurem_client.widgets.Distribution.Distribution object at 0x7f94bc0b2b50>)"
      ]
     },
     "execution_count": 6,
     "metadata": {},
     "output_type": "execute_result"
    },
    {
     "data": {
      "application/vnd.jupyter.widget-view+json": {
       "model_id": "f8f114f849ce44f18361d4d6c60b2a13",
       "version_major": 2,
       "version_minor": 0
      },
      "text/plain": [
       "LayoutWidget(Layout(show(7f94baba7be0, self=<kyurem_client.widgets.Distribution.Distribution object at 0x7f94b…"
      ]
     },
     "metadata": {},
     "output_type": "display_data"
    }
   ],
   "source": [
    "widget = Distribution(relation_dist)\n",
    "widget.show()"
   ]
  },
  {
   "cell_type": "markdown",
   "id": "a9bc03b5",
   "metadata": {},
   "source": [
    "# Get node granularity distribution"
   ]
  },
  {
   "cell_type": "code",
   "execution_count": 7,
   "id": "29363faa",
   "metadata": {},
   "outputs": [],
   "source": [
    "node_granularity_dist = service.get_node_granularity_distribution()"
   ]
  },
  {
   "cell_type": "code",
   "execution_count": 8,
   "id": "9820b094",
   "metadata": {},
   "outputs": [
    {
     "data": {
      "text/plain": [
       "show(7f94bc0a4dc0, self=<kyurem_client.widgets.Distribution.Distribution object at 0x7f94bc0d78b0>)"
      ]
     },
     "execution_count": 8,
     "metadata": {},
     "output_type": "execute_result"
    },
    {
     "data": {
      "application/vnd.jupyter.widget-view+json": {
       "model_id": "b126cb9d65704787b16fddf0b2634208",
       "version_major": 2,
       "version_minor": 0
      },
      "text/plain": [
       "LayoutWidget(Layout(show(7f94bc0a4dc0, self=<kyurem_client.widgets.Distribution.Distribution object at 0x7f94b…"
      ]
     },
     "metadata": {},
     "output_type": "display_data"
    }
   ],
   "source": [
    "widget = Distribution(node_granularity_dist)\n",
    "widget.show()"
   ]
  },
  {
   "cell_type": "markdown",
   "id": "7b910c3c",
   "metadata": {},
   "source": [
    "# Display Dual Distribution"
   ]
  },
  {
   "cell_type": "code",
   "execution_count": 9,
   "id": "c5e3108a",
   "metadata": {},
   "outputs": [
    {
     "data": {
      "text/plain": [
       "show(7f94bc0df820, self=<kyurem_client.widgets.DualDistribution.DualDistribution object at 0x7f94bc0ed790>)"
      ]
     },
     "execution_count": 9,
     "metadata": {},
     "output_type": "execute_result"
    },
    {
     "data": {
      "application/vnd.jupyter.widget-view+json": {
       "model_id": "c2cf9671b2c74ab3b42984d28c9ffc82",
       "version_major": 2,
       "version_minor": 0
      },
      "text/plain": [
       "LayoutWidget(Layout(show(7f94bc0df820, self=<kyurem_client.widgets.DualDistribution.DualDistribution object at…"
      ]
     },
     "metadata": {},
     "output_type": "display_data"
    }
   ],
   "source": [
    "widget = DualDistribution(node_dist, node_granularity_dist)\n",
    "widget.show()"
   ]
  },
  {
   "cell_type": "markdown",
   "id": "90e7cc16",
   "metadata": {},
   "source": [
    "# Display Linked Distribution"
   ]
  },
  {
   "cell_type": "code",
   "execution_count": 10,
   "id": "4142fda2",
   "metadata": {},
   "outputs": [
    {
     "data": {
      "text/plain": [
       "show(7f94bc0d8280, self=<kyurem_client.widgets.LinkedDistribution.LinkedDistribution object at 0x7f94bc0f56d0>)"
      ]
     },
     "execution_count": 10,
     "metadata": {},
     "output_type": "execute_result"
    },
    {
     "data": {
      "application/vnd.jupyter.widget-view+json": {
       "model_id": "996cd28bc6b9494badbce02369a5ef30",
       "version_major": 2,
       "version_minor": 0
      },
      "text/plain": [
       "LayoutWidget(Layout(show(7f94bc0d8280, self=<kyurem_client.widgets.LinkedDistribution.LinkedDistribution objec…"
      ]
     },
     "metadata": {},
     "output_type": "display_data"
    }
   ],
   "source": [
    "widget = LinkedDistribution(node_dist, node_granularity_dist, service)\n",
    "widget.show()"
   ]
  },
  {
   "cell_type": "code",
   "execution_count": null,
   "id": "f26d3397",
   "metadata": {},
   "outputs": [],
   "source": []
  }
 ],
 "metadata": {
  "kernelspec": {
   "display_name": "Python 3 (ipykernel)",
   "language": "python",
   "name": "python3"
  },
  "language_info": {
   "codemirror_mode": {
    "name": "ipython",
    "version": 3
   },
   "file_extension": ".py",
   "mimetype": "text/x-python",
   "name": "python",
   "nbconvert_exporter": "python",
   "pygments_lexer": "ipython3",
   "version": "3.8.13"
  }
 },
 "nbformat": 4,
 "nbformat_minor": 5
}
