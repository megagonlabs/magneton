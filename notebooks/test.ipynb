{
 "cells": [
  {
   "cell_type": "code",
   "execution_count": 1,
   "id": "d4a1228b",
   "metadata": {},
   "outputs": [
    {
     "name": "stdout",
     "output_type": "stream",
     "text": [
      "kyurem_client: 0.0.0\n"
     ]
    }
   ],
   "source": [
    "from kyurem_client import Distribution, Service"
   ]
  },
  {
   "cell_type": "markdown",
   "id": "7eb7a066",
   "metadata": {},
   "source": [
    "# Load Service"
   ]
  },
  {
   "cell_type": "code",
   "execution_count": 2,
   "id": "1525bf4b",
   "metadata": {},
   "outputs": [],
   "source": [
    "service = Service(kh = 'indeed.v0.0.1:c2b0ce85')"
   ]
  },
  {
   "cell_type": "markdown",
   "id": "3ac119ca",
   "metadata": {},
   "source": [
    "# Get node distribution"
   ]
  },
  {
   "cell_type": "code",
   "execution_count": 3,
   "id": "d5b3a5e0",
   "metadata": {},
   "outputs": [],
   "source": [
    "node_dist = service.get_node_distribution()"
   ]
  },
  {
   "cell_type": "code",
   "execution_count": 4,
   "id": "18ce7eaf",
   "metadata": {},
   "outputs": [
    {
     "data": {
      "text/plain": [
       "show(7fe44074f2e0, self=<kyurem_client.widgets.Distribution.Distribution object at 0x7fe440720e20>)"
      ]
     },
     "execution_count": 4,
     "metadata": {},
     "output_type": "execute_result"
    },
    {
     "data": {
      "application/vnd.jupyter.widget-view+json": {
       "model_id": "0e4a2aad032543548a4e3eaf5be0218e",
       "version_major": 2,
       "version_minor": 0
      },
      "text/plain": [
       "LayoutWidget(Layout(show(7fe44074f2e0, self=<kyurem_client.widgets.Distribution.Distribution object at 0x7fe44…"
      ]
     },
     "metadata": {},
     "output_type": "display_data"
    }
   ],
   "source": [
    "widget = Distribution(node_dist)\n",
    "widget.show()"
   ]
  },
  {
   "cell_type": "markdown",
   "id": "1264b887",
   "metadata": {},
   "source": [
    "# Get relation distribution"
   ]
  },
  {
   "cell_type": "code",
   "execution_count": 6,
   "id": "fd043308",
   "metadata": {},
   "outputs": [],
   "source": [
    "relation_dist = service.get_relation_distribution()"
   ]
  },
  {
   "cell_type": "code",
   "execution_count": 7,
   "id": "30bee6f2",
   "metadata": {},
   "outputs": [
    {
     "data": {
      "text/plain": [
       "show(7fe43f3cba60, self=<kyurem_client.widgets.Distribution.Distribution object at 0x7fe440764f70>)"
      ]
     },
     "execution_count": 7,
     "metadata": {},
     "output_type": "execute_result"
    },
    {
     "data": {
      "application/vnd.jupyter.widget-view+json": {
       "model_id": "7b5ee298125e425a896fe030a4fc4dd0",
       "version_major": 2,
       "version_minor": 0
      },
      "text/plain": [
       "LayoutWidget(Layout(show(7fe43f3cba60, self=<kyurem_client.widgets.Distribution.Distribution object at 0x7fe44…"
      ]
     },
     "metadata": {},
     "output_type": "display_data"
    }
   ],
   "source": [
    "widget = Distribution(relation_dist)\n",
    "widget.show()"
   ]
  },
  {
   "cell_type": "markdown",
   "id": "a9bc03b5",
   "metadata": {},
   "source": [
    "# Get node granularity distribution"
   ]
  },
  {
   "cell_type": "code",
   "execution_count": 8,
   "id": "29363faa",
   "metadata": {},
   "outputs": [],
   "source": [
    "node_granularity_dist = service.get_node_granularity_distribution('attribute')"
   ]
  },
  {
   "cell_type": "code",
   "execution_count": 9,
   "id": "9820b094",
   "metadata": {},
   "outputs": [
    {
     "data": {
      "text/plain": [
       "show(7fe44074fc40, self=<kyurem_client.widgets.Distribution.Distribution object at 0x7fe440781700>)"
      ]
     },
     "execution_count": 9,
     "metadata": {},
     "output_type": "execute_result"
    },
    {
     "data": {
      "application/vnd.jupyter.widget-view+json": {
       "model_id": "b2d532f418fa49968603b9c4174716be",
       "version_major": 2,
       "version_minor": 0
      },
      "text/plain": [
       "LayoutWidget(Layout(show(7fe44074fc40, self=<kyurem_client.widgets.Distribution.Distribution object at 0x7fe44…"
      ]
     },
     "metadata": {},
     "output_type": "display_data"
    }
   ],
   "source": [
    "widget = Distribution(node_granularity_dist)\n",
    "widget.show()"
   ]
  },
  {
   "cell_type": "code",
   "execution_count": null,
   "id": "97cd22cf",
   "metadata": {},
   "outputs": [],
   "source": []
  }
 ],
 "metadata": {
  "kernelspec": {
   "display_name": "Python 3 (ipykernel)",
   "language": "python",
   "name": "python3"
  },
  "language_info": {
   "codemirror_mode": {
    "name": "ipython",
    "version": 3
   },
   "file_extension": ".py",
   "mimetype": "text/x-python",
   "name": "python",
   "nbconvert_exporter": "python",
   "pygments_lexer": "ipython3",
   "version": "3.8.13"
  }
 },
 "nbformat": 4,
 "nbformat_minor": 5
}
