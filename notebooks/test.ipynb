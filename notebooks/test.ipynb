{
 "cells": [
  {
   "cell_type": "code",
   "execution_count": null,
   "id": "d4a1228b",
   "metadata": {},
   "outputs": [],
   "source": [
    "from kyurem_client import Distribution, DualDistribution, LinkedDistribution, Schema, Service"
   ]
  },
  {
   "cell_type": "markdown",
   "id": "7eb7a066",
   "metadata": {},
   "source": [
    "# Load Service"
   ]
  },
  {
   "cell_type": "code",
   "execution_count": null,
   "id": "1525bf4b",
   "metadata": {},
   "outputs": [],
   "source": [
    "service = Service(kh = 'indeed.v0.0.1:c2b0ce85')"
   ]
  },
  {
   "cell_type": "markdown",
   "id": "3ac119ca",
   "metadata": {},
   "source": [
    "# Get node distribution"
   ]
  },
  {
   "cell_type": "code",
   "execution_count": null,
   "id": "d5b3a5e0",
   "metadata": {},
   "outputs": [],
   "source": [
    "node_dist = service.get_node_distribution()"
   ]
  },
  {
   "cell_type": "code",
   "execution_count": null,
   "id": "18ce7eaf",
   "metadata": {},
   "outputs": [],
   "source": [
    "widget = Distribution(node_dist)\n",
    "widget.show()"
   ]
  },
  {
   "cell_type": "markdown",
   "id": "1264b887",
   "metadata": {},
   "source": [
    "# Get relation distribution"
   ]
  },
  {
   "cell_type": "code",
   "execution_count": null,
   "id": "fd043308",
   "metadata": {},
   "outputs": [],
   "source": [
    "relation_dist = service.get_relation_distribution()"
   ]
  },
  {
   "cell_type": "code",
   "execution_count": null,
   "id": "30bee6f2",
   "metadata": {},
   "outputs": [],
   "source": [
    "widget = Distribution(relation_dist)\n",
    "widget.show()"
   ]
  },
  {
   "cell_type": "markdown",
   "id": "a9bc03b5",
   "metadata": {},
   "source": [
    "# Get node granularity distribution"
   ]
  },
  {
   "cell_type": "code",
   "execution_count": null,
   "id": "29363faa",
   "metadata": {},
   "outputs": [],
   "source": [
    "granularity_dist = service.get_node_granularity_distribution()"
   ]
  },
  {
   "cell_type": "code",
   "execution_count": null,
   "id": "9820b094",
   "metadata": {},
   "outputs": [],
   "source": [
    "widget = Distribution(granularity_dist)\n",
    "widget.show()"
   ]
  },
  {
   "cell_type": "code",
   "execution_count": null,
   "id": "d7d9893a",
   "metadata": {},
   "outputs": [],
   "source": [
    "node_granularity_dist = service.get_node_granularity_distribution('attribute')"
   ]
  },
  {
   "cell_type": "code",
   "execution_count": null,
   "id": "1939e063",
   "metadata": {},
   "outputs": [],
   "source": [
    "widget = Distribution(node_granularity_dist)\n",
    "widget.show()"
   ]
  },
  {
   "cell_type": "markdown",
   "id": "7b910c3c",
   "metadata": {},
   "source": [
    "# Display Dual Distribution"
   ]
  },
  {
   "cell_type": "code",
   "execution_count": null,
   "id": "c5e3108a",
   "metadata": {},
   "outputs": [],
   "source": [
    "widget = DualDistribution(node_dist, granularity_dist)\n",
    "widget.show()"
   ]
  },
  {
   "cell_type": "markdown",
   "id": "90e7cc16",
   "metadata": {},
   "source": [
    "# Display Linked Distribution"
   ]
  },
  {
   "cell_type": "code",
   "execution_count": null,
   "id": "4142fda2",
   "metadata": {},
   "outputs": [],
   "source": [
    "widget = LinkedDistribution(node_dist, granularity_dist, service)\n",
    "widget.show()"
   ]
  },
  {
   "cell_type": "markdown",
   "id": "d5b8df4c",
   "metadata": {},
   "source": [
    "# Display Schema"
   ]
  },
  {
   "cell_type": "code",
   "execution_count": null,
   "id": "fbd65cc9",
   "metadata": {},
   "outputs": [],
   "source": [
    "schema = service.get_kh_edge_list()"
   ]
  },
  {
   "cell_type": "code",
   "execution_count": null,
   "id": "31c472b2",
   "metadata": {},
   "outputs": [],
   "source": [
    "widget = Schema(schema)\n",
    "widget.show()"
   ]
  },
  {
   "cell_type": "markdown",
   "id": "7bca84c0",
   "metadata": {},
   "source": [
    "# Get Children Node Dist"
   ]
  },
  {
   "cell_type": "code",
   "execution_count": null,
   "id": "10194ddf",
   "metadata": {},
   "outputs": [],
   "source": [
    "children_node_dist = service.get_children_node_distributions('attribute')"
   ]
  },
  {
   "cell_type": "code",
   "execution_count": null,
   "id": "4f3fe0bc",
   "metadata": {},
   "outputs": [],
   "source": [
    "children_node_dist"
   ]
  },
  {
   "cell_type": "code",
   "execution_count": null,
   "id": "f804c589",
   "metadata": {},
   "outputs": [],
   "source": [
    "widget = Distribution(children_node_dist)\n",
    "widget.show()"
   ]
  },
  {
   "cell_type": "markdown",
   "id": "037d3699",
   "metadata": {},
   "source": [
    "# Get Node Degree Distribution"
   ]
  },
  {
   "cell_type": "code",
   "execution_count": null,
   "id": "91164ab0",
   "metadata": {},
   "outputs": [],
   "source": [
    "node_degree_dist = service.get_node_degree_distributions('attribute')"
   ]
  },
  {
   "cell_type": "code",
   "execution_count": null,
   "id": "c9ccc192",
   "metadata": {},
   "outputs": [],
   "source": [
    "node_degree_dist"
   ]
  },
  {
   "cell_type": "code",
   "execution_count": null,
   "id": "baeb533f",
   "metadata": {},
   "outputs": [],
   "source": [
    "widget = Distribution(node_degree_dist)\n",
    "widget.show()"
   ]
  },
  {
   "cell_type": "code",
   "execution_count": null,
   "id": "9b42646f",
   "metadata": {},
   "outputs": [],
   "source": []
  }
 ],
 "metadata": {
  "kernelspec": {
   "display_name": "Python 3 (ipykernel)",
   "language": "python",
   "name": "python3"
  },
  "language_info": {
   "codemirror_mode": {
    "name": "ipython",
    "version": 3
   },
   "file_extension": ".py",
   "mimetype": "text/x-python",
   "name": "python",
   "nbconvert_exporter": "python",
   "pygments_lexer": "ipython3",
   "version": "3.8.13"
  }
 },
 "nbformat": 4,
 "nbformat_minor": 5
}
