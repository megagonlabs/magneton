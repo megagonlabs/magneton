{
 "cells": [
  {
   "cell_type": "markdown",
   "id": "ec1ee393",
   "metadata": {},
   "source": [
    "# Import Widget Libraries"
   ]
  },
  {
   "cell_type": "code",
   "execution_count": 1,
   "id": "d4a1228b",
   "metadata": {},
   "outputs": [
    {
     "name": "stdout",
     "output_type": "stream",
     "text": [
      "kyurem_client: 0.0.0\n"
     ]
    }
   ],
   "source": [
    "%load_ext autoreload   \n",
    "%autoreload 2\n",
    "import kyurem\n",
    "from kyurem.core.idom_loader import reload_bundle\n",
    "from kyurem.core.widget import WidgetModel"
   ]
  },
  {
   "cell_type": "markdown",
   "id": "56d8a3e9",
   "metadata": {},
   "source": [
    "# Import Graph Querying Library"
   ]
  },
  {
   "cell_type": "code",
   "execution_count": 2,
   "id": "9c44e8e4",
   "metadata": {},
   "outputs": [],
   "source": [
    "from kyurem import Service\n",
    "service = Service(kh = 'indeed.v0.0.1:612e3403')"
   ]
  },
  {
   "cell_type": "code",
   "execution_count": 3,
   "id": "53dc8ef8",
   "metadata": {},
   "outputs": [],
   "source": [
    "schema = service.get_kh_edge_list()"
   ]
  },
  {
   "cell_type": "markdown",
   "id": "d5c99b58",
   "metadata": {},
   "source": [
    "# Create an Overview/Exploration Widget"
   ]
  },
  {
   "cell_type": "code",
   "execution_count": 4,
   "id": "4f1794f4",
   "metadata": {
    "scrolled": false
   },
   "outputs": [
    {
     "data": {
      "text/plain": [
       "component(7fbf856f2820, self=<kyurem.core.widget.widget_base.WidgetBase object at 0x7fbf84e40160>)"
      ]
     },
     "execution_count": 8,
     "metadata": {},
     "output_type": "execute_result"
    },
    {
     "data": {
      "application/vnd.jupyter.widget-view+json": {
       "model_id": "374c84aac2e64ee29c4f51c25e8dabe1",
       "version_major": 2,
       "version_minor": 0
      },
      "text/plain": [
       "LayoutWidget(Layout(component(7fbf856f2820, self=<kyurem.core.widget.widget_base.WidgetBase object at 0x7fbf84…"
      ]
     },
     "metadata": {},
     "output_type": "display_data"
    }
   ],
   "source": [
    "from kyurem import Explorer\n",
    "reload_bundle()\n",
    "\n",
    "explorer = Explorer(service)\n",
    "explorer.model.data.schema = schema\n",
    "\n",
    "explorer.model.children_distribution=service.get_children_node_distributions\n",
    "explorer.model.relation_distribution=lambda x: service.get_node_degree_distributions(x) if x else service.get_relation_distribution()\n",
    "\n",
    "explorer.model.node_neighborhood_schema=service.get_node_neighborhood\n",
    "explorer.model.relation_neighborhood_schema=service.get_relation_neighborhood\n",
    "\n",
    "explorer.show()"
   ]
  },
  {
   "cell_type": "markdown",
   "id": "94186b42",
   "metadata": {},
   "source": [
    "# Reusability: Access Widget State"
   ]
  },
  {
   "cell_type": "code",
   "execution_count": null,
   "id": "b440c25a",
   "metadata": {},
   "outputs": [],
   "source": []
  }
 ],
 "metadata": {
  "kernelspec": {
   "display_name": "Python 3 (ipykernel)",
   "language": "python",
   "name": "python3"
  },
  "language_info": {
   "codemirror_mode": {
    "name": "ipython",
    "version": 3
   },
   "file_extension": ".py",
   "mimetype": "text/x-python",
   "name": "python",
   "nbconvert_exporter": "python",
   "pygments_lexer": "ipython3",
   "version": "3.9.13"
  },
  "vscode": {
   "interpreter": {
    "hash": "1969bb85aac28e13d40e6bbb10858a8d5a24994d890621fece8ba081534ca906"
   }
  }
 },
 "nbformat": 4,
 "nbformat_minor": 5
}
