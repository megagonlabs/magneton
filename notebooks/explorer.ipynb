{
 "cells": [
  {
   "cell_type": "markdown",
   "id": "881078cd",
   "metadata": {},
   "source": [
    "## Import Widget Libraries"
   ]
  },
  {
   "cell_type": "code",
   "execution_count": null,
   "id": "d4a1228b",
   "metadata": {},
   "outputs": [],
   "source": [
    "%load_ext autoreload   \n",
    "%autoreload 2\n",
    "import kyurem\n",
    "from kyurem.core.idom_loader import reload_bundle\n",
    "from kyurem.core.widget import WidgetModel"
   ]
  },
  {
   "cell_type": "markdown",
   "id": "f2145520",
   "metadata": {},
   "source": [
    "## Import Graph Querying Library"
   ]
  },
  {
   "cell_type": "code",
   "execution_count": null,
   "id": "9c44e8e4",
   "metadata": {},
   "outputs": [],
   "source": [
    "from kyurem import Service\n",
    "service = Service(kh = 'indeed.v0.0.1:c2b0ce85')"
   ]
  },
  {
   "cell_type": "code",
   "execution_count": null,
   "id": "53dc8ef8",
   "metadata": {},
   "outputs": [],
   "source": [
    "schema = service.get_kh_edge_list()"
   ]
  },
  {
   "cell_type": "markdown",
   "id": "15d88e4f",
   "metadata": {},
   "source": [
    "## Create an Overview/Exploration Widget"
   ]
  },
  {
   "cell_type": "code",
   "execution_count": null,
   "id": "4f1794f4",
   "metadata": {
    "scrolled": false
   },
   "outputs": [],
   "source": [
    "from kyurem import Explorer\n",
    "reload_bundle()\n",
    "\n",
    "explorer = Explorer(service)\n",
    "explorer.model.data.schema = schema\n",
    "explorer.show()"
   ]
  },
  {
   "cell_type": "markdown",
   "id": "369bbc50",
   "metadata": {},
   "source": [
    "## Reusability: Access Widget State"
   ]
  },
  {
   "cell_type": "code",
   "execution_count": null,
   "id": "e0e063e6",
   "metadata": {},
   "outputs": [],
   "source": [
    "from kyurem.utils.mdump import *\n",
    "print(mdump(explorer.model, 2))"
   ]
  },
  {
   "cell_type": "markdown",
   "id": "837cdc9f",
   "metadata": {},
   "source": [
    "## Reproducibility and Synchronization"
   ]
  },
  {
   "cell_type": "code",
   "execution_count": null,
   "id": "bde59254",
   "metadata": {},
   "outputs": [],
   "source": [
    "explorer2 = Explorer(explorer.model)\n",
    "explorer2.show()"
   ]
  },
  {
   "cell_type": "code",
   "execution_count": null,
   "id": "17ccf145",
   "metadata": {},
   "outputs": [],
   "source": []
  }
 ],
 "metadata": {
  "kernelspec": {
   "display_name": "Python 3 (ipykernel)",
   "language": "python",
   "name": "python3"
  },
  "language_info": {
   "codemirror_mode": {
    "name": "ipython",
    "version": 3
   },
   "file_extension": ".py",
   "mimetype": "text/x-python",
   "name": "python",
   "nbconvert_exporter": "python",
   "pygments_lexer": "ipython3",
   "version": "3.9.13"
  },
  "vscode": {
   "interpreter": {
    "hash": "1969bb85aac28e13d40e6bbb10858a8d5a24994d890621fece8ba081534ca906"
   }
  }
 },
 "nbformat": 4,
 "nbformat_minor": 5
}
