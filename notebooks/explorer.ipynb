{
 "cells": [
  {
   "cell_type": "markdown",
   "id": "ec1ee393",
   "metadata": {},
   "source": [
    "# Import Widget Libraries"
   ]
  },
  {
   "cell_type": "code",
   "execution_count": 1,
   "id": "d4a1228b",
   "metadata": {},
   "outputs": [
    {
     "name": "stdout",
     "output_type": "stream",
     "text": [
      "kyurem_client: 0.0.0\n"
     ]
    }
   ],
   "source": [
    "%load_ext autoreload   \n",
    "%autoreload 2\n",
    "import kyurem\n",
    "from kyurem.core.idom_loader import reload_bundle\n",
    "from kyurem.core.widget import WidgetModel"
   ]
  },
  {
   "cell_type": "markdown",
   "id": "56d8a3e9",
   "metadata": {},
   "source": [
    "# Import Graph Querying Library"
   ]
  },
  {
   "cell_type": "code",
   "execution_count": 2,
   "id": "9c44e8e4",
   "metadata": {},
   "outputs": [],
   "source": [
    "from kyurem import Service\n",
    "service = Service(kh = 'indeed.v0.0.1:612e3403')"
   ]
  },
  {
   "cell_type": "code",
   "execution_count": 3,
   "id": "53dc8ef8",
   "metadata": {},
   "outputs": [],
   "source": [
    "schema = service.get_kh_edge_list()"
   ]
  },
  {
   "cell_type": "markdown",
   "id": "d5c99b58",
   "metadata": {},
   "source": [
    "# Create an Overview/Exploration Widget"
   ]
  },
  {
   "cell_type": "code",
   "execution_count": 4,
   "id": "4f1794f4",
   "metadata": {
    "scrolled": false
   },
   "outputs": [
    {
     "data": {
      "text/plain": [
       "show(1069b2ee0, self=<kyurem.widgets.Explorer.Explorer object at 0x1076b35b0>)"
      ]
     },
     "execution_count": 4,
     "metadata": {},
     "output_type": "execute_result"
    },
    {
     "data": {
      "application/vnd.jupyter.widget-view+json": {
       "model_id": "d6e9006ac35149eb9667a643f63db23c",
       "version_major": 2,
       "version_minor": 0
      },
      "text/plain": [
       "LayoutWidget(Layout(show(1069b2ee0, self=<kyurem.widgets.Explorer.Explorer object at 0x1076b35b0>)))"
      ]
     },
     "metadata": {},
     "output_type": "display_data"
    }
   ],
   "source": [
    "from kyurem import Explorer\n",
    "reload_bundle()\n",
    "\n",
    "explorer = Explorer()\n",
    "explorer.model.schema = schema\n",
    "\n",
    "explorer.model.children_distribution=service.get_children_node_distributions\n",
    "explorer.model.relation_distribution=lambda x: service.get_node_degree_distributions(x) if x else service.get_relation_distribution()\n",
    "\n",
    "explorer.model.node_neighborhood_schema=service.get_node_neighborhood\n",
    "explorer.model.relation_neighborhood_schema=service.get_relation_neighborhood\n",
    "\n",
    "explorer.show()"
   ]
  },
  {
   "cell_type": "markdown",
   "id": "94186b42",
   "metadata": {},
   "source": [
    "# Reusability: Access Widget State"
   ]
  },
  {
   "cell_type": "code",
   "execution_count": 8,
   "id": "49654e08",
   "metadata": {},
   "outputs": [
    {
     "data": {
      "text/plain": [
       "[{'x': 'Media, Arts & Design Occupations', 'y': 2}, {'x': 'Technology Occupations', 'y': 2}, {'x': 'Science & Research Occupations', 'y': 2}, {'x': 'Sales & Retail Occupations', 'y': 2}, {'x': 'Cleaning & Grounds Maintenance Occupations', 'y': 2}, {'x': 'Manufacturing, Installation & Maintenance Occupations', 'y': 2}, {'x': 'Repair, Maintenance & Installation Occupations', 'y': 2}, {'x': 'Alarm System & Access Control Technicians', 'y': 2}, {'x': 'Biomedical Engineering Technicians', 'y': 2}, {'x': 'Academic & Standardized Testing Occupations', 'y': 2}, {'x': 'Academic Admissions & Registrar Occupations', 'y': 2}, {'x': 'Instructional & Curriculum Developers', 'y': 2}, {'x': 'Finance Operations Occupations', 'y': 2}, {'x': 'Insurance Claims & Inspection Occupations', 'y': 2}, {'x': 'Insurance Industry Occupations', 'y': 2}, {'x': 'Accounts Payable Occupations', 'y': 2}, {'x': 'Massage Therapy Occupations', 'y': 2}, {'x': 'Marriage, Child & Family Therapists & Counselors', 'y': 2}, {'x': 'Human Resources Occupations', 'y': 2}, {'x': 'Administrative Assistants', 'y': 2}, {'x': 'Secretaries & Receptionists', 'y': 2}, {'x': 'Office Clerks', 'y': 2}, {'x': 'Cash Store & Payday Loan Occupations', 'y': 2}, {'x': 'Administrative and Business Operations Specialists in Healthcare', 'y': 2}, {'x': 'Software Development & Architecture Occupations', 'y': 2}, {'x': 'Technical Support  Occupations', 'y': 2}, {'x': 'Technical Support Occupations', 'y': 2}, {'x': 'Logistics Occupations', 'y': 2}, {'x': 'Train Transportation Occupations', 'y': 2}, {'x': 'University & Community College Educators', 'y': 2}, {'x': 'Hair Stylists', 'y': 2}, {'x': 'Fishing & Hunting Occupations', 'y': 2}, {'x': 'Crop Farming Occupations', 'y': 2}, {'x': 'Automotive Maintenance & Repair Occupations', 'y': 2}, {'x': 'Diesel Engine, Truck & Heavy Equipment Mechanics', 'y': 2}, {'x': 'Vehicle Technology Occupations', 'y': 2}, {'x': 'Industrial Mechanics', 'y': 2}, {'x': 'Pharmacy Occupations', 'y': 2}, {'x': 'Legal Advice & Information Occupations', 'y': 2}, {'x': 'Diagnostic Technicians', 'y': 2}, {'x': 'Dietitians & Nutritionists', 'y': 2}, {'x': 'Infection Prevention Occupations', 'y': 2}, {'x': 'Massage & Relaxation Occupations', 'y': 2}, {'x': 'Mapping & Surveying Occupations', 'y': 2}, {'x': 'Engineering Occupations', 'y': 2}, {'x': 'Librarians', 'y': 2}, {'x': 'Facility Security Guards', 'y': 2}, {'x': 'Security Guards', 'y': 2}, {'x': 'Arts & Design Occupations', 'y': 2}, {'x': 'Media & Communications Occupations', 'y': 2}, {'x': 'Initial Education Teachers', 'y': 2}, {'x': 'Automotive Mechanics', 'y': 2}, {'x': 'Real Estate Agents & Brokers', 'y': 2}, {'x': 'Game Developers', 'y': 2}, {'x': 'Cooks', 'y': 2}, {'x': 'Food & Beverage Service Support Occupations ', 'y': 2}, {'x': 'Cell & Molecular Biologists', 'y': 2}, {'x': 'Biohazard & Remediation Technicians', 'y': 2}, {'x': 'Product Marketing Occupations', 'y': 2}, {'x': 'Electricians', 'y': 2}, {'x': 'Mining & Extraction Occupations', 'y': 2}, {'x': 'Pipefitters', 'y': 2}, {'x': 'Welders & Fabricators', 'y': 2}, {'x': 'Building Finishing Occupations', 'y': 2}, {'x': 'Carpenters', 'y': 2}, {'x': 'Bus Drivers', 'y': 2}, {'x': 'Heavy & Tractor-Trailer Truck Drivers', 'y': 2}, {'x': 'Passenger Vehicle Drivers', 'y': 2}, {'x': 'Independent Living Skills Trainers', 'y': 2}, {'x': 'Social Work & Social Pedagogy Occupations', 'y': 2}, {'x': 'Event Planners & Managers', 'y': 2}, {'x': 'Hotel & Accommodations Occupations', 'y': 2}, {'x': 'Visa Consultants', 'y': 2}, {'x': 'Commercial Pilots', 'y': 2}, {'x': 'Child & Youth Therapists & Counselors', 'y': 2}, {'x': 'Technology Infrastructure Occupations', 'y': 2}, {'x': 'Computer Network Occupations', 'y': 2}, {'x': 'Medical Social Workers', 'y': 2}, {'x': 'Construction Estimators', 'y': 2}, {'x': 'Content Marketing Occupations', 'y': 2}, {'x': 'Occupational Health & Safety Occupations', 'y': 2}, {'x': 'Legal Clerks', 'y': 2}, {'x': 'Cram School & Prep School Tutors', 'y': 2}, {'x': 'Debt Relief & Consolidation Specialists', 'y': 2}, {'x': 'Dental Assistants', 'y': 2}, {'x': 'Fire Safety Occupations', 'y': 2}, {'x': 'Roofers & Siding Installers', 'y': 2}, {'x': 'Journalism & Reporting Occupations', 'y': 2}, {'x': 'Media & Communications Operations & Management Occupations', 'y': 2}, {'x': 'Writers & Editors', 'y': 2}, {'x': 'Manufacturing, Installation, and Maintenance Engineering Occupations', 'y': 2}, {'x': 'Plumbing, Heating and Cooling Occupations', 'y': 2}, {'x': 'Industrial Automation, Maintenance, Installation & Process Improvement Occupations', 'y': 2}, {'x': 'Machinists, Welders & Machine Operators', 'y': 2}, {'x': 'Valuation Occupations', 'y': 2}, {'x': 'Quantitative Financial Analysis Occupations', 'y': 2}, {'x': 'Financial Compliance & Regulatory Occupations', 'y': 2}, {'x': 'Petrochemical & Natural Gas Occupations', 'y': 2}, {'x': 'Hotel & Accommodations Guest Services Staff', 'y': 2}, {'x': 'Recruiters ', 'y': 2}, {'x': 'Industrial Maintenance & Installation Occupations', 'y': 2}, {'x': 'Insurance Claims Adjusters & Examiners', 'y': 2}, {'x': 'Supply Chain Operations Occupations', 'y': 2}, {'x': 'Machinists', 'y': 2}, {'x': 'Machine Structural Engineers', 'y': 2}, {'x': 'Media & Communications Directors', 'y': 2}, {'x': 'Telecommunications Infrastructure Technicians', 'y': 2}, {'x': 'Quality Control Inspectors', 'y': 2}, {'x': 'Testing Technicians', 'y': 2}, {'x': 'Purchasing Agents', 'y': 2}, {'x': 'Purchasing Executives & Buyers', 'y': 2}, {'x': 'Software Quality Assurance Occupations', 'y': 2}, {'x': 'Train Operators', 'y': 2}, {'x': 'Finance & Accounting Occupations', 'y': 3}, {'x': 'Transportation Occupations', 'y': 3}, {'x': 'Food & Beverage Occupations', 'y': 3}, {'x': 'Military & Intelligence Occupations', 'y': 3}, {'x': 'Farming, Fishing & Forestry Occupations', 'y': 3}, {'x': 'AV & Communication System Technicians', 'y': 3}, {'x': 'Finance & Accounting Management Occupations', 'y': 3}, {'x': 'Military Operations Occupations', 'y': 3}, {'x': 'Performing Arts Occupations', 'y': 3}, {'x': 'Licensed & Registered Nurses', 'y': 3}, {'x': 'Business Strategy & Management Occupations', 'y': 3}, {'x': 'Field Service Clerks', 'y': 3}, {'x': 'Property Leasing & Management Occupations', 'y': 3}, {'x': 'Public Administrators and Administrative Occupations', 'y': 3}, {'x': 'Remote Customer Service Occupations', 'y': 3}, {'x': 'Information Technology Administration Occupations', 'y': 3}, {'x': 'Systems Engineers', 'y': 3}, {'x': 'Dispatchers', 'y': 3}, {'x': 'Distribution Operations Occupations', 'y': 3}, {'x': 'Water Transportation Occupations', 'y': 3}, {'x': 'Chemical Engineers', 'y': 3}, {'x': 'Civil Engineers', 'y': 3}, {'x': 'Electrical Engineers', 'y': 3}, {'x': 'Biology & Chemistry Occupations', 'y': 3}, {'x': 'Pilots', 'y': 3}, {'x': 'Care Workers', 'y': 3}, {'x': 'Healthcare Assisting Occupations', 'y': 3}, {'x': 'Healthcare Science Practitioners & Assistants', 'y': 3}, {'x': 'Pharmacists', 'y': 3}, {'x': 'Alternative Dispute Resolution Occupations', 'y': 3}, {'x': 'Attorneys', 'y': 3}, {'x': 'Judicial Scriveners & Certified Administrative Procedures Specialists', 'y': 3}, {'x': 'Legal Advisors', 'y': 3}, {'x': 'Apparel Care Occupations', 'y': 3}, {'x': 'Household Support Occupations', 'y': 3}, {'x': 'Construction Planning & Management Occupations', 'y': 3}, {'x': 'Food and Beverage Sales Associates', 'y': 3}, {'x': 'Construction Materials Production Occupations', 'y': 3}, {'x': 'Textile, Paper & Wood Production Occupations', 'y': 3}, {'x': 'General Education Teachers', 'y': 3}, {'x': 'Substitute Teachers', 'y': 3}, {'x': 'Audiology Occupations', 'y': 3}, {'x': 'Respiratory Therapy Occupations', 'y': 3}, {'x': 'Speech-Language Pathology Occupations', 'y': 3}, {'x': 'Retail Occupations', 'y': 3}, {'x': 'Automotive Sales and Rental Occupations', 'y': 3}, {'x': 'Front End Developers', 'y': 3}, {'x': 'Mobile Developers', 'y': 3}, {'x': 'Excavation & Earth Moving Equipment Operators', 'y': 3}, {'x': 'Behavioral & Mental Health Technicians', 'y': 3}, {'x': 'Psychologists', 'y': 3}, {'x': 'Human Resources Management Occupations', 'y': 3}, {'x': 'Human Resources Senior Management Occupations', 'y': 3}, {'x': 'Chemists', 'y': 3}, {'x': 'Laboratory Occupations in Biology & Chemistry', 'y': 3}, {'x': 'HVAC & Appliance Technicians', 'y': 3}, {'x': 'Plumbing & HVAC Occupations', 'y': 3}, {'x': 'Electrical Engineering Occupations', 'y': 3}, {'x': 'Woodworking & Wood Production Occupations ', 'y': 3}, {'x': 'Food Service Managers', 'y': 3}, {'x': 'Care Occupations', 'y': 3}, {'x': 'Language Interpreters', 'y': 3}, {'x': 'Religious & Spiritual Occupations', 'y': 3}, {'x': 'Social Mentors & Counselors', 'y': 3}, {'x': 'Paper Production & Printing Occupations', 'y': 3}, {'x': 'Venue & Attractions Occupations', 'y': 3}, {'x': 'Industrial Food & Beverage Production Occupations', 'y': 3}, {'x': 'Circuit Engineers', 'y': 3}, {'x': 'Network Administrators & Architects', 'y': 3}, {'x': 'Systems & Applications Administrators', 'y': 3}, {'x': 'Technology Infrastructure Engineering Occupations', 'y': 3}, {'x': 'Systems & Applications Developers', 'y': 3}, {'x': 'Cloud Occupations', 'y': 3}, {'x': 'Network Occupations', 'y': 3}, {'x': 'Construction Quality Control Occupations', 'y': 3}, {'x': 'Search Marketing Occupations', 'y': 3}, {'x': 'Correctional Occupations', 'y': 3}, {'x': 'Investigative & Law Enforcement Occupations', 'y': 3}, {'x': 'General Education Tutors', 'y': 3}, {'x': 'Database Administrators & Architects', 'y': 3}, {'x': 'Secondary Education Teachers', 'y': 3}, {'x': 'Secondary General Education Teachers', 'y': 3}, {'x': 'Energy & Utilities Occupations', 'y': 3}, {'x': 'Manufacturing & Utilities Operations Occupations', 'y': 3}, {'x': 'Psychotherapeutic Occupations', 'y': 3}, {'x': 'Investment Management & Research Occupations', 'y': 3}, {'x': 'Risk & Credit Occupations', 'y': 3}, {'x': 'Gardeners & Landscapers', 'y': 3}, {'x': 'Health Informatics Occupations', 'y': 3}, {'x': 'Medical Transcriptionists & Scribes', 'y': 3}, {'x': 'Physicians', 'y': 3}, {'x': 'Laboratory Operations Occupations', 'y': 3}, {'x': 'Private & Criminal Investigative Occupations', 'y': 3}, {'x': 'Procurement & Purchasing Occupations', 'y': 3}, {'x': 'Risk & Credit Analysis Occupations', 'y': 3}, {'x': 'Ship & Boat Operators', 'y': 3}, {'x': 'Train Operations Support', 'y': 3}, {'x': 'Personal Service Occupations', 'y': 4}, {'x': 'Protective & Security Occupations', 'y': 4}, {'x': 'Education & Instruction Occupations', 'y': 4}, {'x': 'Electronics Installation & Repair Occupations', 'y': 4}, {'x': 'Accountants', 'y': 4}, {'x': 'Finance & Accounting Support Occupations', 'y': 4}, {'x': 'Health Services Social Workers', 'y': 4}, {'x': 'Nursing Assistants & Aides', 'y': 4}, {'x': 'Patient Access Occupations', 'y': 4}, {'x': 'Data & Database Occupations', 'y': 4}, {'x': 'Technical Project & Product Facilitation Occupations', 'y': 4}, {'x': 'Inventory Optimization & Planning Occupations', 'y': 4}, {'x': 'Material Moving & Warehousing Occupations', 'y': 4}, {'x': 'Rail Transportation Occupations', 'y': 4}, {'x': 'Library, Archives & Museum Occupations', 'y': 4}, {'x': 'Agricultural & Food Scientists', 'y': 4}, {'x': 'Biologists', 'y': 4}, {'x': 'Vehicle & Engine Technology Occupations', 'y': 4}, {'x': 'Engine & Equipment Technology Occupations', 'y': 4}, {'x': 'Medical Affairs Occupations', 'y': 4}, {'x': 'Medical Device Occupations', 'y': 4}, {'x': 'Mental & Behavioral Health Occupations', 'y': 4}, {'x': 'Veterinary Occupations', 'y': 4}, {'x': 'Healthcare Support', 'y': 4}, {'x': 'Drafters', 'y': 4}, {'x': 'Remodeling & Fixtures Sales Associates', 'y': 4}, {'x': 'Occupational Therapy Occupations', 'y': 4}, {'x': 'Physical Therapy Occupations', 'y': 4}, {'x': 'Automotive Body Repair & Refinishing Occupations', 'y': 4}, {'x': 'Automotive Sales & Rental Occupations', 'y': 4}, {'x': 'Retail Merchandising Occupations', 'y': 4}, {'x': 'Sales Strategy & Development Managers', 'y': 4}, {'x': 'Automotive Technology Occupations', 'y': 4}, {'x': 'Software Development Occupations', 'y': 4}, {'x': 'Behavior Analysts', 'y': 4}, {'x': 'Laundry Occupations', 'y': 4}, {'x': 'Health & Medical Researchers', 'y': 4}, {'x': 'Construction Management & Quality Control Occupations', 'y': 4}, {'x': 'Construction Structural Occupations', 'y': 4}, {'x': 'Plumbers', 'y': 4}, {'x': 'Personal Transportation Drivers', 'y': 4}, {'x': 'Business Development Occupations', 'y': 4}, {'x': 'Children, Youth & Family Services', 'y': 4}, {'x': 'Social Services Occupations', 'y': 4}, {'x': 'Casino & Gaming Occupations', 'y': 4}, {'x': 'Nurse Administrators', 'y': 4}, {'x': 'Systems & Applications Occupations', 'y': 4}, {'x': 'Family Services Occupations', 'y': 4}, {'x': 'Mentors & Peer Support Occupations', 'y': 4}, {'x': 'Public Assistance Occupations', 'y': 4}, {'x': 'Machine Material Movers', 'y': 4}, {'x': 'Data & Business Analysts', 'y': 4}, {'x': 'Data Developers', 'y': 4}, {'x': 'Office Specialists', 'y': 4}, {'x': 'Interpreters, Translators, Captionists & Transcribers', 'y': 4}, {'x': 'Product Quality & Safety Assurance Occupations', 'y': 4}, {'x': 'Manufacturing & Production Automation Occupations', 'y': 4}, {'x': 'Financial Advisory Occupations', 'y': 4}, {'x': 'Fundraising & Philanthropy Occupations', 'y': 4}, {'x': 'Special Education Teachers', 'y': 4}, {'x': 'Manufacturing, Installation, and Maintenance Engineering Technicians', 'y': 4}, {'x': 'Manufacturing, Installation, and Maintenance Engineers', 'y': 4}, {'x': 'Surveying Occupations', 'y': 4}, {'x': 'Production Planning & Scheduling Occupations', 'y': 4}, {'x': 'Sourcing & Procurement Occupations', 'y': 4}, {'x': 'Strategic Buyers', 'y': 4}, {'x': 'Healthcare Occupations', 'y': 5}, {'x': 'Community & Human Services Occupations', 'y': 5}, {'x': 'Executive Education Administrators', 'y': 5}, {'x': 'Banking & Lending Occupations', 'y': 5}, {'x': 'Music Occupations', 'y': 5}, {'x': 'Call Operation Occupations', 'y': 5}, {'x': 'Customer Support & Client Services Occupations', 'y': 5}, {'x': 'Lending & Mortgage Occupations', 'y': 5}, {'x': 'Web Design & User Experience Occupations', 'y': 5}, {'x': 'Engineers', 'y': 5}, {'x': 'Life & Physical Science Occupations', 'y': 5}, {'x': 'Earth & Environmental Scientists', 'y': 5}, {'x': 'Forestry & Logging Occupations', 'y': 5}, {'x': 'Dental Occupations', 'y': 5}, {'x': 'Healthcare Technicians', 'y': 5}, {'x': 'Patient Care Advocates', 'y': 5}, {'x': 'Pet Care Occupations', 'y': 5}, {'x': 'Architects & Planners', 'y': 5}, {'x': 'Healthcare & Veterinary Faculty', 'y': 5}, {'x': 'Mechanical Assembly Occupations', 'y': 5}, {'x': 'Early Childhood Educators', 'y': 5}, {'x': 'Teacher & Student Assistants', 'y': 5}, {'x': 'Sales Representatives', 'y': 5}, {'x': 'Recruiters & Staffing Occupations', 'y': 5}, {'x': 'Commercial Facilities Cleaners', 'y': 5}, {'x': 'Engineering Technicians', 'y': 5}, {'x': 'Marketing & Advertising Occupations', 'y': 5}, {'x': 'Electrical Construction Occupations', 'y': 5}, {'x': 'Care Services Coordinators', 'y': 5}, {'x': 'Caregivers', 'y': 5}, {'x': 'Funerary Occupations', 'y': 5}, {'x': 'Technology Infrastructure Administrators & Architects', 'y': 5}, {'x': 'Community Engagement Occupations', 'y': 5}, {'x': 'Emergency Management & Response Occupations', 'y': 5}, {'x': 'Public Safety Services Occupations', 'y': 5}, {'x': 'Social & Political Science Occupations', 'y': 5}, {'x': 'School Administration Occupations', 'y': 6}, {'x': 'Finance Management Occupations', 'y': 6}, {'x': 'Alternative Medicine Occupations', 'y': 6}, {'x': 'Administrative & Consulting Nurses', 'y': 6}, {'x': 'Healthcare Administrative Support Occupations', 'y': 6}, {'x': 'Post-secondary Teaching Occupations', 'y': 6}, {'x': 'Healthcare Management Occupations', 'y': 6}, {'x': 'Therapy Occupations ', 'y': 6}, {'x': 'Specimen Collection & Laboratory Analysis Occupations', 'y': 6}, {'x': 'Childcare Occupations', 'y': 6}, {'x': 'Physical Security Occupations', 'y': 6}, {'x': 'Food & Beverage Production Occupations', 'y': 6}, {'x': 'Food Preparation Occupations', 'y': 6}, {'x': 'Digital Marketing Occupations', 'y': 6}, {'x': 'Promotional Outreach Occupations', 'y': 6}, {'x': 'Manual Material Movers', 'y': 6}, {'x': 'Media & Communications Technical Occupations', 'y': 6}, {'x': 'Electrotechnical Installation and Maintenance Occupations', 'y': 6}, {'x': 'Public Relations Occupations', 'y': 6}, {'x': 'Administrative & Customer Support Occupations', 'y': 7}, {'x': 'Travel, Attractions & Events Occupations', 'y': 7}, {'x': 'Accounting Support Occupations', 'y': 7}, {'x': 'Advanced Practice Nurses', 'y': 7}, {'x': 'Health Information & Records Occupations', 'y': 7}, {'x': 'Personal Skills Instructors', 'y': 7}, {'x': 'Sports & Fitness Instructors', 'y': 7}, {'x': 'Farm & Ranch Occupations', 'y': 7}, {'x': 'Physicians & Physician Assistants', 'y': 7}, {'x': 'Domestic Service Occupations', 'y': 7}, {'x': 'Construction Management, Architecture and Mapping Occupations', 'y': 7}, {'x': 'Heavy Equipment Operators', 'y': 7}, {'x': 'Food & Beverage Service Occupations', 'y': 7}, {'x': 'Building Materials Installation Occupations', 'y': 7}, {'x': 'Senior Management Occupations', 'y': 7}, {'x': 'Caregivers & Residential Care Occupations', 'y': 7}, {'x': 'Construction Project Managers', 'y': 7}, {'x': 'Utilities Construction & Maintenance Occupations', 'y': 7}, {'x': 'Information & Network Security', 'y': 7}, {'x': 'Nurses', 'y': 8}, {'x': 'Administrative Assistants & Receptionists', 'y': 8}, {'x': 'Air Transportation Occupations', 'y': 8}, {'x': 'General Education & Test Preparation Tutors', 'y': 8}, {'x': 'Mechanical Engineers', 'y': 8}, {'x': 'Vehicle & Engine Maintenance & Repair Occupations', 'y': 8}, {'x': 'Ophthalmology Occupations', 'y': 8}, {'x': 'Technical Healthcare Occupations', 'y': 8}, {'x': 'Production & Assembly Occupations', 'y': 8}, {'x': 'Food Support Staff', 'y': 8}, {'x': 'Grounds Maintenance & Landscaping Occupations', 'y': 8}, {'x': 'Material Movers', 'y': 8}, {'x': 'Research Operations Occupations', 'y': 8}, {'x': 'Therapists & Counselors', 'y': 9}, {'x': 'Technology Management Occupations', 'y': 9}, {'x': 'Facilities Maintenance Occupations', 'y': 9}, {'x': 'Physical Health Therapy Occupations', 'y': 9}, {'x': 'Professors & Lecturers', 'y': 9}, {'x': 'Sales & Business Development Occupations', 'y': 9}, {'x': 'Cleaning & Sanitation Occupations', 'y': 9}, {'x': 'Machine Operators', 'y': 9}, {'x': 'Legal Occupations', 'y': 10}, {'x': 'Administrative & Business Operations Occupations', 'y': 10}, {'x': 'Designers & Visual Artists', 'y': 10}, {'x': 'Building & Hardscape Construction Occupations', 'y': 10}, {'x': 'Civil Infrastructure Occupations', 'y': 10}, {'x': 'Education Administration Occupations', 'y': 11}, {'x': 'Food & Beverage Servers', 'y': 11}, {'x': 'Early Childhood, Primary & Secondary School Educators', 'y': 12}, {'x': 'Patient Care Nurses', 'y': 13}, {'x': 'Motor Vehicle Transportation Occupations', 'y': 13}, {'x': 'Personal Beauty Occupations', 'y': 13}, {'x': 'Legal Support Occupations', 'y': 13}, {'x': 'Retail Associates & Cashiers', 'y': 14}, {'x': 'Vocational Educators', 'y': 19}, {'x': 'Allied Health Occupations', 'y': 26}]"
      ]
     },
     "execution_count": 8,
     "metadata": {},
     "output_type": "execute_result"
    }
   ],
   "source": [
    "explorer.model.children_dist"
   ]
  },
  {
   "cell_type": "markdown",
   "id": "d08d5e58",
   "metadata": {},
   "source": [
    "# Reproducibility and Synchronization"
   ]
  },
  {
   "cell_type": "code",
   "execution_count": 8,
   "id": "8a6742fc",
   "metadata": {},
   "outputs": [
    {
     "data": {
      "text/plain": [
       "show(10a85b160, self=<kyurem.widgets.Explorer.Explorer object at 0x10a95b820>)"
      ]
     },
     "execution_count": 8,
     "metadata": {},
     "output_type": "execute_result"
    },
    {
     "data": {
      "application/vnd.jupyter.widget-view+json": {
       "model_id": "2007213b757d47988c73a3d80a60cd96",
       "version_major": 2,
       "version_minor": 0
      },
      "text/plain": [
       "LayoutWidget(Layout(show(10a85b160, self=<kyurem.widgets.Explorer.Explorer object at 0x10a95b820>)))"
      ]
     },
     "metadata": {},
     "output_type": "display_data"
    }
   ],
   "source": [
    "explorer2 = Explorer(explorer.model)\n",
    "\n",
    "explorer2.show()"
   ]
  },
  {
   "cell_type": "code",
   "execution_count": null,
   "id": "c68e68fa",
   "metadata": {},
   "outputs": [],
   "source": []
  }
 ],
 "metadata": {
  "kernelspec": {
   "display_name": "Python 3 (ipykernel)",
   "language": "python",
   "name": "python3"
  },
  "language_info": {
   "codemirror_mode": {
    "name": "ipython",
    "version": 3
   },
   "file_extension": ".py",
   "mimetype": "text/x-python",
   "name": "python",
   "nbconvert_exporter": "python",
   "pygments_lexer": "ipython3",
   "version": "3.9.13"
  },
  "vscode": {
   "interpreter": {
    "hash": "1969bb85aac28e13d40e6bbb10858a8d5a24994d890621fece8ba081534ca906"
   }
  }
 },
 "nbformat": 4,
 "nbformat_minor": 5
}
