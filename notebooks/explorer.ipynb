{
 "cells": [
  {
   "cell_type": "code",
   "execution_count": 4,
   "id": "d4a1228b",
   "metadata": {},
   "outputs": [
    {
     "name": "stdout",
     "output_type": "stream",
     "text": [
      "The autoreload extension is already loaded. To reload it, use:\n",
      "  %reload_ext autoreload\n"
     ]
    }
   ],
   "source": [
    "%load_ext autoreload   \n",
    "%autoreload 2\n",
    "import kyurem\n",
    "from kyurem.core.idom_loader import reload_bundle\n",
    "from kyurem.core.widget import WidgetModel"
   ]
  },
  {
   "cell_type": "markdown",
   "id": "f2145520",
   "metadata": {},
   "source": [
    "## Connect to KH"
   ]
  },
  {
   "cell_type": "code",
   "execution_count": 5,
   "id": "9c44e8e4",
   "metadata": {},
   "outputs": [],
   "source": [
    "from kyurem import Service\n",
    "service = Service(kh = 'indeed.v0.0.1:c2b0ce85')"
   ]
  },
  {
   "cell_type": "markdown",
   "id": "15d88e4f",
   "metadata": {},
   "source": [
    "## Fetch Schema Graph"
   ]
  },
  {
   "cell_type": "code",
   "execution_count": 6,
   "id": "53dc8ef8",
   "metadata": {},
   "outputs": [],
   "source": [
    "schema = service.get_kh_edge_list()"
   ]
  },
  {
   "cell_type": "markdown",
   "id": "ae92b02c",
   "metadata": {},
   "source": [
    "## Explore with Widget"
   ]
  },
  {
   "cell_type": "code",
   "execution_count": 7,
   "id": "4f1794f4",
   "metadata": {
    "scrolled": false
   },
   "outputs": [
    {
     "data": {
      "text/plain": [
       "component(7fc348350400, self=<kyurem.core.widget.widget_base.WidgetBase object at 0x7fc325757490>)"
      ]
     },
     "execution_count": 7,
     "metadata": {},
     "output_type": "execute_result"
    },
    {
     "data": {
      "application/vnd.jupyter.widget-view+json": {
       "model_id": "ab59a0aefb0948b480d97bcc36f84957",
       "version_major": 2,
       "version_minor": 0
      },
      "text/plain": [
       "LayoutWidget(Layout(component(7fc348350400, self=<kyurem.core.widget.widget_base.WidgetBase object at 0x7fc325…"
      ]
     },
     "metadata": {},
     "output_type": "display_data"
    }
   ],
   "source": [
    "from kyurem import Explorer\n",
    "reload_bundle()\n",
    "\n",
    "explorer = Explorer(service)\n",
    "explorer.model.data.schema = schema\n",
    "explorer.show()"
   ]
  },
  {
   "cell_type": "code",
   "execution_count": 8,
   "id": "2f6b2aec",
   "metadata": {},
   "outputs": [],
   "source": [
    "from kyurem.utils.mdump import *"
   ]
  },
  {
   "cell_type": "code",
   "execution_count": 49,
   "id": "521ae444",
   "metadata": {},
   "outputs": [
    {
     "name": "stdout",
     "output_type": "stream",
     "text": [
      "{\n",
      "  \u001b[91m\"status\"\u001b[0m: {\n",
      "    \u001b[91m\"children\"\u001b[0m: {},\n",
      "    \u001b[91m\"relations\"\u001b[0m: {},\n",
      "  },\n",
      "  \u001b[91m\"state\"\u001b[0m: { \u001b[91m\"nodetype\"\u001b[0m: \u001b[91m\"attribute\"\u001b[0m },\n",
      "  \u001b[91m\"data\"\u001b[0m: {\n",
      "    \u001b[91m\"schema\"\u001b[0m: [ \u001b[35m...170 items...\u001b[0m ],\n",
      "    \u001b[91m\"children\"\u001b[0m: [ \u001b[35m...63 items...\u001b[0m ],\n",
      "    \u001b[91m\"relations\"\u001b[0m: [ \u001b[35m...44 items...\u001b[0m ],\n",
      "  },\n",
      "  \u001b[91m\"actions\"\u001b[0m: {\n",
      "    \u001b[91m\"filter_by_type\"\u001b[0m: \u001b[92m<bound method Explorer.filter_by_type of <kyurem.widgets.Explorer.Explorer object at 0x7fc3257570a0>>\u001b[0m,\n",
      "    \u001b[91m\"filter_by_title\"\u001b[0m: \u001b[92m<bound method Explorer.filter_by_title of <kyurem.widgets.Explorer.Explorer object at 0x7fc3257570a0>>\u001b[0m,\n",
      "    \u001b[91m\"filter_by_relation\"\u001b[0m: \u001b[92m<bound method Explorer.filter_by_relation of <kyurem.widgets.Explorer.Explorer object at 0x7fc3257570a0>>\u001b[0m,\n",
      "  },\n",
      "}\n"
     ]
    }
   ],
   "source": [
    "print(mdump(explorer.model, 2))"
   ]
  },
  {
   "cell_type": "code",
   "execution_count": null,
   "id": "6f9ab014",
   "metadata": {},
   "outputs": [],
   "source": []
  }
 ],
 "metadata": {
  "kernelspec": {
   "display_name": "Python 3 (ipykernel)",
   "language": "python",
   "name": "python3"
  },
  "language_info": {
   "codemirror_mode": {
    "name": "ipython",
    "version": 3
   },
   "file_extension": ".py",
   "mimetype": "text/x-python",
   "name": "python",
   "nbconvert_exporter": "python",
   "pygments_lexer": "ipython3",
   "version": "3.9.13"
  },
  "vscode": {
   "interpreter": {
    "hash": "1969bb85aac28e13d40e6bbb10858a8d5a24994d890621fece8ba081534ca906"
   }
  }
 },
 "nbformat": 4,
 "nbformat_minor": 5
}
