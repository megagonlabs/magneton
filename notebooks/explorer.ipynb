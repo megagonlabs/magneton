{
 "cells": [
  {
   "cell_type": "code",
   "execution_count": 1,
   "id": "d4a1228b",
   "metadata": {},
   "outputs": [
    {
     "name": "stdout",
     "output_type": "stream",
     "text": [
      "kyurem_client: 0.0.0\n"
     ]
    }
   ],
   "source": [
    "%load_ext autoreload   \n",
    "%autoreload 2\n",
    "import kyurem\n",
    "from kyurem.core.idom_loader import reload_bundle\n",
    "from kyurem.core.widget import WidgetModel"
   ]
  },
  {
   "cell_type": "code",
   "execution_count": 2,
   "id": "9c44e8e4",
   "metadata": {},
   "outputs": [],
   "source": [
    "from kyurem import Service\n",
    "service = Service(kh = 'indeed.v0.0.1:c2b0ce85')"
   ]
  },
  {
   "cell_type": "code",
   "execution_count": 3,
   "id": "53dc8ef8",
   "metadata": {},
   "outputs": [],
   "source": [
    "schema = service.get_kh_edge_list()"
   ]
  },
  {
   "cell_type": "code",
   "execution_count": 8,
   "id": "4f1794f4",
   "metadata": {
    "scrolled": false
   },
   "outputs": [
    {
     "data": {
      "text/plain": [
       "show(7ff7b076ab80, self=<kyurem.widgets.Explorer.Explorer object at 0x7ff7b059efd0>)"
      ]
     },
     "execution_count": 8,
     "metadata": {},
     "output_type": "execute_result"
    },
    {
     "data": {
      "application/vnd.jupyter.widget-view+json": {
       "model_id": "64cf4fcd7dd04027bb7ca0e43f783940",
       "version_major": 2,
       "version_minor": 0
      },
      "text/plain": [
       "LayoutWidget(Layout(show(7ff7b076ab80, self=<kyurem.widgets.Explorer.Explorer object at 0x7ff7b059efd0>)))"
      ]
     },
     "metadata": {},
     "output_type": "display_data"
    }
   ],
   "source": [
    "from kyurem import Explorer\n",
    "reload_bundle()\n",
    "\n",
    "explorer = Explorer()\n",
    "explorer.model.schema = schema\n",
    "explorer.model.relation_dist=service.get_node_degree_distributions(None)\n",
    "\n",
    "explorer.model.children_distribution=service.get_children_node_distributions\n",
    "explorer.model.relation_distribution=service.get_node_degree_distributions\n",
    "\n",
    "explorer.model.node_neighborhood_schema=service.get_node_neighborhood\n",
    "explorer.model.relation_neighborhood_schema=service.get_relation_neighborhood\n",
    "\n",
    "explorer.show()"
   ]
  },
  {
   "cell_type": "code",
   "execution_count": null,
   "id": "0fc86371",
   "metadata": {},
   "outputs": [],
   "source": []
  }
 ],
 "metadata": {
  "kernelspec": {
   "display_name": "Python 3 (ipykernel)",
   "language": "python",
   "name": "python3"
  },
  "language_info": {
   "codemirror_mode": {
    "name": "ipython",
    "version": 3
   },
   "file_extension": ".py",
   "mimetype": "text/x-python",
   "name": "python",
   "nbconvert_exporter": "python",
   "pygments_lexer": "ipython3",
   "version": "3.9.13"
  },
  "vscode": {
   "interpreter": {
    "hash": "1969bb85aac28e13d40e6bbb10858a8d5a24994d890621fece8ba081534ca906"
   }
  }
 },
 "nbformat": 4,
 "nbformat_minor": 5
}
