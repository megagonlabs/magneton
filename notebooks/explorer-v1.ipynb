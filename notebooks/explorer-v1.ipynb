{
 "cells": [
  {
   "cell_type": "markdown",
   "id": "086e59a3",
   "metadata": {},
   "source": [
    "# Import Widget Libraries"
   ]
  },
  {
   "cell_type": "code",
   "execution_count": 1,
   "id": "d4a1228b",
   "metadata": {},
   "outputs": [
    {
     "name": "stdout",
     "output_type": "stream",
     "text": [
      "kyurem_client: 0.0.0\n"
     ]
    }
   ],
   "source": [
    "%load_ext autoreload   \n",
    "%autoreload 2\n",
    "import kyurem\n",
    "from kyurem.core.idom_loader import reload_bundle\n",
    "from kyurem.core.widget import WidgetModel"
   ]
  },
  {
   "cell_type": "markdown",
   "id": "509de0e1",
   "metadata": {},
   "source": [
    "# Import Graph Querying Library"
   ]
  },
  {
   "cell_type": "code",
   "execution_count": 2,
   "id": "9c44e8e4",
   "metadata": {},
   "outputs": [],
   "source": [
    "from kyurem import Service\n",
    "service = Service(kh = 'indeed.v0.0.1:612e3403')"
   ]
  },
  {
   "cell_type": "code",
   "execution_count": 3,
   "id": "53dc8ef8",
   "metadata": {},
   "outputs": [],
   "source": [
    "schema = service.get_kh_edge_list()"
   ]
  },
  {
   "cell_type": "markdown",
   "id": "80af343a",
   "metadata": {},
   "source": [
    "# Create an Overview/Exploration Widget"
   ]
  },
  {
   "cell_type": "code",
   "execution_count": 97,
   "id": "4f1794f4",
   "metadata": {
    "scrolled": false
   },
   "outputs": [
    {
     "data": {
      "text/plain": [
       "component(7f440c6c8280, self=<kyurem.widgets.ReducerWidget.ReducerWidget object at 0x7f440c5d36a0>)"
      ]
     },
     "execution_count": 97,
     "metadata": {},
     "output_type": "execute_result"
    },
    {
     "data": {
      "application/vnd.jupyter.widget-view+json": {
       "model_id": "2dbd403a5da7434cac31feb481a9e7d9",
       "version_major": 2,
       "version_minor": 0
      },
      "text/plain": [
       "LayoutWidget(Layout(component(7f440c6c8280, self=<kyurem.widgets.ReducerWidget.ReducerWidget object at 0x7f440…"
      ]
     },
     "metadata": {},
     "output_type": "display_data"
    }
   ],
   "source": [
    "from kyurem import Explorer\n",
    "\n",
    "\n",
    "def init(state): \n",
    "    return {\n",
    "        \"subgraph\": None,\n",
    "        \"children\": service.get_children_node_distributions(),\n",
    "        \"relations\": service.get_relation_distribution(),\n",
    "    }\n",
    "\n",
    "def focus(state, node, panel):\n",
    "    result = service.get_node_neighborhood(node)\n",
    "    \n",
    "    data = { \"subgraph\": None }\n",
    "    if panel != \"schema\":\n",
    "        data[\"schema\"] = result[\"schema\"]\n",
    "    if panel != \"children\":\n",
    "        data[\"children\"] = service.get_children_node_distributions(\n",
    "            node[\"node_label\"], \n",
    "            node[\"node_property\"], \n",
    "            node[\"node_property_value\"]\n",
    "        )\n",
    "\n",
    "    data[\"relations\"] = [\n",
    "        {\"x\": relation[\"label\"], \"y\": relation[\"count\"], \"type\": type}\n",
    "        for type, relations in result[\"relation_dist\"].items()\n",
    "        for relation in relations\n",
    "    ]\n",
    "    \n",
    "    return data\n",
    "  \n",
    "# Create widget \n",
    "reload_bundle()\n",
    "explorer = Explorer({\n",
    "        \"init\": init,\n",
    "        \"focus\": focus\n",
    "    }, schema)\n",
    "\n",
    "explorer.show()"
   ]
  },
  {
   "cell_type": "code",
   "execution_count": 65,
   "id": "a1a62fa7",
   "metadata": {
    "scrolled": true
   },
   "outputs": [
    {
     "name": "stdout",
     "output_type": "stream",
     "text": [
      "[ {\n",
      "    \u001b[91m\"action\"\u001b[0m: {\n",
      "      \u001b[91m\"name\"\u001b[0m: \u001b[91m\"init\"\u001b[0m,\n",
      "      \u001b[91m\"args\"\u001b[0m: \u001b[92m()\u001b[0m,\n",
      "      \u001b[91m\"kwargs\"\u001b[0m: {},\n",
      "    },\n",
      "    \u001b[91m\"state\"\u001b[0m: {\n",
      "      \u001b[91m\"did_init\"\u001b[0m: \u001b[1m\u001b[92mTrue\u001b[0m,\n",
      "      \u001b[91m\"data\"\u001b[0m: { \u001b[35m...4 items...\u001b[0m },\n",
      "      \u001b[91m\"is_loading\"\u001b[0m: \u001b[1m\u001b[92mFalse\u001b[0m,\n",
      "    },\n",
      "  } ]\n"
     ]
    }
   ],
   "source": [
    "from kyurem.utils.mdump import mdump\n",
    "print(mdump(explorer.history, 3))"
   ]
  },
  {
   "cell_type": "code",
   "execution_count": null,
   "id": "17ffcac9",
   "metadata": {},
   "outputs": [],
   "source": [
    "def filter_by_relation(state, type, direction):\n",
    "    if state.nodelabel and state.nodetitle:\n",
    "        node = {\n",
    "            \"node_label\": state.nodelabel,\n",
    "            \"node_property\": \"title\",\n",
    "            \"node_property_value\": state.nodetitle,\n",
    "        }\n",
    "    else:\n",
    "        node = None\n",
    "\n",
    "    result = service.get_relation_neighborhood(node, {\"type\": type, \"direction\": direction})\n",
    "    data = {}\n",
    "    data['schema'] = result[\"schema\"]\n",
    "    if not node:\n",
    "        data['children'] = [\n",
    "            {\"x\": x, \"y\": y} for x, y in result[\"node_dist\"].items()\n",
    "        ]\n",
    "    return data"
   ]
  },
  {
   "cell_type": "markdown",
   "id": "eae0a319",
   "metadata": {},
   "source": [
    "# View 0: Send nodes rather than labels in schema"
   ]
  },
  {
   "cell_type": "code",
   "execution_count": null,
   "id": "490aa926",
   "metadata": {
    "scrolled": true
   },
   "outputs": [],
   "source": [
    "schema"
   ]
  },
  {
   "cell_type": "markdown",
   "id": "3a548c8d",
   "metadata": {},
   "source": [
    "# View 0: Click a node on minimap"
   ]
  },
  {
   "cell_type": "code",
   "execution_count": null,
   "id": "f84e99ab",
   "metadata": {
    "scrolled": true
   },
   "outputs": [],
   "source": [
    "node ={'node_label': 'occupation',\n",
    "       'node_property': 'title', \n",
    "       'node_property_value': 'occupation'}\n",
    "\n",
    "service.get_children_node_distributions('occupation', 'title', 'Healthcare Occupations')"
   ]
  },
  {
   "cell_type": "markdown",
   "id": "8c1f0b66",
   "metadata": {},
   "source": [
    "# View 0: Click a bar on node_dist"
   ]
  },
  {
   "cell_type": "code",
   "execution_count": null,
   "id": "6d39b2ec",
   "metadata": {},
   "outputs": [],
   "source": [
    "node ={'node_label': 'occupation',\n",
    "       'node_property': 'title', \n",
    "       'node_property_value': 'Allied Health Occupations'}"
   ]
  },
  {
   "cell_type": "code",
   "execution_count": null,
   "id": "e039bdd0",
   "metadata": {},
   "outputs": [],
   "source": [
    "nn = service.get_node_neighborhood(node)\n",
    "nn"
   ]
  },
  {
   "cell_type": "markdown",
   "id": "c56c3b0f",
   "metadata": {},
   "source": [
    "# View 0: Click a bar on relation dist"
   ]
  },
  {
   "cell_type": "code",
   "execution_count": null,
   "id": "b9e34912",
   "metadata": {},
   "outputs": [],
   "source": [
    "node ={'node_label': 'occupation',\n",
    "       'node_property': 'title', \n",
    "       'node_property_value': 'Fire Alarm Technicians'}\n",
    "\n",
    "relation = {}\n",
    "relation['type'] = 'has_core_skill'\n",
    "relation['direction'] = 'out'"
   ]
  },
  {
   "cell_type": "code",
   "execution_count": null,
   "id": "a4467683",
   "metadata": {
    "scrolled": true
   },
   "outputs": [],
   "source": [
    "service.get_relation_neighborhood(node, relation)"
   ]
  },
  {
   "cell_type": "code",
   "execution_count": null,
   "id": "c863e3c1",
   "metadata": {},
   "outputs": [],
   "source": [
    "service.get_relation_neighborhood(None, relation)"
   ]
  },
  {
   "cell_type": "markdown",
   "id": "62415a68",
   "metadata": {},
   "source": [
    "# View 1: Click a node on zoomed in graph"
   ]
  },
  {
   "cell_type": "code",
   "execution_count": null,
   "id": "8bf5a17a",
   "metadata": {},
   "outputs": [],
   "source": []
  },
  {
   "cell_type": "markdown",
   "id": "74e35603",
   "metadata": {},
   "source": [
    "# View 1: Click a node on node_dist"
   ]
  },
  {
   "cell_type": "code",
   "execution_count": null,
   "id": "db003b70",
   "metadata": {},
   "outputs": [],
   "source": []
  },
  {
   "cell_type": "markdown",
   "id": "cbd39b78",
   "metadata": {},
   "source": [
    "# View 1: Click a node on relation dist"
   ]
  },
  {
   "cell_type": "code",
   "execution_count": null,
   "id": "29261857",
   "metadata": {},
   "outputs": [],
   "source": []
  }
 ],
 "metadata": {
  "kernelspec": {
   "display_name": "Python 3 (ipykernel)",
   "language": "python",
   "name": "python3"
  },
  "language_info": {
   "codemirror_mode": {
    "name": "ipython",
    "version": 3
   },
   "file_extension": ".py",
   "mimetype": "text/x-python",
   "name": "python",
   "nbconvert_exporter": "python",
   "pygments_lexer": "ipython3",
   "version": "3.9.13"
  },
  "vscode": {
   "interpreter": {
    "hash": "1969bb85aac28e13d40e6bbb10858a8d5a24994d890621fece8ba081534ca906"
   }
  }
 },
 "nbformat": 4,
 "nbformat_minor": 5
}
