{
 "cells": [
  {
   "cell_type": "markdown",
   "id": "086e59a3",
   "metadata": {},
   "source": [
    "# Import Widget Libraries"
   ]
  },
  {
   "cell_type": "code",
   "execution_count": 1,
   "id": "d4a1228b",
   "metadata": {},
   "outputs": [
    {
     "name": "stdout",
     "output_type": "stream",
     "text": [
      "kyurem_client: 0.0.0\n"
     ]
    }
   ],
   "source": [
    "%load_ext autoreload   \n",
    "%autoreload 2\n",
    "import kyurem\n",
    "from kyurem.core.idom_loader import reload_bundle\n",
    "from kyurem.core.widget import WidgetModel"
   ]
  },
  {
   "cell_type": "markdown",
   "id": "509de0e1",
   "metadata": {},
   "source": [
    "# Import Graph Querying Library"
   ]
  },
  {
   "cell_type": "code",
   "execution_count": 2,
   "id": "9c44e8e4",
   "metadata": {},
   "outputs": [],
   "source": [
    "from kyurem import Service\n",
    "service = Service(kh = 'indeed.v0.0.1:612e3403')"
   ]
  },
  {
   "cell_type": "code",
   "execution_count": 3,
   "id": "53dc8ef8",
   "metadata": {},
   "outputs": [],
   "source": [
    "schema = service.get_kh_edge_list()"
   ]
  },
  {
   "cell_type": "markdown",
   "id": "80af343a",
   "metadata": {},
   "source": [
    "# Create an Overview/Exploration Widget"
   ]
  },
  {
   "cell_type": "code",
   "execution_count": 10,
   "id": "4f1794f4",
   "metadata": {
    "scrolled": false
   },
   "outputs": [
    {
     "data": {
      "text/plain": [
       "component(7ff93ca4ee80, self=<kyurem.widgets.WidgetWithHistory.WidgetWithHistory object at 0x7ff9237bbd00>)"
      ]
     },
     "execution_count": 10,
     "metadata": {},
     "output_type": "execute_result"
    },
    {
     "data": {
      "application/vnd.jupyter.widget-view+json": {
       "model_id": "c322c5ae197041a89513a0f0220015d1",
       "version_major": 2,
       "version_minor": 0
      },
      "text/plain": [
       "LayoutWidget(Layout(component(7ff93ca4ee80, self=<kyurem.widgets.WidgetWithHistory.WidgetWithHistory object at…"
      ]
     },
     "metadata": {},
     "output_type": "display_data"
    }
   ],
   "source": [
    "from kyurem import Explorer\n",
    "\n",
    "\n",
    "def init(state): \n",
    "    # Fetch initial view data\n",
    "    return {\n",
    "        \"subgraph\": None,\n",
    "        \"children\": service.get_children_node_distributions(),\n",
    "        \"relations\": service.get_relation_distribution(),\n",
    "    }\n",
    "\n",
    "def focus(state, node, panel):\n",
    "    # node can be in one of two formats:\n",
    "    # node : { \"node_label\": str, \"node_property\": str, \"node_property_value\": str }\n",
    "    # node : { \"node_label\": str, \"title\": str, \"uuid\": str }\n",
    "    \n",
    "    # Since the service functions use the first format, node must first\n",
    "    # be converted to the proper format\n",
    "    if \"title\" in node:\n",
    "        node = {\n",
    "            \"node_label\": node[\"node_label\"],\n",
    "            \"node_property\": \"title\",\n",
    "            \"node_property_value\": node[\"title\"]\n",
    "        }\n",
    "        \n",
    "    # TODO: Return nodes in a consistent format from the service\n",
    "    #       functions to streamline the above\n",
    "    \n",
    "    \n",
    "    # Fetch the neighborhood around the input node \n",
    "    result = service.get_node_neighborhood(node)\n",
    "    \n",
    "    data = { \"subgraph\": None }\n",
    "    if panel != \"schema\":\n",
    "        data[\"schema\"] = result[\"schema\"]\n",
    "    if panel != \"children\":\n",
    "        # TODO: Accept a consistent input format (e.g., same as get_node_neighborhood)\n",
    "        data[\"children\"] = service.get_children_node_distributions(\n",
    "            node\n",
    "        )\n",
    "\n",
    "    # Use a list comprehension to convert the return format of the relation_dist \n",
    "    # to a bar-chart format\n",
    "    data[\"relations\"] = [\n",
    "        {\"x\": relation[\"label\"], \"y\": relation[\"count\"], \"type\": type, \"relation\": { \"type\": relation[\"label\"], \"direction\": type } }\n",
    "        for type, relations in result[\"relation_dist\"].items()\n",
    "        for relation in relations\n",
    "    ]\n",
    "    # TODO: Move conversion code into service\n",
    "    \n",
    "    return data\n",
    "\n",
    "\n",
    "# Create widget \n",
    "reload_bundle()\n",
    "explorer = Explorer({\n",
    "        \"init\": init,\n",
    "        \"focus\": focus\n",
    "    }, schema)\n",
    "\n",
    "explorer.show()"
   ]
  },
  {
   "cell_type": "code",
   "execution_count": 41,
   "id": "56b36468",
   "metadata": {},
   "outputs": [
    {
     "data": {
      "text/plain": [
       "component(7ff8fc3dd0a0, self=<kyurem.core.widget.widget_base.WidgetBase object at 0x7ff8fc159070>)"
      ]
     },
     "execution_count": 41,
     "metadata": {},
     "output_type": "execute_result"
    },
    {
     "data": {
      "application/vnd.jupyter.widget-view+json": {
       "model_id": "83d71f0422fb4ce888e4266ce7872f98",
       "version_major": 2,
       "version_minor": 0
      },
      "text/plain": [
       "LayoutWidget(Layout(component(7ff8fc3dd0a0, self=<kyurem.core.widget.widget_base.WidgetBase object at 0x7ff8fc…"
      ]
     },
     "metadata": {},
     "output_type": "display_data"
    }
   ],
   "source": [
    "reload_bundle()\n",
    "prov = explorer.history()\n",
    "prov.show()"
   ]
  },
  {
   "cell_type": "code",
   "execution_count": 6,
   "id": "c5a28981",
   "metadata": {},
   "outputs": [
    {
     "ename": "IndexError",
     "evalue": "list index out of range",
     "output_type": "error",
     "traceback": [
      "\u001b[0;31m---------------------------------------------------------------------------\u001b[0m",
      "\u001b[0;31mIndexError\u001b[0m                                Traceback (most recent call last)",
      "Input \u001b[0;32mIn [6]\u001b[0m, in \u001b[0;36m<cell line: 2>\u001b[0;34m()\u001b[0m\n\u001b[1;32m      1\u001b[0m \u001b[38;5;28;01mfrom\u001b[39;00m \u001b[38;5;21;01mkyurem\u001b[39;00m\u001b[38;5;21;01m.\u001b[39;00m\u001b[38;5;21;01mutils\u001b[39;00m\u001b[38;5;21;01m.\u001b[39;00m\u001b[38;5;21;01mmdump\u001b[39;00m \u001b[38;5;28;01mimport\u001b[39;00m mdump\n\u001b[0;32m----> 2\u001b[0m \u001b[38;5;28mprint\u001b[39m(mdump(\u001b[43mexplorer\u001b[49m\u001b[38;5;241;43m.\u001b[39;49m\u001b[43m_widget\u001b[49m\u001b[38;5;241;43m.\u001b[39;49m\u001b[43mhistory\u001b[49m\u001b[43m[\u001b[49m\u001b[38;5;241;43m0\u001b[39;49m\u001b[43m]\u001b[49m, \u001b[38;5;241m2\u001b[39m))\n",
      "\u001b[0;31mIndexError\u001b[0m: list index out of range"
     ]
    }
   ],
   "source": [
    "from kyurem.utils.mdump import mdump\n",
    "print(mdump(explorer._widget.history[0], 2))"
   ]
  },
  {
   "cell_type": "code",
   "execution_count": null,
   "id": "17ffcac9",
   "metadata": {},
   "outputs": [],
   "source": [
    "# def focus_relation(state, relation):\n",
    "#     node = WidgetModel.unproxy(state.focus_node)\n",
    "#     # node can be in one of two formats:\n",
    "#     # node : { \"node_label\": str, \"node_property\": str, \"node_property_value\": str }\n",
    "#     # node : { \"node_label\": str, \"title\": str, \"uuid\": str }\n",
    "    \n",
    "#     # Since the service functions use the first format, node must first\n",
    "#     # be converted to the proper format\n",
    "#     if node is not None and \"title\" in node:\n",
    "#         node = {\n",
    "#             \"node_label\": node[\"node_label\"],\n",
    "#             \"node_property\": \"title\",\n",
    "#             \"node_property_value\": node[\"title\"]\n",
    "#         }\n",
    "        \n",
    "#     # TODO: Return nodes in a consistent format from the service\n",
    "#     #       functions to streamline the above\n",
    "    \n",
    "#     # Fetch the neighborhood around the focus node/relation\n",
    "#     result = service.get_relation_neighborhood(node, relation)\n",
    "#     data = {}\n",
    "#     data['schema'] = result[\"schema\"]\n",
    "#     data['children'] = [\n",
    "#         {\"x\": x, \"y\": y} for x, y in result[\"node_dist\"].items()\n",
    "#     ]\n",
    "#     return data"
   ]
  },
  {
   "cell_type": "markdown",
   "id": "eae0a319",
   "metadata": {},
   "source": [
    "# View 0: Send nodes rather than labels in schema"
   ]
  },
  {
   "cell_type": "code",
   "execution_count": null,
   "id": "490aa926",
   "metadata": {
    "scrolled": true
   },
   "outputs": [],
   "source": [
    "schema"
   ]
  },
  {
   "cell_type": "markdown",
   "id": "3a548c8d",
   "metadata": {},
   "source": [
    "# View 0: Click a node on minimap"
   ]
  },
  {
   "cell_type": "code",
   "execution_count": null,
   "id": "f84e99ab",
   "metadata": {
    "scrolled": true
   },
   "outputs": [],
   "source": [
    "node ={'node_label': 'occupation',\n",
    "       'node_property': 'title', \n",
    "       'node_property_value': 'occupation'}\n",
    "\n",
    "service.get_children_node_distributions('occupation', 'title', 'Healthcare Occupations')"
   ]
  },
  {
   "cell_type": "markdown",
   "id": "8c1f0b66",
   "metadata": {},
   "source": [
    "# View 0: Click a bar on node_dist"
   ]
  },
  {
   "cell_type": "code",
   "execution_count": null,
   "id": "6d39b2ec",
   "metadata": {},
   "outputs": [],
   "source": [
    "node ={'node_label': 'occupation',\n",
    "       'node_property': 'title', \n",
    "       'node_property_value': 'Allied Health Occupations'}"
   ]
  },
  {
   "cell_type": "code",
   "execution_count": null,
   "id": "e039bdd0",
   "metadata": {},
   "outputs": [],
   "source": [
    "nn = service.get_node_neighborhood(node)\n",
    "nn"
   ]
  },
  {
   "cell_type": "markdown",
   "id": "c56c3b0f",
   "metadata": {},
   "source": [
    "# View 0: Click a bar on relation dist"
   ]
  },
  {
   "cell_type": "code",
   "execution_count": null,
   "id": "b9e34912",
   "metadata": {},
   "outputs": [],
   "source": [
    "node ={'node_label': 'occupation',\n",
    "       'node_property': 'title', \n",
    "       'node_property_value': 'Fire Alarm Technicians'}\n",
    "\n",
    "relation = {}\n",
    "relation['type'] = 'has_core_skill'\n",
    "relation['direction'] = 'out'"
   ]
  },
  {
   "cell_type": "code",
   "execution_count": null,
   "id": "a4467683",
   "metadata": {
    "scrolled": true
   },
   "outputs": [],
   "source": [
    "service.get_relation_neighborhood(node, relation)"
   ]
  },
  {
   "cell_type": "code",
   "execution_count": null,
   "id": "c863e3c1",
   "metadata": {},
   "outputs": [],
   "source": [
    "service.get_relation_neighborhood(None, relation)"
   ]
  },
  {
   "cell_type": "markdown",
   "id": "62415a68",
   "metadata": {},
   "source": [
    "# View 1: Click a node on zoomed in graph"
   ]
  },
  {
   "cell_type": "code",
   "execution_count": null,
   "id": "8bf5a17a",
   "metadata": {},
   "outputs": [],
   "source": []
  },
  {
   "cell_type": "markdown",
   "id": "74e35603",
   "metadata": {},
   "source": [
    "# View 1: Click a node on node_dist"
   ]
  },
  {
   "cell_type": "code",
   "execution_count": null,
   "id": "db003b70",
   "metadata": {},
   "outputs": [],
   "source": []
  },
  {
   "cell_type": "markdown",
   "id": "cbd39b78",
   "metadata": {},
   "source": [
    "# View 1: Click a node on relation dist"
   ]
  },
  {
   "cell_type": "code",
   "execution_count": null,
   "id": "29261857",
   "metadata": {},
   "outputs": [],
   "source": []
  }
 ],
 "metadata": {
  "kernelspec": {
   "display_name": "Python 3 (ipykernel)",
   "language": "python",
   "name": "python3"
  },
  "language_info": {
   "codemirror_mode": {
    "name": "ipython",
    "version": 3
   },
   "file_extension": ".py",
   "mimetype": "text/x-python",
   "name": "python",
   "nbconvert_exporter": "python",
   "pygments_lexer": "ipython3",
   "version": "3.9.13"
  },
  "vscode": {
   "interpreter": {
    "hash": "1969bb85aac28e13d40e6bbb10858a8d5a24994d890621fece8ba081534ca906"
   }
  }
 },
 "nbformat": 4,
 "nbformat_minor": 5
}
