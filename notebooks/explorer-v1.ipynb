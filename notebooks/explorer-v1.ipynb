{
 "cells": [
  {
   "cell_type": "markdown",
   "id": "086e59a3",
   "metadata": {},
   "source": [
    "# Import Widget Libraries"
   ]
  },
  {
   "cell_type": "code",
   "execution_count": 1,
   "id": "d4a1228b",
   "metadata": {},
   "outputs": [
    {
     "name": "stdout",
     "output_type": "stream",
     "text": [
      "kyurem_client: 0.0.0\n"
     ]
    }
   ],
   "source": [
    "%load_ext autoreload   \n",
    "%autoreload 2\n",
    "import kyurem\n",
    "from kyurem.core.idom_loader import reload_bundle\n",
    "from kyurem.core.widget import WidgetModel"
   ]
  },
  {
   "cell_type": "markdown",
   "id": "509de0e1",
   "metadata": {},
   "source": [
    "# Import Graph Querying Library"
   ]
  },
  {
   "cell_type": "code",
   "execution_count": 2,
   "id": "9c44e8e4",
   "metadata": {},
   "outputs": [],
   "source": [
    "from kyurem import Service\n",
    "service = Service(kh = 'indeed.v0.0.1:612e3403')"
   ]
  },
  {
   "cell_type": "code",
   "execution_count": 3,
   "id": "53dc8ef8",
   "metadata": {},
   "outputs": [],
   "source": [
    "schema = service.get_kh_edge_list()"
   ]
  },
  {
   "cell_type": "markdown",
   "id": "80af343a",
   "metadata": {},
   "source": [
    "# Create an Overview/Exploration Widget"
   ]
  },
  {
   "cell_type": "code",
   "execution_count": 32,
   "id": "4f1794f4",
   "metadata": {
    "scrolled": false
   },
   "outputs": [
    {
     "data": {
      "text/plain": [
       "component(7fe6068d2160, self=<kyurem.widgets.ReducerWidget.ReducerWidget object at 0x7fe5e80a5400>)"
      ]
     },
     "execution_count": 32,
     "metadata": {},
     "output_type": "execute_result"
    },
    {
     "data": {
      "application/vnd.jupyter.widget-view+json": {
       "model_id": "5a1d7531d4ec48efb8f803689ff4f8c3",
       "version_major": 2,
       "version_minor": 0
      },
      "text/plain": [
       "LayoutWidget(Layout(component(7fe6068d2160, self=<kyurem.widgets.ReducerWidget.ReducerWidget object at 0x7fe5e…"
      ]
     },
     "metadata": {},
     "output_type": "display_data"
    }
   ],
   "source": [
    "from kyurem import Explorer\n",
    "\n",
    "\n",
    "def filter_by_label(state, nodelabel=None):\n",
    "    data = {}\n",
    "    data['schema'] = None\n",
    "    data['children'] = service.get_children_node_distributions(nodelabel, \"title\", nodelabel)\n",
    "    if nodelabel:\n",
    "        data['relations'] = service.get_node_degree_distributions(nodelabel)\n",
    "    else:\n",
    "        data['relations'] = service.get_relation_distribution()\n",
    "    return data\n",
    "        \n",
    "    \n",
    "def filter_by_title(state, nodetitle):\n",
    "    result = service.get_node_neighborhood(\n",
    "        {\n",
    "            \"node_label\": state.nodelabel\n",
    "            if state.nodelabel\n",
    "            else nodetitle,\n",
    "            \"node_property\": \"title\",\n",
    "            \"node_property_value\": nodetitle,\n",
    "        }\n",
    "    )\n",
    "    data = {}\n",
    "    data['schema'] = result[\"schema\"]\n",
    "    data['relations'] = [\n",
    "        {\"x\": relation[\"label\"], \"y\": relation[\"count\"], \"type\": type}\n",
    "        for type, relations in result[\"relation_dist\"].items()\n",
    "        for relation in relations\n",
    "    ]\n",
    "    \n",
    "    return data\n",
    "\n",
    "def filter_by_relation(state, type, direction):\n",
    "    if state.nodelabel and state.nodetitle:\n",
    "        node = {\n",
    "            \"node_label\": state.nodelabel,\n",
    "            \"node_property\": \"title\",\n",
    "            \"node_property_value\": state.nodetitle,\n",
    "        }\n",
    "    else:\n",
    "        node = None\n",
    "\n",
    "    result = service.get_relation_neighborhood(node, {\"type\": type, \"direction\": direction})\n",
    "    data = {}\n",
    "    data['schema'] = result[\"schema\"]\n",
    "    if not node:\n",
    "        data['children'] = [\n",
    "            {\"x\": x, \"y\": y} for x, y in result[\"node_dist\"].items()\n",
    "        ]\n",
    "    return data\n",
    "    \n",
    "    \n",
    "\n",
    "# Create widget that will persist state\n",
    "reload_bundle()\n",
    "explorer = Explorer(\n",
    "    {\n",
    "        \"filter_by_label\": filter_by_label,\n",
    "        \"filter_by_title\": filter_by_title,\n",
    "        \"filter_by_relation\": filter_by_relation,\n",
    "    }\n",
    "    , schema)\n",
    "explorer.show()"
   ]
  },
  {
   "cell_type": "code",
   "execution_count": 38,
   "id": "a1a62fa7",
   "metadata": {},
   "outputs": [
    {
     "name": "stdout",
     "output_type": "stream",
     "text": [
      "[\n",
      "  {\n",
      "    \u001b[91m\"action\"\u001b[0m: { \u001b[35m...3 items...\u001b[0m },\n",
      "    \u001b[91m\"state\"\u001b[0m: { \u001b[35m...5 items...\u001b[0m },\n",
      "  },\n",
      "  {\n",
      "    \u001b[91m\"action\"\u001b[0m: { \u001b[35m...3 items...\u001b[0m },\n",
      "    \u001b[91m\"state\"\u001b[0m: { \u001b[35m...5 items...\u001b[0m },\n",
      "  },\n",
      "]\n"
     ]
    }
   ],
   "source": [
    "from kyurem.utils.mdump import mdump\n",
    "print(mdump(explorer.history, 2))"
   ]
  },
  {
   "cell_type": "markdown",
   "id": "eae0a319",
   "metadata": {},
   "source": [
    "# View 0: Send nodes rather than labels in schema"
   ]
  },
  {
   "cell_type": "code",
   "execution_count": null,
   "id": "490aa926",
   "metadata": {
    "scrolled": false
   },
   "outputs": [],
   "source": [
    "schema"
   ]
  },
  {
   "cell_type": "markdown",
   "id": "3a548c8d",
   "metadata": {},
   "source": [
    "# View 0: Click a node on minimap"
   ]
  },
  {
   "cell_type": "code",
   "execution_count": null,
   "id": "f84e99ab",
   "metadata": {},
   "outputs": [],
   "source": [
    "node ={'node_label': 'occupation',\n",
    "       'node_property': 'title', \n",
    "       'node_property_value': 'occupation'}\n",
    "\n",
    "service.get_children_node_distributions('occupation', 'title', 'Healthcare Occupations')"
   ]
  },
  {
   "cell_type": "markdown",
   "id": "8c1f0b66",
   "metadata": {},
   "source": [
    "# View 0: Click a bar on node_dist"
   ]
  },
  {
   "cell_type": "code",
   "execution_count": null,
   "id": "6d39b2ec",
   "metadata": {},
   "outputs": [],
   "source": [
    "node ={'node_label': 'occupation',\n",
    "       'node_property': 'title', \n",
    "       'node_property_value': 'Allied Health Occupations'}"
   ]
  },
  {
   "cell_type": "code",
   "execution_count": null,
   "id": "e039bdd0",
   "metadata": {},
   "outputs": [],
   "source": [
    "service.get_node_neighborhood(node)"
   ]
  },
  {
   "cell_type": "markdown",
   "id": "c56c3b0f",
   "metadata": {},
   "source": [
    "# View 0: Click a bar on relation dist"
   ]
  },
  {
   "cell_type": "code",
   "execution_count": null,
   "id": "b9e34912",
   "metadata": {},
   "outputs": [],
   "source": [
    "node ={'node_label': 'occupation',\n",
    "       'node_property': 'title', \n",
    "       'node_property_value': 'Fire Alarm Technicians'}\n",
    "\n",
    "relation = {}\n",
    "relation['type'] = 'has_core_skill'\n",
    "relation['direction'] = 'out'"
   ]
  },
  {
   "cell_type": "code",
   "execution_count": null,
   "id": "a4467683",
   "metadata": {},
   "outputs": [],
   "source": [
    "service.get_relation_neighborhood(node, relation)"
   ]
  },
  {
   "cell_type": "code",
   "execution_count": null,
   "id": "c863e3c1",
   "metadata": {},
   "outputs": [],
   "source": [
    "service.get_relation_neighborhood(None, relation)"
   ]
  },
  {
   "cell_type": "markdown",
   "id": "62415a68",
   "metadata": {},
   "source": [
    "# View 1: Click a node on zoomed in graph"
   ]
  },
  {
   "cell_type": "code",
   "execution_count": null,
   "id": "8bf5a17a",
   "metadata": {},
   "outputs": [],
   "source": []
  },
  {
   "cell_type": "markdown",
   "id": "74e35603",
   "metadata": {},
   "source": [
    "# View 1: Click a node on node_dist"
   ]
  },
  {
   "cell_type": "code",
   "execution_count": null,
   "id": "db003b70",
   "metadata": {},
   "outputs": [],
   "source": []
  },
  {
   "cell_type": "markdown",
   "id": "cbd39b78",
   "metadata": {},
   "source": [
    "# View 1: Click a node on relation dist"
   ]
  },
  {
   "cell_type": "code",
   "execution_count": null,
   "id": "29261857",
   "metadata": {},
   "outputs": [],
   "source": []
  }
 ],
 "metadata": {
  "kernelspec": {
   "display_name": "Python 3 (ipykernel)",
   "language": "python",
   "name": "python3"
  },
  "language_info": {
   "codemirror_mode": {
    "name": "ipython",
    "version": 3
   },
   "file_extension": ".py",
   "mimetype": "text/x-python",
   "name": "python",
   "nbconvert_exporter": "python",
   "pygments_lexer": "ipython3",
   "version": "3.9.13"
  },
  "vscode": {
   "interpreter": {
    "hash": "1969bb85aac28e13d40e6bbb10858a8d5a24994d890621fece8ba081534ca906"
   }
  }
 },
 "nbformat": 4,
 "nbformat_minor": 5
}
