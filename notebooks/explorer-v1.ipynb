{
 "cells": [
  {
   "cell_type": "markdown",
   "id": "086e59a3",
   "metadata": {},
   "source": [
    "# Import Widget Libraries"
   ]
  },
  {
   "cell_type": "code",
   "execution_count": 1,
   "id": "d4a1228b",
   "metadata": {},
   "outputs": [
    {
     "name": "stdout",
     "output_type": "stream",
     "text": [
      "magneton_client: 0.0.0\n"
     ]
    }
   ],
   "source": [
    "%load_ext autoreload   \n",
    "%autoreload 2\n",
    "import magneton\n",
    "from magneton.core.idom_loader import reload_bundle\n",
    "from magneton.core.widget import WidgetModel"
   ]
  },
  {
   "cell_type": "markdown",
   "id": "509de0e1",
   "metadata": {},
   "source": [
    "# Import Graph Querying Library"
   ]
  },
  {
   "cell_type": "code",
   "execution_count": 2,
   "id": "9c44e8e4",
   "metadata": {},
   "outputs": [],
   "source": [
    "from magneton import Service\n",
    "service = Service(kh = 'onet_chi_replica:bc1628ba')"
   ]
  },
  {
   "cell_type": "code",
   "execution_count": 3,
   "id": "53dc8ef8",
   "metadata": {},
   "outputs": [],
   "source": [
    "schema = service.get_kh_edge_list()"
   ]
  },
  {
   "cell_type": "markdown",
   "id": "80af343a",
   "metadata": {},
   "source": [
    "# Create an Overview/Exploration Widget"
   ]
  },
  {
   "cell_type": "code",
   "execution_count": 4,
   "id": "4f1794f4",
   "metadata": {
    "scrolled": false
   },
   "outputs": [],
   "source": [
    "from magneton import Explorer\n",
    "\n",
    "\n",
    "def init(): \n",
    "    # Fetch initial view data\n",
    "    return {\n",
    "        \"subgraph\": None,\n",
    "        \"children\": service.get_children_node_distributions(),\n",
    "        \"relations\": service.get_relation_distribution(),\n",
    "    }\n",
    "\n",
    "def focus(node, panel):\n",
    "    # node can be in one of two formats:\n",
    "    # node : { \"node_label\": str, \"node_property\": str, \"node_property_value\": str }\n",
    "    # node : { \"node_label\": str, \"title\": str, \"uuid\": str }\n",
    "    \n",
    "    # Since the service functions use the first format, node must first\n",
    "    # be converted to the proper format\n",
    "    if \"title\" in node:\n",
    "        node = {\n",
    "            \"node_label\": node[\"node_label\"],\n",
    "            \"node_property\": \"title\",\n",
    "            \"node_property_value\": node[\"title\"]\n",
    "        }\n",
    "        \n",
    "    # TODO: Return nodes in a consistent format from the service\n",
    "    #       functions to streamline the above\n",
    "    \n",
    "    \n",
    "    # Fetch the neighborhood around the input node \n",
    "    result = service.get_node_neighborhood(node)\n",
    "    \n",
    "    data = { \"subgraph\": None }\n",
    "    if panel != \"schema\":\n",
    "        data[\"schema\"] = result[\"schema\"]\n",
    "    if panel != \"children\":\n",
    "        # TODO: Accept a consistent input format (e.g., same as get_node_neighborhood)\n",
    "        data[\"children\"] = service.get_children_node_distributions(\n",
    "            node\n",
    "        )\n",
    "\n",
    "    # Use a list comprehension to convert the return format of the relation_dist \n",
    "    # to a bar-chart format\n",
    "    data[\"relations\"] = [\n",
    "        {\"x\": relation[\"label\"], \"y\": relation[\"count\"], \"type\": type, \"relation\": { \"type\": relation[\"label\"], \"direction\": type } }\n",
    "        for type, relations in result[\"relation_dist\"].items()\n",
    "        for relation in relations\n",
    "    ]\n",
    "    # TODO: Move conversion code into service\n",
    "    \n",
    "    return data\n",
    "\n",
    "\n",
    "# Create widget \n",
    "explorer = Explorer({\n",
    "        \"init\": init,\n",
    "        \"focus\": focus\n",
    "    }, schema)"
   ]
  },
  {
   "cell_type": "code",
   "execution_count": 5,
   "id": "67584270",
   "metadata": {
    "scrolled": false
   },
   "outputs": [
    {
     "data": {
      "text/plain": [
       "component(10c3e19a0, self=<magneton.widgets.StatefulWidgetBase.StatefulWidgetBase object at 0x10c3e0e80>)"
      ]
     },
     "execution_count": 5,
     "metadata": {},
     "output_type": "execute_result"
    },
    {
     "data": {
      "application/vnd.jupyter.widget-view+json": {
       "model_id": "d87cefff70aa4bdb88eb936030ada9ac",
       "version_major": 2,
       "version_minor": 0
      },
      "text/plain": [
       "LayoutWidget(Layout(component(10c3e19a0, self=<magneton.widgets.StatefulWidgetBase.StatefulWidgetBase object a…"
      ]
     },
     "metadata": {},
     "output_type": "display_data"
    }
   ],
   "source": [
    "reload_bundle()\n",
    "explorer.show()"
   ]
  },
  {
   "cell_type": "code",
   "execution_count": 8,
   "id": "56b36468",
   "metadata": {},
   "outputs": [
    {
     "data": {
      "text/plain": [
       "component(10c4588e0, self=<magneton.widgets.StatefulWidgetBase.StatefulWidgetBase object at 0x10c3c6ac0>)"
      ]
     },
     "execution_count": 8,
     "metadata": {},
     "output_type": "execute_result"
    },
    {
     "data": {
      "application/vnd.jupyter.widget-view+json": {
       "model_id": "a4879f4880d9415cb4ee71b9b953a5a5",
       "version_major": 2,
       "version_minor": 0
      },
      "text/plain": [
       "LayoutWidget(Layout(component(10c4588e0, self=<magneton.widgets.StatefulWidgetBase.StatefulWidgetBase object a…"
      ]
     },
     "metadata": {},
     "output_type": "display_data"
    }
   ],
   "source": [
    "reload_bundle()\n",
    "prov = explorer.history()\n",
    "prov.show()"
   ]
  },
  {
   "cell_type": "code",
   "execution_count": null,
   "id": "29862ac4",
   "metadata": {},
   "outputs": [],
   "source": [
    "explorer.export_selection()"
   ]
  },
  {
   "cell_type": "code",
   "execution_count": null,
   "id": "fb76949c",
   "metadata": {},
   "outputs": [],
   "source": [
    "print(service.get_node_parents({'node_label': 'occupation',\n",
    "  'node_property': 'title',\n",
    "  'node_property_value': 'Insurance Industry Occupations'}))"
   ]
  },
  {
   "cell_type": "code",
   "execution_count": null,
   "id": "52e3e5e6",
   "metadata": {},
   "outputs": [],
   "source": [
    "explorer.debug()"
   ]
  },
  {
   "cell_type": "code",
   "execution_count": null,
   "id": "17ffcac9",
   "metadata": {},
   "outputs": [],
   "source": [
    "# def focus_relation(state, relation):\n",
    "#     node = WidgetModel.unproxy(state.focus_node)\n",
    "#     # node can be in one of two formats:\n",
    "#     # node : { \"node_label\": str, \"node_property\": str, \"node_property_value\": str }\n",
    "#     # node : { \"node_label\": str, \"title\": str, \"uuid\": str }\n",
    "    \n",
    "#     # Since the service functions use the first format, node must first\n",
    "#     # be converted to the proper format\n",
    "#     if node is not None and \"title\" in node:\n",
    "#         node = {\n",
    "#             \"node_label\": node[\"node_label\"],\n",
    "#             \"node_property\": \"title\",\n",
    "#             \"node_property_value\": node[\"title\"]\n",
    "#         }\n",
    "        \n",
    "#     # TODO: Return nodes in a consistent format from the service\n",
    "#     #       functions to streamline the above\n",
    "    \n",
    "#     # Fetch the neighborhood around the focus node/relation\n",
    "#     result = service.get_relation_neighborhood(node, relation)\n",
    "#     data = {}\n",
    "#     data['schema'] = result[\"schema\"]\n",
    "#     data['children'] = [\n",
    "#         {\"x\": x, \"y\": y} for x, y in result[\"node_dist\"].items()\n",
    "#     ]\n",
    "#     return data"
   ]
  },
  {
   "cell_type": "markdown",
   "id": "eae0a319",
   "metadata": {},
   "source": [
    "# View 0: Send nodes rather than labels in schema"
   ]
  },
  {
   "cell_type": "code",
   "execution_count": null,
   "id": "490aa926",
   "metadata": {
    "scrolled": true
   },
   "outputs": [],
   "source": [
    "schema"
   ]
  },
  {
   "cell_type": "markdown",
   "id": "3a548c8d",
   "metadata": {},
   "source": [
    "# View 0: Click a node on minimap"
   ]
  },
  {
   "cell_type": "code",
   "execution_count": null,
   "id": "f84e99ab",
   "metadata": {
    "scrolled": true
   },
   "outputs": [],
   "source": [
    "node ={'node_label': 'occupation',\n",
    "       'node_property': 'title', \n",
    "       'node_property_value': 'occupation'}\n",
    "\n",
    "service.get_children_node_distributions('occupation', 'title', 'Healthcare Occupations')"
   ]
  },
  {
   "cell_type": "markdown",
   "id": "8c1f0b66",
   "metadata": {},
   "source": [
    "# View 0: Click a bar on node_dist"
   ]
  },
  {
   "cell_type": "code",
   "execution_count": null,
   "id": "6d39b2ec",
   "metadata": {},
   "outputs": [],
   "source": [
    "node ={'node_label': 'occupation',\n",
    "       'node_property': 'title', \n",
    "       'node_property_value': 'Allied Health Occupations'}"
   ]
  },
  {
   "cell_type": "code",
   "execution_count": null,
   "id": "e039bdd0",
   "metadata": {},
   "outputs": [],
   "source": [
    "nn = service.get_node_neighborhood(node)\n",
    "nn"
   ]
  },
  {
   "cell_type": "markdown",
   "id": "c56c3b0f",
   "metadata": {},
   "source": [
    "# View 0: Click a bar on relation dist"
   ]
  },
  {
   "cell_type": "code",
   "execution_count": null,
   "id": "b9e34912",
   "metadata": {},
   "outputs": [],
   "source": [
    "node ={'node_label': 'occupation',\n",
    "       'node_property': 'title', \n",
    "       'node_property_value': 'Fire Alarm Technicians'}\n",
    "\n",
    "relation = {}\n",
    "relation['type'] = 'has_core_skill'\n",
    "relation['direction'] = 'out'"
   ]
  },
  {
   "cell_type": "code",
   "execution_count": null,
   "id": "a4467683",
   "metadata": {
    "scrolled": true
   },
   "outputs": [],
   "source": [
    "service.get_relation_neighborhood(node, relation)"
   ]
  },
  {
   "cell_type": "code",
   "execution_count": null,
   "id": "c863e3c1",
   "metadata": {},
   "outputs": [],
   "source": [
    "service.get_relation_neighborhood(None, relation)"
   ]
  },
  {
   "cell_type": "markdown",
   "id": "62415a68",
   "metadata": {},
   "source": [
    "# View 1: Click a node on zoomed in graph"
   ]
  },
  {
   "cell_type": "code",
   "execution_count": null,
   "id": "8bf5a17a",
   "metadata": {},
   "outputs": [],
   "source": []
  },
  {
   "cell_type": "markdown",
   "id": "74e35603",
   "metadata": {},
   "source": [
    "# View 1: Click a node on node_dist"
   ]
  },
  {
   "cell_type": "code",
   "execution_count": null,
   "id": "db003b70",
   "metadata": {},
   "outputs": [],
   "source": []
  },
  {
   "cell_type": "markdown",
   "id": "cbd39b78",
   "metadata": {},
   "source": [
    "# View 1: Click a node on relation dist"
   ]
  },
  {
   "cell_type": "code",
   "execution_count": null,
   "id": "29261857",
   "metadata": {},
   "outputs": [],
   "source": []
  }
 ],
 "metadata": {
  "kernelspec": {
   "display_name": "Python 3 (ipykernel)",
   "language": "python",
   "name": "python3"
  },
  "language_info": {
   "codemirror_mode": {
    "name": "ipython",
    "version": 3
   },
   "file_extension": ".py",
   "mimetype": "text/x-python",
   "name": "python",
   "nbconvert_exporter": "python",
   "pygments_lexer": "ipython3",
   "version": "3.9.13"
  },
  "vscode": {
   "interpreter": {
    "hash": "1969bb85aac28e13d40e6bbb10858a8d5a24994d890621fece8ba081534ca906"
   }
  }
 },
 "nbformat": 4,
 "nbformat_minor": 5
}
