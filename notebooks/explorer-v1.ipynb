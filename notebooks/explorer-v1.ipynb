{
 "cells": [
  {
   "cell_type": "markdown",
   "id": "086e59a3",
   "metadata": {},
   "source": [
    "# Import Widget Libraries"
   ]
  },
  {
   "cell_type": "code",
   "execution_count": null,
   "id": "d4a1228b",
   "metadata": {},
   "outputs": [],
   "source": [
    "%load_ext autoreload   \n",
    "%autoreload 2\n",
    "import kyurem\n",
    "from kyurem.core.idom_loader import reload_bundle\n",
    "from kyurem.core.widget import WidgetModel"
   ]
  },
  {
   "cell_type": "markdown",
   "id": "509de0e1",
   "metadata": {},
   "source": [
    "# Import Graph Querying Library"
   ]
  },
  {
   "cell_type": "code",
   "execution_count": null,
   "id": "9c44e8e4",
   "metadata": {},
   "outputs": [],
   "source": [
    "from kyurem import Service\n",
    "service = Service(kh = 'indeed.v0.0.1:612e3403')"
   ]
  },
  {
   "cell_type": "code",
   "execution_count": null,
   "id": "53dc8ef8",
   "metadata": {},
   "outputs": [],
   "source": [
    "schema = service.get_kh_edge_list()"
   ]
  },
  {
   "cell_type": "markdown",
   "id": "80af343a",
   "metadata": {},
   "source": [
    "# Create an Overview/Exploration Widget"
   ]
  },
  {
   "cell_type": "code",
   "execution_count": 21,
   "id": "4f1794f4",
   "metadata": {
    "scrolled": false
   },
   "outputs": [
    {
     "data": {
      "text/plain": [
       "component(7efc54619dc0, self=<kyurem.widgets.ReducerWidget.ReducerWidget object at 0x7efc545867c0>)"
      ]
     },
     "execution_count": 21,
     "metadata": {},
     "output_type": "execute_result"
    },
    {
     "data": {
      "application/vnd.jupyter.widget-view+json": {
       "model_id": "c7a90d63b0714dd18d7277d9f2006cad",
       "version_major": 2,
       "version_minor": 0
      },
      "text/plain": [
       "LayoutWidget(Layout(component(7efc54619dc0, self=<kyurem.widgets.ReducerWidget.ReducerWidget object at 0x7efc5…"
      ]
     },
     "metadata": {},
     "output_type": "display_data"
    }
   ],
   "source": [
    "from kyurem import Explorer\n",
    "\n",
    "\n",
    "def init(state): \n",
    "    # Fetch initial view data\n",
    "    return {\n",
    "        \"subgraph\": None,\n",
    "        \"children\": service.get_children_node_distributions(),\n",
    "        \"relations\": service.get_relation_distribution(),\n",
    "    }\n",
    "\n",
    "def focus(state, node, panel):\n",
    "    # node can be in one of two formats:\n",
    "    # node : { \"node_label\": str, \"node_property\": str, \"node_property_value\": str }\n",
    "    # node : { \"node_label\": str, \"title\": str, \"uuid\": str }\n",
    "    \n",
    "    # Since the service functions use the first format, node must first\n",
    "    # be converted to the proper format\n",
    "    if \"title\" in node:\n",
    "        node = {\n",
    "            \"node_label\": node[\"node_label\"],\n",
    "            \"node_property\": \"title\",\n",
    "            \"node_property_value\": node[\"title\"]\n",
    "        }\n",
    "        \n",
    "    # TODO: Return nodes in a consistent format from the service\n",
    "    #       functions to streamline the above\n",
    "    \n",
    "    \n",
    "    # Fetch the neighborhood around the input node \n",
    "    result = service.get_node_neighborhood(node)\n",
    "    \n",
    "    data = { \"subgraph\": None }\n",
    "    if panel != \"schema\":\n",
    "        data[\"schema\"] = result[\"schema\"]\n",
    "    if panel != \"children\":\n",
    "        # TODO: Accept a consistent input format (e.g., same as get_node_neighborhood)\n",
    "        data[\"children\"] = service.get_children_node_distributions(\n",
    "            node\n",
    "        )\n",
    "\n",
    "    # Use a list comprehension to convert the return format of the relation_dist \n",
    "    # to a bar-chart format\n",
    "    data[\"relations\"] = [\n",
    "        {\"x\": relation[\"label\"], \"y\": relation[\"count\"], \"type\": type, \"relation\": { \"type\": relation[\"label\"], \"direction\": type } }\n",
    "        for type, relations in result[\"relation_dist\"].items()\n",
    "        for relation in relations\n",
    "    ]\n",
    "    # TODO: Move conversion code into service\n",
    "    \n",
    "    return data\n",
    "\n",
    "def focus_relation(state, relation):\n",
    "    node = WidgetModel.unproxy(state.focus_node)\n",
    "    # node can be in one of two formats:\n",
    "    # node : { \"node_label\": str, \"node_property\": str, \"node_property_value\": str }\n",
    "    # node : { \"node_label\": str, \"title\": str, \"uuid\": str }\n",
    "    \n",
    "    # Since the service functions use the first format, node must first\n",
    "    # be converted to the proper format\n",
    "    if node is not None and \"title\" in node:\n",
    "        node = {\n",
    "            \"node_label\": node[\"node_label\"],\n",
    "            \"node_property\": \"title\",\n",
    "            \"node_property_value\": node[\"title\"]\n",
    "        }\n",
    "        \n",
    "    # TODO: Return nodes in a consistent format from the service\n",
    "    #       functions to streamline the above\n",
    "    \n",
    "    # Fetch the neighborhood around the focus node/relation\n",
    "    result = service.get_relation_neighborhood(node, relation)\n",
    "    data = {}\n",
    "    data['schema'] = result[\"schema\"]\n",
    "    data['children'] = [\n",
    "        {\"x\": x, \"y\": y} for x, y in result[\"node_dist\"].items()\n",
    "    ]\n",
    "    return data\n",
    "\n",
    "# Create widget \n",
    "reload_bundle()\n",
    "explorer = Explorer({\n",
    "        \"init\": init,\n",
    "        \"focus\": focus,\n",
    "        \"focus_relation\": focus_relation\n",
    "    }, schema)\n",
    "\n",
    "explorer.show()"
   ]
  },
  {
   "cell_type": "code",
   "execution_count": 22,
   "id": "a1a62fa7",
   "metadata": {
    "scrolled": true
   },
   "outputs": [
    {
     "name": "stdout",
     "output_type": "stream",
     "text": [
      "[ {\n",
      "    \u001b[91m\"action\"\u001b[0m: {\n",
      "      \u001b[91m\"name\"\u001b[0m: \u001b[91m\"init\"\u001b[0m,\n",
      "      \u001b[91m\"args\"\u001b[0m: \u001b[92m()\u001b[0m,\n",
      "      \u001b[91m\"kwargs\"\u001b[0m: {},\n",
      "    },\n",
      "    \u001b[91m\"state\"\u001b[0m: {\n",
      "      \u001b[91m\"did_init\"\u001b[0m: \u001b[1m\u001b[92mTrue\u001b[0m,\n",
      "      \u001b[91m\"data\"\u001b[0m: { \u001b[35m...4 items...\u001b[0m },\n",
      "      \u001b[91m\"is_loading\"\u001b[0m: \u001b[1m\u001b[92mFalse\u001b[0m,\n",
      "      \u001b[91m\"focus_node\"\u001b[0m: { \u001b[35m...3 items...\u001b[0m },\n",
      "      \u001b[91m\"focus_panel\"\u001b[0m: \u001b[92mNone\u001b[0m,\n",
      "    },\n",
      "  } ]\n"
     ]
    }
   ],
   "source": [
    "from kyurem.utils.mdump import mdump\n",
    "print(mdump(explorer.history, 3))"
   ]
  },
  {
   "cell_type": "code",
   "execution_count": null,
   "id": "17ffcac9",
   "metadata": {},
   "outputs": [],
   "source": [
    "# def filter_by_relation(state, type, direction):\n",
    "#     if state.nodelabel and state.nodetitle:\n",
    "#         node = {\n",
    "#             \"node_label\": state.nodelabel,\n",
    "#             \"node_property\": \"title\",\n",
    "#             \"node_property_value\": state.nodetitle,\n",
    "#         }\n",
    "#     else:\n",
    "#         node = None\n",
    "\n",
    "#     result = service.get_relation_neighborhood(node, {\"type\": type, \"direction\": direction})\n",
    "#     data = {}\n",
    "#     data['schema'] = result[\"schema\"]\n",
    "#     if not node:\n",
    "#         data['children'] = [\n",
    "#             {\"x\": x, \"y\": y} for x, y in result[\"node_dist\"].items()\n",
    "#         ]\n",
    "#     return data"
   ]
  },
  {
   "cell_type": "markdown",
   "id": "eae0a319",
   "metadata": {},
   "source": [
    "# View 0: Send nodes rather than labels in schema"
   ]
  },
  {
   "cell_type": "code",
   "execution_count": null,
   "id": "490aa926",
   "metadata": {
    "scrolled": true
   },
   "outputs": [],
   "source": [
    "schema"
   ]
  },
  {
   "cell_type": "markdown",
   "id": "3a548c8d",
   "metadata": {},
   "source": [
    "# View 0: Click a node on minimap"
   ]
  },
  {
   "cell_type": "code",
   "execution_count": null,
   "id": "f84e99ab",
   "metadata": {
    "scrolled": true
   },
   "outputs": [
    {
     "data": {
      "text/plain": [
       "[{'x': 'Pharmacists', 'y': 2},\n",
       " {'x': 'Veterinarians', 'y': 2},\n",
       " {'x': 'Medical Affairs Occupations', 'y': 2},\n",
       " {'x': 'Dentists', 'y': 2},\n",
       " {'x': 'Community Health & Wellbeing Occupations', 'y': 3},\n",
       " {'x': 'Pharmacy Occupations', 'y': 4},\n",
       " {'x': 'Healthcare Assisting Occupations', 'y': 5},\n",
       " {'x': 'Care Workers', 'y': 5},\n",
       " {'x': 'Medical Device Occupations', 'y': 5},\n",
       " {'x': 'Veterinary Occupations', 'y': 5},\n",
       " {'x': 'Healthcare Science Practitioners & Assistants', 'y': 5},\n",
       " {'x': 'Healthcare Technicians', 'y': 6},\n",
       " {'x': 'Dental Occupations', 'y': 6},\n",
       " {'x': 'Alternative Medicine Occupations', 'y': 8},\n",
       " {'x': 'Healthcare Management Occupations', 'y': 8},\n",
       " {'x': 'Therapy Occupations ', 'y': 8},\n",
       " {'x': 'Mental & Behavioral Health Occupations', 'y': 9},\n",
       " {'x': 'Physicians & Physician Assistants', 'y': 9},\n",
       " {'x': 'Technical Healthcare Occupations', 'y': 9},\n",
       " {'x': 'Ophthalmology Occupations', 'y': 9},\n",
       " {'x': 'Healthcare Administrative Support Occupations', 'y': 10},\n",
       " {'x': 'Nurses', 'y': 15},\n",
       " {'x': 'Physical Health Therapy Occupations', 'y': 15},\n",
       " {'x': 'occupation', 'y': 27},\n",
       " {'x': 'Allied Health Occupations', 'y': 34}]"
      ]
     },
     "execution_count": 8,
     "metadata": {},
     "output_type": "execute_result"
    }
   ],
   "source": [
    "node ={'node_label': 'occupation',\n",
    "       'node_property': 'title', \n",
    "       'node_property_value': 'occupation'}\n",
    "\n",
    "service.get_children_node_distributions('occupation', 'title', 'Healthcare Occupations')"
   ]
  },
  {
   "cell_type": "markdown",
   "id": "8c1f0b66",
   "metadata": {},
   "source": [
    "# View 0: Click a bar on node_dist"
   ]
  },
  {
   "cell_type": "code",
   "execution_count": null,
   "id": "6d39b2ec",
   "metadata": {},
   "outputs": [],
   "source": [
    "node ={'node_label': 'occupation',\n",
    "       'node_property': 'title', \n",
    "       'node_property_value': 'Allied Health Occupations'}"
   ]
  },
  {
   "cell_type": "code",
   "execution_count": null,
   "id": "e039bdd0",
   "metadata": {},
   "outputs": [
    {
     "data": {
      "text/plain": [
       "{'relation_dist': {'in': [{'count': 1, 'label': 'specialization'},\n",
       "   {'count': 32, 'label': 'generalization'}],\n",
       "  'out': [{'count': 1, 'label': 'generalization'},\n",
       "   {'count': 1, 'label': 'EXTRACTED_BY'},\n",
       "   {'count': 1, 'label': 'EXTRACTED_FROM'},\n",
       "   {'count': 32, 'label': 'specialization'}]},\n",
       " 'schema': [{'emphasis': 'yes',\n",
       "   'label': 'specialization',\n",
       "   'source': {'node_label': 'occupation',\n",
       "    'node_property': 'title',\n",
       "    'node_property_value': 'Allied Health Occupations'},\n",
       "   'target': {'node_label': 'occupation',\n",
       "    'node_property': 'title',\n",
       "    'node_property_value': 'Healthcare Occupations'},\n",
       "   'weight': 1},\n",
       "  {'emphasis': 'yes',\n",
       "   'label': 'generalization',\n",
       "   'source': {'node_label': 'occupation',\n",
       "    'node_property': 'title',\n",
       "    'node_property_value': 'Allied Health Occupations'},\n",
       "   'target': {'node_label': 'occupation',\n",
       "    'node_property': 'title',\n",
       "    'node_property_value': 'Patient Care Advocates'},\n",
       "   'weight': 1},\n",
       "  {'emphasis': 'yes',\n",
       "   'label': 'generalization',\n",
       "   'source': {'node_label': 'occupation',\n",
       "    'node_property': 'title',\n",
       "    'node_property_value': 'Allied Health Occupations'},\n",
       "   'target': {'node_label': 'occupation',\n",
       "    'node_property': 'title',\n",
       "    'node_property_value': 'Psychotherapists'},\n",
       "   'weight': 1},\n",
       "  {'emphasis': 'yes',\n",
       "   'label': 'generalization',\n",
       "   'source': {'node_label': 'occupation',\n",
       "    'node_property': 'title',\n",
       "    'node_property_value': 'Allied Health Occupations'},\n",
       "   'target': {'node_label': 'occupation',\n",
       "    'node_property': 'title',\n",
       "    'node_property_value': 'Dietary Aides'},\n",
       "   'weight': 1},\n",
       "  {'emphasis': 'yes',\n",
       "   'label': 'generalization',\n",
       "   'source': {'node_label': 'occupation',\n",
       "    'node_property': 'title',\n",
       "    'node_property_value': 'Allied Health Occupations'},\n",
       "   'target': {'node_label': 'occupation',\n",
       "    'node_property': 'title',\n",
       "    'node_property_value': 'Therapeutic Radiographers'},\n",
       "   'weight': 1},\n",
       "  {'emphasis': 'yes',\n",
       "   'label': 'generalization',\n",
       "   'source': {'node_label': 'occupation',\n",
       "    'node_property': 'title',\n",
       "    'node_property_value': 'Allied Health Occupations'},\n",
       "   'target': {'node_label': 'occupation',\n",
       "    'node_property': 'title',\n",
       "    'node_property_value': 'Surgical First Assistants'},\n",
       "   'weight': 1},\n",
       "  {'emphasis': 'yes',\n",
       "   'label': 'generalization',\n",
       "   'source': {'node_label': 'occupation',\n",
       "    'node_property': 'title',\n",
       "    'node_property_value': 'Allied Health Occupations'},\n",
       "   'target': {'node_label': 'occupation',\n",
       "    'node_property': 'title',\n",
       "    'node_property_value': 'Specimen Collection & Laboratory Analysis Occupations'},\n",
       "   'weight': 1},\n",
       "  {'emphasis': 'yes',\n",
       "   'label': 'generalization',\n",
       "   'source': {'node_label': 'occupation',\n",
       "    'node_property': 'title',\n",
       "    'node_property_value': 'Allied Health Occupations'},\n",
       "   'target': {'node_label': 'occupation',\n",
       "    'node_property': 'title',\n",
       "    'node_property_value': 'Occupational Therapists'},\n",
       "   'weight': 1},\n",
       "  {'emphasis': 'yes',\n",
       "   'label': 'generalization',\n",
       "   'source': {'node_label': 'occupation',\n",
       "    'node_property': 'title',\n",
       "    'node_property_value': 'Allied Health Occupations'},\n",
       "   'target': {'node_label': 'occupation',\n",
       "    'node_property': 'title',\n",
       "    'node_property_value': 'Surgical Technologists'},\n",
       "   'weight': 1},\n",
       "  {'emphasis': 'yes',\n",
       "   'label': 'generalization',\n",
       "   'source': {'node_label': 'occupation',\n",
       "    'node_property': 'title',\n",
       "    'node_property_value': 'Allied Health Occupations'},\n",
       "   'target': {'node_label': 'occupation',\n",
       "    'node_property': 'title',\n",
       "    'node_property_value': 'Anesthesia Technicians & Technologists'},\n",
       "   'weight': 1},\n",
       "  {'emphasis': 'yes',\n",
       "   'label': 'EXTRACTED_BY',\n",
       "   'source': {'node_label': 'occupation',\n",
       "    'node_property': 'title',\n",
       "    'node_property_value': 'Allied Health Occupations'},\n",
       "   'target': {'node_label': 'EXTRACTOR',\n",
       "    'node_property': 'title',\n",
       "    'node_property_value': 'csv_reader'},\n",
       "   'weight': 1}]}"
      ]
     },
     "execution_count": 10,
     "metadata": {},
     "output_type": "execute_result"
    }
   ],
   "source": [
    "nn = service.get_node_neighborhood(node)\n",
    "nn"
   ]
  },
  {
   "cell_type": "markdown",
   "id": "c56c3b0f",
   "metadata": {},
   "source": [
    "# View 0: Click a bar on relation dist"
   ]
  },
  {
   "cell_type": "code",
   "execution_count": null,
   "id": "b9e34912",
   "metadata": {},
   "outputs": [],
   "source": [
    "node ={'node_label': 'occupation',\n",
    "       'node_property': 'title', \n",
    "       'node_property_value': 'Fire Alarm Technicians'}\n",
    "\n",
    "relation = {}\n",
    "relation['type'] = 'has_core_skill'\n",
    "relation['direction'] = 'out'"
   ]
  },
  {
   "cell_type": "code",
   "execution_count": null,
   "id": "a4467683",
   "metadata": {
    "scrolled": true
   },
   "outputs": [],
   "source": [
    "service.get_relation_neighborhood(node, relation)"
   ]
  },
  {
   "cell_type": "code",
   "execution_count": null,
   "id": "c863e3c1",
   "metadata": {},
   "outputs": [],
   "source": [
    "service.get_relation_neighborhood(None, relation)"
   ]
  },
  {
   "cell_type": "markdown",
   "id": "62415a68",
   "metadata": {},
   "source": [
    "# View 1: Click a node on zoomed in graph"
   ]
  },
  {
   "cell_type": "code",
   "execution_count": null,
   "id": "8bf5a17a",
   "metadata": {},
   "outputs": [],
   "source": []
  },
  {
   "cell_type": "markdown",
   "id": "74e35603",
   "metadata": {},
   "source": [
    "# View 1: Click a node on node_dist"
   ]
  },
  {
   "cell_type": "code",
   "execution_count": null,
   "id": "db003b70",
   "metadata": {},
   "outputs": [],
   "source": []
  },
  {
   "cell_type": "markdown",
   "id": "cbd39b78",
   "metadata": {},
   "source": [
    "# View 1: Click a node on relation dist"
   ]
  },
  {
   "cell_type": "code",
   "execution_count": null,
   "id": "29261857",
   "metadata": {},
   "outputs": [],
   "source": []
  }
 ],
 "metadata": {
  "kernelspec": {
   "display_name": "Python 3 (ipykernel)",
   "language": "python",
   "name": "python3"
  },
  "language_info": {
   "codemirror_mode": {
    "name": "ipython",
    "version": 3
   },
   "file_extension": ".py",
   "mimetype": "text/x-python",
   "name": "python",
   "nbconvert_exporter": "python",
   "pygments_lexer": "ipython3",
   "version": "3.10.5"
  },
  "vscode": {
   "interpreter": {
    "hash": "1969bb85aac28e13d40e6bbb10858a8d5a24994d890621fece8ba081534ca906"
   }
  }
 },
 "nbformat": 4,
 "nbformat_minor": 5
}
