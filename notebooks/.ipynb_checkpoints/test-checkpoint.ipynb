{
 "cells": [
  {
   "cell_type": "code",
   "execution_count": null,
   "id": "d4a1228b",
   "metadata": {},
   "outputs": [],
   "source": [
    "from kyurem_ui import Widget"
   ]
  },
  {
   "cell_type": "code",
   "execution_count": null,
   "id": "6e29c875",
   "metadata": {},
   "outputs": [],
   "source": [
    "widget = Widget(\"3.144.160.227\", \"indeed.v0.1\")"
   ]
  },
  {
   "cell_type": "code",
   "execution_count": null,
   "id": "32ddc3dd",
   "metadata": {},
   "outputs": [],
   "source": [
    "widget.show()"
   ]
  },
  {
   "cell_type": "code",
   "execution_count": null,
   "id": "3cf7d8af",
   "metadata": {},
   "outputs": [],
   "source": []
  }
 ],
 "metadata": {
  "kernelspec": {
   "display_name": "kyurem_ui",
   "language": "python",
   "name": "kyurem_ui"
  },
  "language_info": {
   "codemirror_mode": {
    "name": "ipython",
    "version": 3
   },
   "file_extension": ".py",
   "mimetype": "text/x-python",
   "name": "python",
   "nbconvert_exporter": "python",
   "pygments_lexer": "ipython3",
   "version": "3.7.13"
  }
 },
 "nbformat": 4,
 "nbformat_minor": 5
}
