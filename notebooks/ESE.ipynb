{
 "cells": [
  {
   "cell_type": "markdown",
   "id": "086e59a3",
   "metadata": {},
   "source": [
    "# Import Widget Libraries"
   ]
  },
  {
   "cell_type": "code",
   "execution_count": 1,
   "id": "d4a1228b",
   "metadata": {},
   "outputs": [
    {
     "name": "stdout",
     "output_type": "stream",
     "text": [
      "kyurem_client: 0.0.0\n"
     ]
    }
   ],
   "source": [
    "%load_ext autoreload   \n",
    "%autoreload 2\n",
    "import kyurem\n",
    "from kyurem.core.idom_loader import reload_bundle\n",
    "from kyurem.core.widget import WidgetModel"
   ]
  },
  {
   "cell_type": "markdown",
   "id": "509de0e1",
   "metadata": {},
   "source": [
    "# Import Relevant Data"
   ]
  },
  {
   "cell_type": "markdown",
   "id": "2e0646cb",
   "metadata": {},
   "source": [
    "## Import Graph"
   ]
  },
  {
   "cell_type": "code",
   "execution_count": 2,
   "id": "9c44e8e4",
   "metadata": {},
   "outputs": [],
   "source": [
    "from kyurem import Service\n",
    "service = Service(kh = 'indeed.v0.0.1:612e3403')"
   ]
  },
  {
   "cell_type": "code",
   "execution_count": 3,
   "id": "53dc8ef8",
   "metadata": {},
   "outputs": [],
   "source": [
    "schema = service.get_kh_edge_list()"
   ]
  },
  {
   "cell_type": "markdown",
   "id": "2adb1d4e",
   "metadata": {},
   "source": [
    "## Import Corpus Data"
   ]
  },
  {
   "cell_type": "code",
   "execution_count": 4,
   "id": "3ed8bac5",
   "metadata": {},
   "outputs": [],
   "source": [
    "import pandas as pd\n",
    "df = pd.read_csv(\"indeed_taxo_jd_indeed.v0.0.1_612e3403_map.csv\")\n",
    "data = df.to_dict('records')"
   ]
  },
  {
   "cell_type": "code",
   "execution_count": 5,
   "id": "f424bd0b",
   "metadata": {},
   "outputs": [],
   "source": [
    "service.load_corpus(data, concept='parent_title', context='context', highlight='child_title')"
   ]
  },
  {
   "cell_type": "markdown",
   "id": "80af343a",
   "metadata": {},
   "source": [
    "# ESE Seed Creation"
   ]
  },
  {
   "cell_type": "markdown",
   "id": "d24419b0",
   "metadata": {},
   "source": [
    "## Exploration"
   ]
  },
  {
   "cell_type": "code",
   "execution_count": 6,
   "id": "4f1794f4",
   "metadata": {
    "scrolled": false
   },
   "outputs": [],
   "source": [
    "from kyurem import ExplorerESE\n",
    "\n",
    "\n",
    "def init(): \n",
    "    # Fetch initial view data\n",
    "    return {\n",
    "        \"subgraph\": None,\n",
    "        \"children\": service.get_children_node_distributions(),\n",
    "        \"relations\": service.get_relation_distribution(),\n",
    "        \"datatable\": None,\n",
    "        \"highlight\": None,\n",
    "    }\n",
    "\n",
    "def focus(node, panel):\n",
    "    # node can be in one of two formats:\n",
    "    # node : { \"node_label\": str, \"node_property\": str, \"node_property_value\": str }\n",
    "    # node : { \"node_label\": str, \"title\": str, \"uuid\": str }\n",
    "    \n",
    "    # Since the service functions use the first format, node must first\n",
    "    # be converted to the proper format\n",
    "    if \"title\" in node:\n",
    "        node = {\n",
    "            \"node_label\": node[\"node_label\"],\n",
    "            \"node_property\": \"title\",\n",
    "            \"node_property_value\": node[\"title\"]\n",
    "        }\n",
    "        \n",
    "    # TODO: Return nodes in a consistent format from the service\n",
    "    #       functions to streamline the above\n",
    "    \n",
    "    \n",
    "    # Fetch the neighborhood around the input node \n",
    "    result = service.get_node_neighborhood(node)\n",
    "    datatable = service.get_annotated_corpus(node)\n",
    "    \n",
    "    data = { \"subgraph\": None }\n",
    "    if panel != \"schema\":\n",
    "        data[\"schema\"] = result[\"schema\"]\n",
    "    if panel != \"children\":\n",
    "        data[\"children\"] = service.get_children_node_distributions(node)\n",
    "\n",
    "    # Use a list comprehension to convert the return format of the relation_dist \n",
    "    # to a bar-chart format\n",
    "    data[\"relations\"] = [\n",
    "        {\"x\": relation[\"label\"], \"y\": relation[\"count\"], \"type\": type}\n",
    "        for type, relations in result[\"relation_dist\"].items()\n",
    "        for relation in relations\n",
    "    ]\n",
    "    # TODO: Move conversion code into service\n",
    "    if datatable[\"rows\"]:\n",
    "        data[\"datatable\"] = datatable[\"rows\"]\n",
    "        data[\"highlight\"] = datatable[\"highlight\"]\n",
    "    else:\n",
    "        data[\"datatable\"] = None\n",
    "        data[\"highlight\"] = None\n",
    "    return data"
   ]
  },
  {
   "cell_type": "code",
   "execution_count": 7,
   "id": "0f319b4d",
   "metadata": {},
   "outputs": [
    {
     "data": {
      "text/plain": [
       "component(10574aa60, self=<kyurem.widgets.StatefulWidgetBase.StatefulWidgetBase object at 0x10bcd95b0>)"
      ]
     },
     "execution_count": 7,
     "metadata": {},
     "output_type": "execute_result"
    },
    {
     "data": {
      "application/vnd.jupyter.widget-view+json": {
       "model_id": "8fbd30ee42f84f038fd2d4d24024c547",
       "version_major": 2,
       "version_minor": 0
      },
      "text/plain": [
       "LayoutWidget(Layout(component(10574aa60, self=<kyurem.widgets.StatefulWidgetBase.StatefulWidgetBase object at …"
      ]
     },
     "metadata": {},
     "output_type": "display_data"
    }
   ],
   "source": [
    "# For debugging\n",
    "reload_bundle()\n",
    "# Create widget \n",
    "explorer = ExplorerESE({\n",
    "        \"init\": init,\n",
    "        \"focus\": focus\n",
    "    }, schema)\n",
    "\n",
    "explorer.show()"
   ]
  },
  {
   "cell_type": "markdown",
   "id": "805ee0b6",
   "metadata": {},
   "source": [
    "## Export Seed"
   ]
  },
  {
   "cell_type": "code",
   "execution_count": 8,
   "id": "84aca39e",
   "metadata": {},
   "outputs": [
    {
     "data": {
      "text/plain": [
       "[{'emphasis': 'yes',\n",
       "  'label': 'isSpecializationOf',\n",
       "  'source': {'node_label': 'attribute',\n",
       "   'node_property': 'title',\n",
       "   'node_property_value': 'Hoyer Lift'},\n",
       "  'target': {'node_label': 'attribute',\n",
       "   'node_property': 'title',\n",
       "   'node_property_value': 'Caregiving Skills'},\n",
       "  'weight': 1},\n",
       " {'emphasis': 'yes',\n",
       "  'label': 'isSpecializationOf',\n",
       "  'source': {'node_label': 'attribute',\n",
       "   'node_property': 'title',\n",
       "   'node_property_value': \"Alzheimer's Care\"},\n",
       "  'target': {'node_label': 'attribute',\n",
       "   'node_property': 'title',\n",
       "   'node_property_value': 'Caregiving Skills'},\n",
       "  'weight': 1},\n",
       " {'emphasis': 'yes',\n",
       "  'label': 'isSpecializationOf',\n",
       "  'source': {'node_label': 'attribute',\n",
       "   'node_property': 'title',\n",
       "   'node_property_value': 'Babysitting'},\n",
       "  'target': {'node_label': 'attribute',\n",
       "   'node_property': 'title',\n",
       "   'node_property_value': 'Caregiving Skills'},\n",
       "  'weight': 1},\n",
       " {'emphasis': 'yes',\n",
       "  'label': 'isSpecializationOf',\n",
       "  'source': {'node_label': 'attribute',\n",
       "   'node_property': 'title',\n",
       "   'node_property_value': 'Caregiving'},\n",
       "  'target': {'node_label': 'attribute',\n",
       "   'node_property': 'title',\n",
       "   'node_property_value': 'Caregiving Skills'},\n",
       "  'weight': 1}]"
      ]
     },
     "execution_count": 8,
     "metadata": {},
     "output_type": "execute_result"
    }
   ],
   "source": [
    "explorer.export_selection()"
   ]
  },
  {
   "cell_type": "markdown",
   "id": "d7cdfa13",
   "metadata": {},
   "source": [
    "## Explore Provenance"
   ]
  },
  {
   "cell_type": "code",
   "execution_count": 9,
   "id": "56b36468",
   "metadata": {},
   "outputs": [
    {
     "data": {
      "text/plain": [
       "component(10bc3c4c0, self=<kyurem.widgets.StatefulWidgetBase.StatefulWidgetBase object at 0x10bc8f730>)"
      ]
     },
     "execution_count": 9,
     "metadata": {},
     "output_type": "execute_result"
    },
    {
     "data": {
      "application/vnd.jupyter.widget-view+json": {
       "model_id": "9a402b55685b432ea63217534f7d6732",
       "version_major": 2,
       "version_minor": 0
      },
      "text/plain": [
       "LayoutWidget(Layout(component(10bc3c4c0, self=<kyurem.widgets.StatefulWidgetBase.StatefulWidgetBase object at …"
      ]
     },
     "metadata": {},
     "output_type": "display_data"
    }
   ],
   "source": [
    "prov = explorer.history()\n",
    "prov.show()"
   ]
  },
  {
   "cell_type": "markdown",
   "id": "74e35603",
   "metadata": {},
   "source": [
    "# Merging Decision Making"
   ]
  },
  {
   "cell_type": "markdown",
   "id": "402fd521",
   "metadata": {},
   "source": [
    "## Load Merge Data"
   ]
  },
  {
   "cell_type": "code",
   "execution_count": null,
   "id": "29261857",
   "metadata": {},
   "outputs": [],
   "source": [
    "df2 = pd.read_csv(\"indeed.v0.0.1_612e3403_merged.csv\")\n",
    "merge_data = df2.to_dict('records')\n",
    "\n",
    "service.load_merge_data(merge_data, entity='extraction', node_label='concept', node_uuid='extr_uuid', node_title='node_title')\n",
    "mergedata = service.get_merge_data()[\"rows\"]"
   ]
  },
  {
   "cell_type": "code",
   "execution_count": null,
   "id": "1111223a",
   "metadata": {},
   "outputs": [],
   "source": [
    "decision_list = [\"Accept\", \"Reject\", \"Defer\"]"
   ]
  },
  {
   "cell_type": "markdown",
   "id": "bd47d855",
   "metadata": {},
   "source": [
    "## Verify Merging Recommendations"
   ]
  },
  {
   "cell_type": "code",
   "execution_count": null,
   "id": "8322d3fb",
   "metadata": {
    "scrolled": false
   },
   "outputs": [],
   "source": [
    "from kyurem import MergeVerifier\n",
    "\n",
    "\n",
    "def init(): \n",
    "    # Fetch initial view data\n",
    "    return {\n",
    "        \"subgraph\": None,\n",
    "        \"corpus\": None,\n",
    "        \"mergedata\":mergedata,\n",
    "        \"decisions\":decision_list,\n",
    "    }\n",
    "\n",
    "def focus(row, panel):\n",
    "    # node can be in the following format:\n",
    "    # node : { \"node_label\": str, \"node_property\": str, \"node_property_value\": str }\n",
    "    node = { \"node_label\": row[\"node_label\"], \"node_property\": \"title\", \"node_property_value\": row[\"node\"] }\n",
    "    entity = { \"node_label\": row[\"node_label\"], \"node_property\": \"title\", \"node_property_value\": row[\"entity\"] }\n",
    "    # Fetch the neighborhood around the input node \n",
    "    result = service.get_node_neighborhood(node)\n",
    "    datatable = service.get_annotated_corpus(entity)\n",
    "    \n",
    "    data = {}\n",
    "    data[\"subgraph\"] = result[\"schema\"]\n",
    "    # TODO: Move conversion code into service\n",
    "    if datatable[\"rows\"]:\n",
    "        data[\"corpus\"] = datatable[\"rows\"]\n",
    "        data[\"highlight\"] = datatable[\"highlight\"]\n",
    "    else:\n",
    "        data[\"corpus\"] = None\n",
    "        data[\"highlight\"] = None\n",
    "    return data\n",
    "  \n",
    "# Create widget \n",
    "merge_verifier = MergeVerifier({\n",
    "        \"init\": init,\n",
    "        \"focus\": focus\n",
    "    }, mergedata)\n",
    "\n",
    "merge_verifier.show()"
   ]
  },
  {
   "cell_type": "markdown",
   "id": "a3b3f8ce",
   "metadata": {},
   "source": [
    "## Todo: Export Merge Data"
   ]
  },
  {
   "cell_type": "code",
   "execution_count": null,
   "id": "3c51652b",
   "metadata": {},
   "outputs": [],
   "source": [
    "merge_verifier.state.data.mergedata"
   ]
  },
  {
   "cell_type": "code",
   "execution_count": null,
   "id": "041c6e70",
   "metadata": {},
   "outputs": [],
   "source": []
  }
 ],
 "metadata": {
  "kernelspec": {
   "display_name": "Python 3 (ipykernel)",
   "language": "python",
   "name": "python3"
  },
  "language_info": {
   "codemirror_mode": {
    "name": "ipython",
    "version": 3
   },
   "file_extension": ".py",
   "mimetype": "text/x-python",
   "name": "python",
   "nbconvert_exporter": "python",
   "pygments_lexer": "ipython3",
   "version": "3.9.13"
  },
  "vscode": {
   "interpreter": {
    "hash": "1969bb85aac28e13d40e6bbb10858a8d5a24994d890621fece8ba081534ca906"
   }
  }
 },
 "nbformat": 4,
 "nbformat_minor": 5
}
