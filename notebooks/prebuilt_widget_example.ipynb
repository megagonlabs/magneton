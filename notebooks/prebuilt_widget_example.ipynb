{
 "cells": [
  {
   "cell_type": "markdown",
   "id": "086e59a3",
   "metadata": {},
   "source": [
    "# Import Widget Libraries"
   ]
  },
  {
   "cell_type": "code",
   "execution_count": 1,
   "id": "d4a1228b",
   "metadata": {},
   "outputs": [
    {
     "name": "stdout",
     "output_type": "stream",
     "text": [
      "magneton_client: 0.0.0\n"
     ]
    }
   ],
   "source": [
    "%load_ext autoreload   \n",
    "%autoreload 2\n",
    "import magneton\n",
    "from magneton.core.idom_loader import reload_bundle\n",
    "from magneton.core.widget import WidgetModel"
   ]
  },
  {
   "cell_type": "markdown",
   "id": "08774d6f",
   "metadata": {},
   "source": [
    "# Pre-process Data"
   ]
  },
  {
   "cell_type": "code",
   "execution_count": 2,
   "id": "57342a7a",
   "metadata": {},
   "outputs": [],
   "source": [
    "import pandas as pd"
   ]
  },
  {
   "cell_type": "code",
   "execution_count": 3,
   "id": "4fd69c88",
   "metadata": {},
   "outputs": [],
   "source": [
    "def transform_data(data_url):\n",
    "    df = pd.read_csv(data_url)\n",
    "    df = df[df['Year'] == 2017]\n",
    "    df = df[['Cohort','State','Drivers']]\n",
    "    df = df.pivot_table(index=['State'], \n",
    "            columns=['Cohort'], values='Drivers').fillna(0)\n",
    "    df = df.reset_index()\n",
    "    return df"
   ]
  },
  {
   "cell_type": "code",
   "execution_count": 4,
   "id": "8a4be7c2",
   "metadata": {},
   "outputs": [],
   "source": [
    "data_url ='https://data.transportation.gov/api/views/xfkb-3bxx/rows.csv?accessType=DOWNLOAD'\n",
    "\n",
    "state_data_df = transform_data(data_url)"
   ]
  },
  {
   "cell_type": "markdown",
   "id": "e6b137b2",
   "metadata": {},
   "source": [
    "# Created LinkedViews from dataset"
   ]
  },
  {
   "cell_type": "code",
   "execution_count": 5,
   "id": "ff471859",
   "metadata": {},
   "outputs": [],
   "source": [
    "from magneton import LinkedViews\n",
    "\n",
    "# Create widget \n",
    "lv_widget = LinkedViews(state_data_df, 'State')"
   ]
  },
  {
   "cell_type": "code",
   "execution_count": 6,
   "id": "1c753772",
   "metadata": {},
   "outputs": [
    {
     "data": {
      "text/plain": [
       "component(114b5ca00, self=<magneton.core.widget.StatefulWidgetBase.StatefulWidgetBase object at 0x114b4cc70>)"
      ]
     },
     "execution_count": 6,
     "metadata": {},
     "output_type": "execute_result"
    },
    {
     "data": {
      "application/vnd.jupyter.widget-view+json": {
       "model_id": "7309619403fd49e998f69c1bdd61d38f",
       "version_major": 2,
       "version_minor": 0
      },
      "text/plain": [
       "LayoutWidget(Layout(component(114b5ca00, self=<magneton.core.widget.StatefulWidgetBase.StatefulWidgetBase obje…"
      ]
     },
     "metadata": {},
     "output_type": "display_data"
    }
   ],
   "source": [
    "#reload_bundle()\n",
    "lv_widget.show()"
   ]
  },
  {
   "cell_type": "code",
   "execution_count": 7,
   "id": "ead74177",
   "metadata": {},
   "outputs": [
    {
     "data": {
      "text/plain": [
       "component(114bd4760, self=<magneton.core.widget.StatefulWidgetBase.StatefulWidgetBase object at 0x114c2a490>)"
      ]
     },
     "execution_count": 7,
     "metadata": {},
     "output_type": "execute_result"
    },
    {
     "data": {
      "application/vnd.jupyter.widget-view+json": {
       "model_id": "03aa21a76203421fb6e477363dc8c725",
       "version_major": 2,
       "version_minor": 0
      },
      "text/plain": [
       "LayoutWidget(Layout(component(114bd4760, self=<magneton.core.widget.StatefulWidgetBase.StatefulWidgetBase obje…"
      ]
     },
     "metadata": {},
     "output_type": "display_data"
    }
   ],
   "source": [
    "#reload_bundle()\n",
    "lv_widget.history().show()"
   ]
  },
  {
   "cell_type": "code",
   "execution_count": null,
   "id": "badc3f4f",
   "metadata": {},
   "outputs": [],
   "source": [
    "#reload_bundle()\n",
    "lv_widget.get_state()"
   ]
  },
  {
   "cell_type": "code",
   "execution_count": 8,
   "id": "e30935b2",
   "metadata": {},
   "outputs": [
    {
     "data": {
      "text/plain": [
       "component(114bd4b20, self=<magneton.core.widget.StatefulWidgetBase.StatefulWidgetBase object at 0x114c517f0>)"
      ]
     },
     "execution_count": 8,
     "metadata": {},
     "output_type": "execute_result"
    },
    {
     "data": {
      "application/vnd.jupyter.widget-view+json": {
       "model_id": "991f75c2926c4cdca8dc424fd60a4b76",
       "version_major": 2,
       "version_minor": 0
      },
      "text/plain": [
       "LayoutWidget(Layout(component(114bd4b20, self=<magneton.core.widget.StatefulWidgetBase.StatefulWidgetBase obje…"
      ]
     },
     "metadata": {},
     "output_type": "display_data"
    }
   ],
   "source": [
    "lv_widget.view_state()"
   ]
  },
  {
   "cell_type": "code",
   "execution_count": null,
   "id": "913c240c",
   "metadata": {},
   "outputs": [],
   "source": []
  }
 ],
 "metadata": {
  "kernelspec": {
   "display_name": "Python 3 (ipykernel)",
   "language": "python",
   "name": "python3"
  },
  "language_info": {
   "codemirror_mode": {
    "name": "ipython",
    "version": 3
   },
   "file_extension": ".py",
   "mimetype": "text/x-python",
   "name": "python",
   "nbconvert_exporter": "python",
   "pygments_lexer": "ipython3",
   "version": "3.9.13"
  },
  "vscode": {
   "interpreter": {
    "hash": "1969bb85aac28e13d40e6bbb10858a8d5a24994d890621fece8ba081534ca906"
   }
  },
  "widgets": {
   "application/vnd.jupyter.widget-state+json": {
    "state": {
     "03aa21a76203421fb6e477363dc8c725": {
      "model_module": "idom-client-jupyter",
      "model_module_version": "^0.9.0",
      "model_name": "IdomModel",
      "state": {
       "_import_source_base_url": "http://localhost:8888/_idom_web_modules",
       "_model_module_version": "^0.9.0",
       "_view_module_version": "^0.9.0",
       "layout": "IPY_MODEL_826e5e45308a47a9a60e437c8985df35"
      }
     },
     "26fb86ba3e504251b782fd1abd2b1914": {
      "model_module": "@jupyter-widgets/base",
      "model_module_version": "1.2.0",
      "model_name": "LayoutModel",
      "state": {}
     },
     "7309619403fd49e998f69c1bdd61d38f": {
      "model_module": "idom-client-jupyter",
      "model_module_version": "^0.9.0",
      "model_name": "IdomModel",
      "state": {
       "_import_source_base_url": "http://localhost:8888/_idom_web_modules",
       "_model_module_version": "^0.9.0",
       "_view_module_version": "^0.9.0",
       "layout": "IPY_MODEL_26fb86ba3e504251b782fd1abd2b1914"
      }
     },
     "826e5e45308a47a9a60e437c8985df35": {
      "model_module": "@jupyter-widgets/base",
      "model_module_version": "1.2.0",
      "model_name": "LayoutModel",
      "state": {}
     },
     "991f75c2926c4cdca8dc424fd60a4b76": {
      "model_module": "idom-client-jupyter",
      "model_module_version": "^0.9.0",
      "model_name": "IdomModel",
      "state": {
       "_import_source_base_url": "http://localhost:8888/_idom_web_modules",
       "_model_module_version": "^0.9.0",
       "_view_module_version": "^0.9.0",
       "layout": "IPY_MODEL_b16ed3230e564537a240893e3f7f4373"
      }
     },
     "b16ed3230e564537a240893e3f7f4373": {
      "model_module": "@jupyter-widgets/base",
      "model_module_version": "1.2.0",
      "model_name": "LayoutModel",
      "state": {}
     }
    },
    "version_major": 2,
    "version_minor": 0
   }
  }
 },
 "nbformat": 4,
 "nbformat_minor": 5
}
