{
 "cells": [
  {
   "cell_type": "markdown",
   "id": "6af7faeb",
   "metadata": {},
   "source": [
    "# Import Widget Libraries"
   ]
  },
  {
   "cell_type": "code",
   "execution_count": 1,
   "id": "b8364dba",
   "metadata": {},
   "outputs": [
    {
     "name": "stdout",
     "output_type": "stream",
     "text": [
      "kyurem_client: 0.0.0\n"
     ]
    }
   ],
   "source": [
    "%load_ext autoreload   \n",
    "%autoreload 2\n",
    "import kyurem\n",
    "from kyurem.core.idom_loader import reload_bundle\n",
    "from kyurem.core.widget import WidgetModel"
   ]
  },
  {
   "cell_type": "code",
   "execution_count": 2,
   "id": "34295474",
   "metadata": {},
   "outputs": [],
   "source": [
    "from kyurem import Service\n",
    "service = Service(kh = 'indeed.v0.0.1:612e3403')"
   ]
  },
  {
   "cell_type": "markdown",
   "id": "a9f3f52e",
   "metadata": {},
   "source": [
    "## Load data "
   ]
  },
  {
   "cell_type": "code",
   "execution_count": 3,
   "id": "336cc311",
   "metadata": {},
   "outputs": [],
   "source": [
    "import pandas as pd\n",
    "df1 = pd.read_csv(\"indeed.v0.0.1_612e3403_sampled.csv\")\n",
    "corpus_data = df1.to_dict('records')\n",
    "\n",
    "df2 = pd.read_csv(\"indeed.v0.0.1_612e3403_merged.csv\")\n",
    "merge_data = df2.to_dict('records')"
   ]
  },
  {
   "cell_type": "code",
   "execution_count": 4,
   "id": "d3c8b1b8",
   "metadata": {},
   "outputs": [],
   "source": [
    "service.load_corpus(corpus_data, 'parent_title', 'context', 'child_title')"
   ]
  },
  {
   "cell_type": "code",
   "execution_count": 5,
   "id": "89b4bc8e",
   "metadata": {},
   "outputs": [],
   "source": [
    "service.load_merge_data(merge_data, 'corpus_entity', 'node_label', 'node_uuid', 'node_title')"
   ]
  },
  {
   "cell_type": "code",
   "execution_count": 6,
   "id": "5f19d457",
   "metadata": {},
   "outputs": [],
   "source": [
    "decision_list = [\"Accept\", \"Reject\", \"Defer\"]"
   ]
  },
  {
   "cell_type": "code",
   "execution_count": 7,
   "id": "0d224b75",
   "metadata": {},
   "outputs": [],
   "source": [
    "mergedata = service.get_merge_data()[\"rows\"]"
   ]
  },
  {
   "cell_type": "markdown",
   "id": "c0c38958",
   "metadata": {},
   "source": [
    "# Create Widget"
   ]
  },
  {
   "cell_type": "code",
   "execution_count": 9,
   "id": "c9baa7a7",
   "metadata": {},
   "outputs": [
    {
     "data": {
      "text/plain": [
       "component(1204eb460, self=<kyurem.widgets.WidgetWithHistory.WidgetWithHistory object at 0x12040b310>)"
      ]
     },
     "execution_count": 9,
     "metadata": {},
     "output_type": "execute_result"
    },
    {
     "data": {
      "application/vnd.jupyter.widget-view+json": {
       "model_id": "0ddbb3c25ca34df9849c292ad257ce27",
       "version_major": 2,
       "version_minor": 0
      },
      "text/plain": [
       "LayoutWidget(Layout(component(1204eb460, self=<kyurem.widgets.WidgetWithHistory.WidgetWithHistory object at 0x…"
      ]
     },
     "metadata": {},
     "output_type": "display_data"
    },
    {
     "name": "stderr",
     "output_type": "stream",
     "text": [
      "Exception in thread Thread-6:\n",
      "Traceback (most recent call last):\n",
      "  File \"/Users/srahman/.local/share/virtualenvs/kyurem-2fb28oF7/lib/python3.9/site-packages/jupyter_client/session.py\", line 99, in json_packer\n",
      "    return json.dumps(\n",
      "  File \"/Users/srahman/.pyenv/versions/3.9.13/lib/python3.9/json/__init__.py\", line 234, in dumps\n",
      "    return cls(\n",
      "  File \"/Users/srahman/.pyenv/versions/3.9.13/lib/python3.9/json/encoder.py\", line 199, in encode\n",
      "    chunks = self.iterencode(o, _one_shot=True)\n",
      "  File \"/Users/srahman/.pyenv/versions/3.9.13/lib/python3.9/json/encoder.py\", line 257, in iterencode\n",
      "    return _iterencode(o, 0)\n",
      "  File \"/Users/srahman/.local/share/virtualenvs/kyurem-2fb28oF7/lib/python3.9/site-packages/jupyter_client/jsonutil.py\", line 126, in json_default\n",
      "    raise TypeError(\"%r is not JSON serializable\" % obj)\n",
      "TypeError: <coroutine object MergeVerifier.focus at 0x1204024c0> is not JSON serializable\n",
      "\n",
      "During handling of the above exception, another exception occurred:\n",
      "\n",
      "Traceback (most recent call last):\n",
      "  File \"/Users/srahman/.pyenv/versions/3.9.13/lib/python3.9/threading.py\", line 980, in _bootstrap_inner\n",
      "    self.run()\n",
      "  File \"/Users/srahman/.pyenv/versions/3.9.13/lib/python3.9/threading.py\", line 917, in run\n",
      "    self._target(*self._args, **self._kwargs)\n",
      "  File \"/Users/srahman/.local/share/virtualenvs/kyurem-2fb28oF7/lib/python3.9/site-packages/idom_jupyter/widget.py\", line 111, in run_in_thread\n",
      "    loop.run_until_complete(coro)\n",
      "  File \"/Users/srahman/.pyenv/versions/3.9.13/lib/python3.9/asyncio/base_events.py\", line 647, in run_until_complete\n",
      "    return future.result()\n",
      "  File \"/Users/srahman/.local/share/virtualenvs/kyurem-2fb28oF7/lib/python3.9/site-packages/idom_jupyter/widget.py\", line 98, in _idom_layout_render_loop\n",
      "    self.send({\"viewID\": v_id, \"data\": diff})\n",
      "  File \"/Users/srahman/.local/share/virtualenvs/kyurem-2fb28oF7/lib/python3.9/site-packages/ipywidgets/widgets/widget.py\", line 637, in send\n",
      "    self._send({\"method\": \"custom\", \"content\": content}, buffers=buffers)\n",
      "  File \"/Users/srahman/.local/share/virtualenvs/kyurem-2fb28oF7/lib/python3.9/site-packages/ipywidgets/widgets/widget.py\", line 817, in _send\n",
      "    self.comm.send(data=msg, buffers=buffers)\n",
      "  File \"/Users/srahman/.local/share/virtualenvs/kyurem-2fb28oF7/lib/python3.9/site-packages/ipykernel/comm/comm.py\", line 137, in send\n",
      "    self._publish_msg(\n",
      "  File \"/Users/srahman/.local/share/virtualenvs/kyurem-2fb28oF7/lib/python3.9/site-packages/ipykernel/comm/comm.py\", line 71, in _publish_msg\n",
      "    self.kernel.session.send(\n",
      "  File \"/Users/srahman/.local/share/virtualenvs/kyurem-2fb28oF7/lib/python3.9/site-packages/jupyter_client/session.py\", line 844, in send\n",
      "    to_send = self.serialize(msg, ident)\n",
      "  File \"/Users/srahman/.local/share/virtualenvs/kyurem-2fb28oF7/lib/python3.9/site-packages/jupyter_client/session.py\", line 718, in serialize\n",
      "    content = self.pack(content)\n",
      "  File \"/Users/srahman/.local/share/virtualenvs/kyurem-2fb28oF7/lib/python3.9/site-packages/jupyter_client/session.py\", line 108, in json_packer\n",
      "    json_clean(obj),\n",
      "  File \"/Users/srahman/.local/share/virtualenvs/kyurem-2fb28oF7/lib/python3.9/site-packages/jupyter_client/jsonutil.py\", line 185, in json_clean\n",
      "    out[str(k)] = json_clean(v)\n",
      "  File \"/Users/srahman/.local/share/virtualenvs/kyurem-2fb28oF7/lib/python3.9/site-packages/jupyter_client/jsonutil.py\", line 185, in json_clean\n",
      "    out[str(k)] = json_clean(v)\n",
      "  File \"/Users/srahman/.local/share/virtualenvs/kyurem-2fb28oF7/lib/python3.9/site-packages/jupyter_client/jsonutil.py\", line 185, in json_clean\n",
      "    out[str(k)] = json_clean(v)\n",
      "  File \"/Users/srahman/.local/share/virtualenvs/kyurem-2fb28oF7/lib/python3.9/site-packages/jupyter_client/jsonutil.py\", line 169, in json_clean\n",
      "    return [json_clean(x) for x in obj]\n",
      "  File \"/Users/srahman/.local/share/virtualenvs/kyurem-2fb28oF7/lib/python3.9/site-packages/jupyter_client/jsonutil.py\", line 169, in <listcomp>\n",
      "    return [json_clean(x) for x in obj]\n",
      "  File \"/Users/srahman/.local/share/virtualenvs/kyurem-2fb28oF7/lib/python3.9/site-packages/jupyter_client/jsonutil.py\", line 169, in json_clean\n",
      "    return [json_clean(x) for x in obj]\n",
      "  File \"/Users/srahman/.local/share/virtualenvs/kyurem-2fb28oF7/lib/python3.9/site-packages/jupyter_client/jsonutil.py\", line 169, in <listcomp>\n",
      "    return [json_clean(x) for x in obj]\n",
      "  File \"/Users/srahman/.local/share/virtualenvs/kyurem-2fb28oF7/lib/python3.9/site-packages/jupyter_client/jsonutil.py\", line 185, in json_clean\n",
      "    out[str(k)] = json_clean(v)\n",
      "  File \"/Users/srahman/.local/share/virtualenvs/kyurem-2fb28oF7/lib/python3.9/site-packages/jupyter_client/jsonutil.py\", line 185, in json_clean\n",
      "    out[str(k)] = json_clean(v)\n",
      "  File \"/Users/srahman/.local/share/virtualenvs/kyurem-2fb28oF7/lib/python3.9/site-packages/jupyter_client/jsonutil.py\", line 169, in json_clean\n",
      "    return [json_clean(x) for x in obj]\n",
      "  File \"/Users/srahman/.local/share/virtualenvs/kyurem-2fb28oF7/lib/python3.9/site-packages/jupyter_client/jsonutil.py\", line 169, in <listcomp>\n",
      "    return [json_clean(x) for x in obj]\n",
      "  File \"/Users/srahman/.local/share/virtualenvs/kyurem-2fb28oF7/lib/python3.9/site-packages/jupyter_client/jsonutil.py\", line 192, in json_clean\n",
      "    raise ValueError(\"Can't clean for JSON: %r\" % obj)\n",
      "ValueError: Can't clean for JSON: <coroutine object MergeVerifier.focus at 0x1204024c0>\n"
     ]
    }
   ],
   "source": [
    "from kyurem import MergeVerifier\n",
    "\n",
    "\n",
    "def init(state): \n",
    "    # Fetch initial view data\n",
    "    return {\n",
    "        \"subgraph\": None,\n",
    "        \"corpus\": None,\n",
    "        \"mergedata\":mergedata,\n",
    "    }\n",
    "\n",
    "def focus(state, row, panel):\n",
    "    # node can be in the following format:\n",
    "    # node : { \"node_label\": str, \"node_property\": str, \"node_property_value\": str }\n",
    "    print()\n",
    "    node = { \"node_label\": row[\"node_label\"], \"node_property\": \"uuid\", \"node_property_value\": row[\"node_uuid\"] }\n",
    "    entity = node = { \"node_label\": row[\"node_label\"], \"node_property\": \"title\", \"node_property_value\": row[\"entity\"] }\n",
    "    # Fetch the neighborhood around the input node \n",
    "    result = service.get_node_neighborhood(node)\n",
    "    datatable = service.get_annotated_corpus(node)\n",
    "    \n",
    "    data[\"subgraph\"] = result[\"schema\"]\n",
    "    # TODO: Move conversion code into service\n",
    "    if datatable[\"rows\"]:\n",
    "        data[\"corpus\"] = datatable[\"rows\"]\n",
    "        data[\"highlight\"] = datatable[\"highlight\"]\n",
    "    else:\n",
    "        data[\"datatable\"] = None\n",
    "        data[\"highlight\"] = None\n",
    "    return data\n",
    "  \n",
    "# Create widget \n",
    "reload_bundle()\n",
    "merge_verifier = MergeVerifier({\n",
    "        \"init\": init,\n",
    "        \"focus\": focus\n",
    "    }, mergedata)\n",
    "\n",
    "merge_verifier.show()"
   ]
  },
  {
   "cell_type": "markdown",
   "id": "2afbd73d",
   "metadata": {},
   "source": [
    "## Select a node_title: Get node neighborhood"
   ]
  },
  {
   "cell_type": "code",
   "execution_count": null,
   "id": "e63caf35",
   "metadata": {},
   "outputs": [],
   "source": [
    "selected_uuid = \"0ec6aae471d34b0c8cc79eb223b120ad\"\n",
    "node = {\"node_label\":\"attribute\", \"node_property\":\"uuid\",\"node_property_value\":selected_uuid}\n",
    "service.get_node_neighborhood(node)"
   ]
  },
  {
   "cell_type": "markdown",
   "id": "20a0d105",
   "metadata": {},
   "source": [
    "## Select an entity: Get Corpus Table"
   ]
  },
  {
   "cell_type": "code",
   "execution_count": null,
   "id": "1895b23d",
   "metadata": {},
   "outputs": [],
   "source": [
    "selectedentity = \"\"\n",
    "node = {\"node_label\":None, \"node_property\":\"title\",\"node_property_value\":entity}\n",
    "contextable = service.get_annotated_corpus(node)"
   ]
  }
 ],
 "metadata": {
  "kernelspec": {
   "display_name": "Python 3 (ipykernel)",
   "language": "python",
   "name": "python3"
  },
  "language_info": {
   "codemirror_mode": {
    "name": "ipython",
    "version": 3
   },
   "file_extension": ".py",
   "mimetype": "text/x-python",
   "name": "python",
   "nbconvert_exporter": "python",
   "pygments_lexer": "ipython3",
   "version": "3.9.13"
  }
 },
 "nbformat": 4,
 "nbformat_minor": 5
}
