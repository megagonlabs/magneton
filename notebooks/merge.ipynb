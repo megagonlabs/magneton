{
 "cells": [
  {
   "cell_type": "markdown",
   "id": "6af7faeb",
   "metadata": {},
   "source": [
    "# Import Widget Libraries"
   ]
  },
  {
   "cell_type": "code",
   "execution_count": 1,
   "id": "b8364dba",
   "metadata": {},
   "outputs": [
    {
     "name": "stdout",
     "output_type": "stream",
     "text": [
      "kyurem_client: 0.0.0\n"
     ]
    }
   ],
   "source": [
    "%load_ext autoreload   \n",
    "%autoreload 2\n",
    "import kyurem\n",
    "from kyurem.core.idom_loader import reload_bundle\n",
    "from kyurem.core.widget import WidgetModel"
   ]
  },
  {
   "cell_type": "code",
   "execution_count": 5,
   "id": "34295474",
   "metadata": {},
   "outputs": [],
   "source": [
    "from kyurem import Service\n",
    "service = Service(kh = 'indeed.v0.0.1:612e3403')"
   ]
  },
  {
   "cell_type": "markdown",
   "id": "e835f60e",
   "metadata": {},
   "source": [
    "## Load data "
   ]
  },
  {
   "cell_type": "code",
   "execution_count": 17,
   "id": "336cc311",
   "metadata": {},
   "outputs": [],
   "source": [
    "import pandas as pd\n",
    "df1 = pd.read_csv(\"indeed.v0.0.1_612e3403_sampled.csv\")\n",
    "corpus_data = df1.to_dict('records')\n",
    "\n",
    "df2 = pd.read_csv(\"indeed.v0.0.1_612e3403_merged.csv\")\n",
    "merge_data = df2.to_dict('records')"
   ]
  },
  {
   "cell_type": "code",
   "execution_count": 18,
   "id": "d3c8b1b8",
   "metadata": {},
   "outputs": [],
   "source": [
    "service.load_corpus(corpus_data, 'parent_title', 'context', 'child_title')"
   ]
  },
  {
   "cell_type": "code",
   "execution_count": 19,
   "id": "89b4bc8e",
   "metadata": {},
   "outputs": [],
   "source": [
    "service.load_merge_data(merge_data, 'corpus_entity', 'node_label', 'node_uuid', 'node_title')"
   ]
  },
  {
   "cell_type": "code",
   "execution_count": 20,
   "id": "5f19d457",
   "metadata": {},
   "outputs": [],
   "source": [
    "decision_list = [\"Accept\", \"Reject\", \"Defer\"]"
   ]
  },
  {
   "cell_type": "code",
   "execution_count": 22,
   "id": "d8efc31c",
   "metadata": {},
   "outputs": [],
   "source": [
    "mergedata = service.get_merge_data()[\"rows\"]"
   ]
  },
  {
   "cell_type": "markdown",
   "id": "68323962",
   "metadata": {},
   "source": [
    "# Create Widget"
   ]
  },
  {
   "cell_type": "code",
   "execution_count": 28,
   "id": "d57ae640",
   "metadata": {},
   "outputs": [
    {
     "data": {
      "text/plain": [
       "component(109b3dc40, self=<kyurem.widgets.WidgetWithHistory.WidgetWithHistory object at 0x11aa957c0>)"
      ]
     },
     "execution_count": 28,
     "metadata": {},
     "output_type": "execute_result"
    },
    {
     "data": {
      "application/vnd.jupyter.widget-view+json": {
       "model_id": "3c308d132e7d4a60a0ba2307320420e9",
       "version_major": 2,
       "version_minor": 0
      },
      "text/plain": [
       "LayoutWidget(Layout(component(109b3dc40, self=<kyurem.widgets.WidgetWithHistory.WidgetWithHistory object at 0x…"
      ]
     },
     "metadata": {},
     "output_type": "display_data"
    }
   ],
   "source": [
    "from kyurem import MergeVerifier\n",
    "\n",
    "\n",
    "def init(state): \n",
    "    # Fetch initial view data\n",
    "    return {\n",
    "        \"subgraph\": None,\n",
    "        \"corpus\": None,\n",
    "        \"mergedata\":mergedata,\n",
    "    }\n",
    "\n",
    "def focus(state, row, panel):\n",
    "    # node can be in the following format:\n",
    "    # node : { \"node_label\": str, \"node_property\": str, \"node_property_value\": str }\n",
    "    \n",
    "    node = { \"node_label\": row[\"node_label\"], \"node_property\": \"uuid\", \"node_property_value\": row[\"node_uuid\"] }\n",
    "    entity = node = { \"node_label\": row[\"node_label\"], \"node_property\": \"title\", \"node_property_value\": row[\"entity\"] }\n",
    "    # Fetch the neighborhood around the input node \n",
    "    result = service.get_node_neighborhood(node)\n",
    "    datatable = service.get_annotated_corpus(node)\n",
    "    \n",
    "    data[\"subgraph\"] = result[\"schema\"]\n",
    "    # TODO: Move conversion code into service\n",
    "    if datatable[\"rows\"]:\n",
    "        data[\"corpus\"] = datatable[\"rows\"]\n",
    "        data[\"highlight\"] = datatable[\"highlight\"]\n",
    "    else:\n",
    "        data[\"datatable\"] = None\n",
    "        data[\"highlight\"] = None\n",
    "    return data\n",
    "  \n",
    "# Create widget \n",
    "reload_bundle()\n",
    "merge_verifier = MergeVerifier({\n",
    "        \"init\": init,\n",
    "        \"focus\": focus\n",
    "    }, mergedata)\n",
    "\n",
    "merge_verifier.show()"
   ]
  },
  {
   "cell_type": "markdown",
   "id": "68270ad7",
   "metadata": {},
   "source": [
    "## Select a node_title: Get node neighborhood"
   ]
  },
  {
   "cell_type": "code",
   "execution_count": null,
   "id": "e63caf35",
   "metadata": {},
   "outputs": [],
   "source": [
    "selected_uuid = \"0ec6aae471d34b0c8cc79eb223b120ad\"\n",
    "node = {\"node_label\":\"attribute\", \"node_property\":\"uuid\",\"node_property_value\":selected_uuid}\n",
    "service.get_node_neighborhood(node)"
   ]
  },
  {
   "cell_type": "markdown",
   "id": "44acd59c",
   "metadata": {},
   "source": [
    "## Select an entity: Get Corpus Table"
   ]
  },
  {
   "cell_type": "code",
   "execution_count": null,
   "id": "1895b23d",
   "metadata": {},
   "outputs": [],
   "source": [
    "selectedentity = \"\"\n",
    "node = {\"node_label\":None, \"node_property\":\"title\",\"node_property_value\":entity}\n",
    "contextable = service.get_annotated_corpus(node)"
   ]
  }
 ],
 "metadata": {
  "kernelspec": {
   "display_name": "Python 3 (ipykernel)",
   "language": "python",
   "name": "python3"
  },
  "language_info": {
   "codemirror_mode": {
    "name": "ipython",
    "version": 3
   },
   "file_extension": ".py",
   "mimetype": "text/x-python",
   "name": "python",
   "nbconvert_exporter": "python",
   "pygments_lexer": "ipython3",
   "version": "3.9.13"
  }
 },
 "nbformat": 4,
 "nbformat_minor": 5
}
