{
 "cells": [
  {
   "cell_type": "markdown",
   "id": "6af7faeb",
   "metadata": {},
   "source": [
    "# Import Widget Libraries"
   ]
  },
  {
   "cell_type": "code",
   "execution_count": 1,
   "id": "b8364dba",
   "metadata": {},
   "outputs": [
    {
     "name": "stdout",
     "output_type": "stream",
     "text": [
      "kyurem_client: 0.0.0\n"
     ]
    }
   ],
   "source": [
    "%load_ext autoreload   \n",
    "%autoreload 2\n",
    "import kyurem\n",
    "from kyurem.core.idom_loader import reload_bundle\n",
    "from kyurem.core.widget import WidgetModel"
   ]
  },
  {
   "cell_type": "code",
   "execution_count": 2,
   "id": "34295474",
   "metadata": {},
   "outputs": [],
   "source": [
    "from kyurem import Service\n",
    "service = Service(kh = 'indeed.v0.0.1:612e3403')"
   ]
  },
  {
   "cell_type": "code",
   "execution_count": 3,
   "id": "336cc311",
   "metadata": {},
   "outputs": [],
   "source": [
    "import pandas as pd\n",
    "df1 = pd.read_csv(\"indeed.v0.0.1_612e3403_sampled.csv\")\n",
    "corpus_data = df1.to_dict('records')\n",
    "\n",
    "df2 = pd.read_csv(\"indeed.v0.0.1_612e3403_merged.csv\")\n",
    "merge_data = df2.to_dict('records')"
   ]
  },
  {
   "cell_type": "code",
   "execution_count": 6,
   "id": "d3c8b1b8",
   "metadata": {},
   "outputs": [],
   "source": [
    "service.load_corpus(corpus_data, 'parent_title', 'context', 'child_title')"
   ]
  },
  {
   "cell_type": "code",
   "execution_count": 7,
   "id": "89b4bc8e",
   "metadata": {},
   "outputs": [],
   "source": [
    "service.load_merge_data(merge_data, 'corpus_entity', 'node_label', 'node_uuid', 'node_title')"
   ]
  },
  {
   "cell_type": "code",
   "execution_count": null,
   "id": "5f19d457",
   "metadata": {},
   "outputs": [],
   "source": [
    "decision_list = [\"Accept\", \"Reject\", \"Defer\"]"
   ]
  },
  {
   "cell_type": "code",
   "execution_count": 8,
   "id": "e63caf35",
   "metadata": {},
   "outputs": [
    {
     "data": {
      "text/plain": [
       "{'relation_dist': {'in': [{'count': 1, 'label': 'specialization'}],\n",
       "  'out': [{'count': 1, 'label': 'generalization'},\n",
       "   {'count': 1, 'label': 'EXTRACTED_BY'},\n",
       "   {'count': 1, 'label': 'EXTRACTED_FROM'}]},\n",
       " 'schema': [{'emphasis': 'yes',\n",
       "   'label': 'specialization',\n",
       "   'source': {'node_label': 'attribute',\n",
       "    'node_property': 'uuid',\n",
       "    'node_property_value': '0ec6aae471d34b0c8cc79eb223b120ad'},\n",
       "   'target': {'node_label': 'attribute',\n",
       "    'node_property': 'uuid',\n",
       "    'node_property_value': '061a40c17f5c4d799fdbd37a1e699226'},\n",
       "   'weight': 1},\n",
       "  {'emphasis': 'yes',\n",
       "   'label': 'EXTRACTED_BY',\n",
       "   'source': {'node_label': 'attribute',\n",
       "    'node_property': 'uuid',\n",
       "    'node_property_value': '0ec6aae471d34b0c8cc79eb223b120ad'},\n",
       "   'target': {'node_label': 'EXTRACTOR',\n",
       "    'node_property': 'uuid',\n",
       "    'node_property_value': 'e9a5ede1fb6346a5a4dd2898c238fde5'},\n",
       "   'weight': 1},\n",
       "  {'emphasis': 'yes',\n",
       "   'label': 'EXTRACTED_FROM',\n",
       "   'source': {'node_label': 'attribute',\n",
       "    'node_property': 'uuid',\n",
       "    'node_property_value': '0ec6aae471d34b0c8cc79eb223b120ad'},\n",
       "   'target': {'node_label': 'DATASET',\n",
       "    'node_property': 'uuid',\n",
       "    'node_property_value': 'b6be1716e03c4ea6a43438271712821a'},\n",
       "   'weight': 1}]}"
      ]
     },
     "execution_count": 8,
     "metadata": {},
     "output_type": "execute_result"
    }
   ],
   "source": [
    "selected_uuid = \"0ec6aae471d34b0c8cc79eb223b120ad\"\n",
    "node = {\"node_label\":\"attribute\", \"node_property\":\"uuid\",\"node_property_value\":selected_uuid}\n",
    "service.get_node_neighborhood(node)"
   ]
  },
  {
   "cell_type": "code",
   "execution_count": null,
   "id": "1895b23d",
   "metadata": {},
   "outputs": [],
   "source": [
    "selectedentity = \"\"\n",
    "node = {\"node_label\":None, \"node_property\":\"title\",\"node_property_value\":entity}\n",
    "contextable = service.get_annotated_corpus(node)"
   ]
  }
 ],
 "metadata": {
  "kernelspec": {
   "display_name": "Python 3 (ipykernel)",
   "language": "python",
   "name": "python3"
  },
  "language_info": {
   "codemirror_mode": {
    "name": "ipython",
    "version": 3
   },
   "file_extension": ".py",
   "mimetype": "text/x-python",
   "name": "python",
   "nbconvert_exporter": "python",
   "pygments_lexer": "ipython3",
   "version": "3.9.13"
  }
 },
 "nbformat": 4,
 "nbformat_minor": 5
}
