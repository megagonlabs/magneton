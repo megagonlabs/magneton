{
 "cells": [
  {
   "cell_type": "markdown",
   "id": "6af7faeb",
   "metadata": {},
   "source": [
    "# Import Widget Libraries"
   ]
  },
  {
   "cell_type": "code",
   "execution_count": 1,
   "id": "b8364dba",
   "metadata": {},
   "outputs": [
    {
     "name": "stdout",
     "output_type": "stream",
     "text": [
      "kyurem_client: 0.0.0\n"
     ]
    }
   ],
   "source": [
    "%load_ext autoreload   \n",
    "%autoreload 2\n",
    "import kyurem\n",
    "from kyurem.core.idom_loader import reload_bundle\n",
    "from kyurem.core.widget import WidgetModel"
   ]
  },
  {
   "cell_type": "code",
   "execution_count": 68,
   "id": "34295474",
   "metadata": {},
   "outputs": [],
   "source": [
    "from kyurem import Service\n",
    "service = Service(kh = 'indeed.v0.0.1:612e3403')"
   ]
  },
  {
   "cell_type": "markdown",
   "id": "0375c0eb",
   "metadata": {},
   "source": [
    "## Load data "
   ]
  },
  {
   "cell_type": "code",
   "execution_count": 69,
   "id": "336cc311",
   "metadata": {},
   "outputs": [],
   "source": [
    "import pandas as pd\n",
    "df1 = pd.read_csv(\"indeed.v0.0.1_612e3403_sampled.csv\")\n",
    "corpus_data = df1.to_dict('records')\n",
    "\n",
    "df2 = pd.read_csv(\"indeed.v0.0.1_612e3403_merged.csv\")\n",
    "merge_data = df2.to_dict('records')"
   ]
  },
  {
   "cell_type": "code",
   "execution_count": 70,
   "id": "d3c8b1b8",
   "metadata": {},
   "outputs": [],
   "source": [
    "# TODO: pass column na\n",
    "service.load_corpus(corpus_data, 'parent_title', 'context', 'child_title')"
   ]
  },
  {
   "cell_type": "code",
   "execution_count": 71,
   "id": "89b4bc8e",
   "metadata": {},
   "outputs": [],
   "source": [
    "service.load_merge_data(merge_data, 'corpus_entity', 'node_label', 'node_uuid', 'node_title')"
   ]
  },
  {
   "cell_type": "code",
   "execution_count": 72,
   "id": "5f19d457",
   "metadata": {},
   "outputs": [],
   "source": [
    "decision_list = [\"Accept\", \"Reject\", \"Defer\"]"
   ]
  },
  {
   "cell_type": "code",
   "execution_count": 73,
   "id": "760d79c5",
   "metadata": {},
   "outputs": [],
   "source": [
    "mergedata = service.get_merge_data()[\"rows\"]"
   ]
  },
  {
   "cell_type": "markdown",
   "id": "f23c479a",
   "metadata": {},
   "source": [
    "# Create Widget"
   ]
  },
  {
   "cell_type": "code",
   "execution_count": 79,
   "id": "184135af",
   "metadata": {},
   "outputs": [
    {
     "data": {
      "text/plain": [
       "component(12030cbe0, self=<kyurem.widgets.WidgetWithHistory.WidgetWithHistory object at 0x1208dd790>)"
      ]
     },
     "execution_count": 79,
     "metadata": {},
     "output_type": "execute_result"
    },
    {
     "data": {
      "application/vnd.jupyter.widget-view+json": {
       "model_id": "692f190963354e59bf19c5e87a8652f7",
       "version_major": 2,
       "version_minor": 0
      },
      "text/plain": [
       "LayoutWidget(Layout(component(12030cbe0, self=<kyurem.widgets.WidgetWithHistory.WidgetWithHistory object at 0x…"
      ]
     },
     "metadata": {},
     "output_type": "display_data"
    }
   ],
   "source": [
    "from kyurem import MergeVerifier\n",
    "\n",
    "\n",
    "def init(state): \n",
    "    # Fetch initial view data\n",
    "    return {\n",
    "        \"subgraph\": None,\n",
    "        \"corpus\": None,\n",
    "        \"mergedata\":mergedata,\n",
    "        \"decisions\":decision_list,\n",
    "    }\n",
    "\n",
    "def focus(state, row, panel):\n",
    "    # node can be in the following format:\n",
    "    # node : { \"node_label\": str, \"node_property\": str, \"node_property_value\": str }\n",
    "    node = { \"node_label\": row[\"node_label\"], \"node_property\": \"title\", \"node_property_value\": row[\"node\"] }\n",
    "    entity = { \"node_label\": row[\"node_label\"], \"node_property\": \"title\", \"node_property_value\": row[\"entity\"] }\n",
    "    # Fetch the neighborhood around the input node \n",
    "    result = service.get_node_neighborhood(node)\n",
    "    datatable = service.get_annotated_corpus(entity)\n",
    "    \n",
    "    data = {}\n",
    "    data[\"subgraph\"] = result[\"schema\"]\n",
    "    # TODO: Move conversion code into service\n",
    "    if datatable[\"rows\"]:\n",
    "        data[\"corpus\"] = datatable[\"rows\"]\n",
    "        data[\"highlight\"] = datatable[\"highlight\"]\n",
    "    else:\n",
    "        data[\"corpus\"] = None\n",
    "        data[\"highlight\"] = None\n",
    "    return data\n",
    "  \n",
    "# Create widget \n",
    "reload_bundle()\n",
    "merge_verifier = MergeVerifier({\n",
    "        \"init\": init,\n",
    "        \"focus\": focus\n",
    "    }, mergedata)\n",
    "\n",
    "merge_verifier.show()"
   ]
  },
  {
   "cell_type": "code",
   "execution_count": 80,
   "id": "8b052c46",
   "metadata": {},
   "outputs": [
    {
     "data": {
      "text/plain": [
       "[{'decision': 'Reject', 'entity': \"A-class Driver's License\", 'node': \"A-class Driver's License\", 'node_label': 'attribute', 'node_uuid': '0c3316198eb844778dd44b29c0003231'}, {'decision': 'Accept', 'entity': \"A-class Driver's License\", 'node': 'Licenses', 'node_label': 'attribute', 'node_uuid': '440c718812e945e4a77610294ebd238d'}, {'decision': 'Defer', 'entity': 'ABO Board Certification', 'node': 'ABO Board Certification', 'node_label': 'attribute', 'node_uuid': '9bd5ff0a001f4eb38dc47fa9b0983f70'}, {'decision': '---', 'entity': 'ABO Board Certification', 'node': 'Licenses', 'node_label': 'attribute', 'node_uuid': '440c718812e945e4a77610294ebd238d'}, {'decision': '---', 'entity': 'ACLS Certification', 'node': 'ACLS Certification', 'node_label': 'attribute', 'node_uuid': '0ec6aae471d34b0c8cc79eb223b120ad'}, {'decision': '---', 'entity': 'ACLS Certifications', 'node': 'Licenses', 'node_label': 'attribute', 'node_uuid': '440c718812e945e4a77610294ebd238d'}, {'decision': '---', 'entity': 'ASP', 'node': 'ASP', 'node_label': 'attribute', 'node_uuid': 'e18ac9c20ad645ecaa9b893ec2f6437e'}, {'decision': '---', 'entity': 'ASP.net', 'node': 'Education Levels', 'node_label': 'attribute', 'node_uuid': '07386eaf3595467cba8a335cee16074d'}, {'decision': '---', 'entity': 'ATLS Certification', 'node': 'ATLS Certification', 'node_label': 'attribute', 'node_uuid': '635bf2f5523f4d1580e8bd769a6eccbc'}, {'decision': '---', 'entity': 'ATLS Certification', 'node': 'Licenses', 'node_label': 'attribute', 'node_uuid': '440c718812e945e4a77610294ebd238d'}, {'decision': '---', 'entity': 'Able To Travel', 'node': 'Able To Travel', 'node_label': 'attribute', 'node_uuid': 'bc106a0d418247d4b5983b92f999825f'}, {'decision': '---', 'entity': 'Able To Travel', 'node': 'Work Settings', 'node_label': 'attribute', 'node_uuid': '8223baa2f94640f0ad8467e5ddabed63'}, {'decision': '---', 'entity': 'Accountants', 'node': 'Accountants', 'node_label': 'occupation', 'node_uuid': 'c10c4d6c401c4b4f9c8b78aa6bf27120'}, {'decision': '---', 'entity': 'Accountants', 'node': 'Accounting Occupations', 'node_label': 'occupation', 'node_uuid': 'aa86621ba10e49f08c30dd4f2bbb25e8'}, {'decision': '---', 'entity': 'Accounting', 'node': 'Fields of Study', 'node_label': 'attribute', 'node_uuid': '68d52a6aa9b344c0bd4ab67e8779937b'}, {'decision': '---', 'entity': 'Accounting ', 'node': 'Finance & Accounting Skills', 'node_label': 'attribute', 'node_uuid': '6c559b19b807475391efb10f222757df'}, {'decision': '---', 'entity': 'Accounts Receivable Occupations', 'node': 'Accounts Receivable Occupations', 'node_label': 'occupation', 'node_uuid': '57c8e748e2714987b99fc84443a0fe5c'}, {'decision': '---', 'entity': 'Accounts Receivable Occupations', 'node': 'Accounting Support Occupations', 'node_label': 'occupation', 'node_uuid': '71b599d06b714d38b8de69cb092546fb'}, {'decision': '---', 'entity': 'Actuaries', 'node': 'Actuaries', 'node_label': 'occupation', 'node_uuid': '921def4137a441c8b5cfe5ef682f8a3a'}, {'decision': '---', 'entity': 'Actuaries', 'node': 'Risk & Credit Occupations', 'node_label': 'occupation', 'node_uuid': 'ff02ffeda8194f2481ca441be5a019b0'}, {'decision': '---', 'entity': 'Acute Care', 'node': 'Acute Care', 'node_label': 'attribute', 'node_uuid': '13336df3a40b41c38289589a87284463'}, {'decision': '---', 'entity': 'Acute Care', 'node': 'Work Settings', 'node_label': 'attribute', 'node_uuid': '8223baa2f94640f0ad8467e5ddabed63'}, {'decision': '---', 'entity': 'Administrative & Customer Support Occupations', 'node': 'Administrative & Customer Support Occupations', 'node_label': 'occupation', 'node_uuid': 'd67b63f4276a42ffbe95919c52660f91'}, {'decision': '---', 'entity': 'Administrative & Customer Support Occupations', 'node': 'Administrative & Business Operations Occupations', 'node_label': 'occupation', 'node_uuid': '98e3cbe2a6eb46e7b7859a01f605fa73'}, {'decision': '---', 'entity': 'Administrative & Customer Support Occupations', 'node': 'Administrative Assistants & Receptionists', 'node_label': 'occupation', 'node_uuid': '74beb374977c417db69185fcc28091ec'}, {'decision': '---', 'entity': 'Administrative Assistants & Receptionists', 'node': 'Administrative Assistants & Receptionists', 'node_label': 'occupation', 'node_uuid': '9fbb3b7a38b34b7a888fea8cc90430b8'}, {'decision': '---', 'entity': 'Administrative Assistants & Receptionists', 'node': 'Administrative & Customer Support Occupations', 'node_label': 'occupation', 'node_uuid': 'd67b63f4276a42ffbe95919c52660f91'}, {'decision': '---', 'entity': 'Administrative Officers', 'node': 'Administrative Officers', 'node_label': 'occupation', 'node_uuid': '8ea5261c7b1747479e266de0ff684782'}, {'decision': '---', 'entity': 'Administrative Officers', 'node': 'Administrative & Customer Support Occupations', 'node_label': 'occupation', 'node_uuid': 'd67b63f4276a42ffbe95919c52660f91'}]"
      ]
     },
     "execution_count": 80,
     "metadata": {},
     "output_type": "execute_result"
    }
   ],
   "source": [
    "merge_verifier.state.data.mergedata"
   ]
  },
  {
   "cell_type": "code",
   "execution_count": null,
   "id": "6111b2f0",
   "metadata": {},
   "outputs": [],
   "source": []
  }
 ],
 "metadata": {
  "kernelspec": {
   "display_name": "Python 3 (ipykernel)",
   "language": "python",
   "name": "python3"
  },
  "language_info": {
   "codemirror_mode": {
    "name": "ipython",
    "version": 3
   },
   "file_extension": ".py",
   "mimetype": "text/x-python",
   "name": "python",
   "nbconvert_exporter": "python",
   "pygments_lexer": "ipython3",
   "version": "3.9.13"
  }
 },
 "nbformat": 4,
 "nbformat_minor": 5
}
