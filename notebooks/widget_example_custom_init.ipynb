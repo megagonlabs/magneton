{
 "cells": [
  {
   "cell_type": "markdown",
   "id": "086e59a3",
   "metadata": {},
   "source": [
    "# Import Widget Libraries"
   ]
  },
  {
   "cell_type": "code",
   "execution_count": 1,
   "id": "d4a1228b",
   "metadata": {},
   "outputs": [
    {
     "name": "stdout",
     "output_type": "stream",
     "text": [
      "magneton_client: 0.0.0\n"
     ]
    }
   ],
   "source": [
    "%load_ext autoreload   \n",
    "%autoreload 2\n",
    "import magneton\n",
    "from magneton.core.idom_loader import reload_bundle\n",
    "from magneton.core.widget import WidgetModel"
   ]
  },
  {
   "cell_type": "markdown",
   "id": "08774d6f",
   "metadata": {},
   "source": [
    "# Pre-process Data"
   ]
  },
  {
   "cell_type": "code",
   "execution_count": 2,
   "id": "57342a7a",
   "metadata": {},
   "outputs": [],
   "source": [
    "import pandas as pd"
   ]
  },
  {
   "cell_type": "code",
   "execution_count": 3,
   "id": "4fd69c88",
   "metadata": {},
   "outputs": [],
   "source": [
    "def transform_data(data_url):\n",
    "    df = pd.read_csv(data_url)\n",
    "    df = df[df['Year'] == 2017]\n",
    "    df = df[['Cohort','State','Drivers']]\n",
    "    df = df.pivot_table(index=['State'], \n",
    "            columns=['Cohort'], values='Drivers').fillna(0)\n",
    "    df = df.reset_index()\n",
    "    return df"
   ]
  },
  {
   "cell_type": "code",
   "execution_count": 4,
   "id": "8a4be7c2",
   "metadata": {},
   "outputs": [],
   "source": [
    "data_url ='https://data.transportation.gov/api/views/xfkb-3bxx/rows.csv?accessType=DOWNLOAD'\n",
    "\n",
    "state_data_df = transform_data(data_url)"
   ]
  },
  {
   "cell_type": "markdown",
   "id": "4499171e",
   "metadata": {},
   "source": [
    "# Define Actions"
   ]
  },
  {
   "cell_type": "code",
   "execution_count": 5,
   "id": "f074f501",
   "metadata": {},
   "outputs": [],
   "source": [
    "def get_data_table(df, start_letter=None):\n",
    "    ls = list(df['State'].unique())\n",
    "    if start_letter:\n",
    "        ls = [x for x in ls if x.startswith(start_letter)]\n",
    "    return ls"
   ]
  },
  {
   "cell_type": "code",
   "execution_count": 6,
   "id": "41a2afc8",
   "metadata": {},
   "outputs": [],
   "source": [
    "def get_distribution_by_state(df, state_name=None):\n",
    "    result = []\n",
    "    if state_name:\n",
    "        row = df[df['State'] == state_name]\n",
    "        dist = row.loc[:, row.columns != 'State'].to_dict('records')[0]\n",
    "        for key, value in dist.items():\n",
    "            result.append({\"x\": key, \"y\": value})\n",
    "    else:\n",
    "        ls = df.columns\n",
    "        _df = df.mean(axis=0, numeric_only=True)\n",
    "        for key in ls:\n",
    "            if key != 'State':\n",
    "                result.append({\"x\": key, \"y\": _df[key]})\n",
    "    return result"
   ]
  },
  {
   "cell_type": "markdown",
   "id": "7581871d",
   "metadata": {},
   "source": [
    "# Customize Init Table Component"
   ]
  },
  {
   "cell_type": "code",
   "execution_count": 7,
   "id": "ff471859",
   "metadata": {},
   "outputs": [],
   "source": [
    "from magneton import CustomInitLinkedViews\n",
    "\n",
    "def init(): \n",
    "    # Fetch initial view data\n",
    "    return {\n",
    "        \"distribution\": get_distribution_by_state(state_data_df),\n",
    "        \"index\": -1,\n",
    "        \"table\": get_data_table(state_data_df, 'C')\n",
    "    }\n",
    "\n",
    "# Create widget \n",
    "lv_widget = CustomInitLinkedViews(state_data_df, 'State', {\"init\": init})"
   ]
  },
  {
   "cell_type": "code",
   "execution_count": 8,
   "id": "1c753772",
   "metadata": {},
   "outputs": [
    {
     "data": {
      "text/plain": [
       "component(1111c7d60, self=<magneton.core.widget.StatefulWidgetBase.StatefulWidgetBase object at 0x1111fa5b0>)"
      ]
     },
     "execution_count": 8,
     "metadata": {},
     "output_type": "execute_result"
    },
    {
     "data": {
      "application/vnd.jupyter.widget-view+json": {
       "model_id": "420733aeeb4a4e318889a1bef36dd394",
       "version_major": 2,
       "version_minor": 0
      },
      "text/plain": [
       "LayoutWidget(Layout(component(1111c7d60, self=<magneton.core.widget.StatefulWidgetBase.StatefulWidgetBase obje…"
      ]
     },
     "metadata": {},
     "output_type": "display_data"
    }
   ],
   "source": [
    "#reload_bundle()\n",
    "lv_widget.show()"
   ]
  },
  {
   "cell_type": "code",
   "execution_count": 9,
   "id": "ead74177",
   "metadata": {},
   "outputs": [
    {
     "data": {
      "text/plain": [
       "component(111216580, self=<magneton.core.widget.StatefulWidgetBase.StatefulWidgetBase object at 0x111233d60>)"
      ]
     },
     "execution_count": 9,
     "metadata": {},
     "output_type": "execute_result"
    },
    {
     "data": {
      "application/vnd.jupyter.widget-view+json": {
       "model_id": "e306310543f6442bada010d9fae908b9",
       "version_major": 2,
       "version_minor": 0
      },
      "text/plain": [
       "LayoutWidget(Layout(component(111216580, self=<magneton.core.widget.StatefulWidgetBase.StatefulWidgetBase obje…"
      ]
     },
     "metadata": {},
     "output_type": "display_data"
    }
   ],
   "source": [
    "#reload_bundle()\n",
    "lv_widget.history().show()"
   ]
  },
  {
   "cell_type": "code",
   "execution_count": 10,
   "id": "badc3f4f",
   "metadata": {},
   "outputs": [
    {
     "data": {
      "text/plain": [
       "{'data': {}}"
      ]
     },
     "execution_count": 10,
     "metadata": {},
     "output_type": "execute_result"
    }
   ],
   "source": [
    "#reload_bundle()\n",
    "lv_widget.get_state()"
   ]
  },
  {
   "cell_type": "code",
   "execution_count": 11,
   "id": "e30935b2",
   "metadata": {},
   "outputs": [
    {
     "data": {
      "text/plain": [
       "component(10905fb20, self=<magneton.core.widget.StatefulWidgetBase.StatefulWidgetBase object at 0x111233ca0>)"
      ]
     },
     "execution_count": 11,
     "metadata": {},
     "output_type": "execute_result"
    },
    {
     "data": {
      "application/vnd.jupyter.widget-view+json": {
       "model_id": "ddcc83fbcfd8444d8269fe582c5d0961",
       "version_major": 2,
       "version_minor": 0
      },
      "text/plain": [
       "LayoutWidget(Layout(component(10905fb20, self=<magneton.core.widget.StatefulWidgetBase.StatefulWidgetBase obje…"
      ]
     },
     "metadata": {},
     "output_type": "display_data"
    }
   ],
   "source": [
    "lv_widget.view_state()"
   ]
  },
  {
   "cell_type": "markdown",
   "id": "84bc7b99",
   "metadata": {},
   "source": [
    "# Customize Bar View Component"
   ]
  },
  {
   "cell_type": "code",
   "execution_count": 12,
   "id": "f9f77376",
   "metadata": {},
   "outputs": [],
   "source": [
    "def get_filtered_distribution_by_buckets(df):\n",
    "    dist = get_distribution_by_state(state_data_df)\n",
    "    filtered_ls = []\n",
    "    for _d in dist:\n",
    "        if \"-\" in _d['x']:\n",
    "            filtered_ls.append(_d)\n",
    "    return filtered_ls"
   ]
  },
  {
   "cell_type": "code",
   "execution_count": 13,
   "id": "058b2483",
   "metadata": {},
   "outputs": [],
   "source": [
    "from magneton import CustomInitLinkedViews\n",
    "    \n",
    "def init(): \n",
    "    # Fetch initial view data\n",
    "    return {\n",
    "        \"distribution\": get_filtered_distribution_by_buckets(state_data_df),\n",
    "        \"index\": -1,\n",
    "        \"table\": get_data_table(state_data_df, 'C')\n",
    "    }\n",
    "\n",
    "# Create widget \n",
    "lv_widget2 = CustomInitLinkedViews(state_data_df, 'State', {\"init\": init})"
   ]
  },
  {
   "cell_type": "code",
   "execution_count": 14,
   "id": "9116a9a9",
   "metadata": {},
   "outputs": [
    {
     "data": {
      "text/plain": [
       "component(111216880, self=<magneton.core.widget.StatefulWidgetBase.StatefulWidgetBase object at 0x111259b50>)"
      ]
     },
     "execution_count": 14,
     "metadata": {},
     "output_type": "execute_result"
    },
    {
     "data": {
      "application/vnd.jupyter.widget-view+json": {
       "model_id": "c6c6cb6ae02e4b1daeaa0ce83a5b987d",
       "version_major": 2,
       "version_minor": 0
      },
      "text/plain": [
       "LayoutWidget(Layout(component(111216880, self=<magneton.core.widget.StatefulWidgetBase.StatefulWidgetBase obje…"
      ]
     },
     "metadata": {},
     "output_type": "display_data"
    }
   ],
   "source": [
    "reload_bundle()\n",
    "lv_widget2.show()"
   ]
  },
  {
   "cell_type": "raw",
   "id": "e8cd4c55",
   "metadata": {},
   "source": [
    "# problem: the select operation doesn't filter non-hyphanted bar charts and selected state not disabled"
   ]
  },
  {
   "cell_type": "code",
   "execution_count": null,
   "id": "f5c7f21d",
   "metadata": {},
   "outputs": [],
   "source": []
  }
 ],
 "metadata": {
  "kernelspec": {
   "display_name": "Python 3 (ipykernel)",
   "language": "python",
   "name": "python3"
  },
  "language_info": {
   "codemirror_mode": {
    "name": "ipython",
    "version": 3
   },
   "file_extension": ".py",
   "mimetype": "text/x-python",
   "name": "python",
   "nbconvert_exporter": "python",
   "pygments_lexer": "ipython3",
   "version": "3.9.13"
  },
  "vscode": {
   "interpreter": {
    "hash": "1969bb85aac28e13d40e6bbb10858a8d5a24994d890621fece8ba081534ca906"
   }
  }
 },
 "nbformat": 4,
 "nbformat_minor": 5
}
