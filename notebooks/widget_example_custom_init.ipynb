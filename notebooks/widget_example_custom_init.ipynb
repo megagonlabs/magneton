{
 "cells": [
  {
   "cell_type": "markdown",
   "id": "086e59a3",
   "metadata": {},
   "source": [
    "# Import Widget Libraries"
   ]
  },
  {
   "cell_type": "code",
   "execution_count": 1,
   "id": "d4a1228b",
   "metadata": {},
   "outputs": [
    {
     "name": "stdout",
     "output_type": "stream",
     "text": [
      "magneton_client: 0.0.0\n"
     ]
    }
   ],
   "source": [
    "import magneton\n",
    "from magneton.core.idom_loader import reload_bundle\n",
    "from magneton.core.widget import WidgetModel"
   ]
  },
  {
   "cell_type": "markdown",
   "id": "08774d6f",
   "metadata": {},
   "source": [
    "# Pre-process Data"
   ]
  },
  {
   "cell_type": "code",
   "execution_count": 2,
   "id": "57342a7a",
   "metadata": {},
   "outputs": [],
   "source": [
    "import pandas as pd"
   ]
  },
  {
   "cell_type": "code",
   "execution_count": 3,
   "id": "4fd69c88",
   "metadata": {},
   "outputs": [],
   "source": [
    "def transform_data(data_url):\n",
    "    df = pd.read_csv(data_url)\n",
    "    df = df[df['Year'] == 2017]\n",
    "    df = df[['Cohort','State','Drivers']]\n",
    "    df = df.pivot_table(index=['State'], \n",
    "            columns=['Cohort'], values='Drivers').fillna(0)\n",
    "    df = df.reset_index()\n",
    "    return df"
   ]
  },
  {
   "cell_type": "code",
   "execution_count": 4,
   "id": "8a4be7c2",
   "metadata": {},
   "outputs": [],
   "source": [
    "data_url ='https://data.transportation.gov/api/views/xfkb-3bxx/rows.csv?accessType=DOWNLOAD'\n",
    "\n",
    "state_data_df = transform_data(data_url)"
   ]
  },
  {
   "cell_type": "markdown",
   "id": "4499171e",
   "metadata": {},
   "source": [
    "# Define Actions"
   ]
  },
  {
   "cell_type": "code",
   "execution_count": 5,
   "id": "f074f501",
   "metadata": {},
   "outputs": [],
   "source": [
    "def get_data_table(df, start_letter=None):\n",
    "    ls = list(df['State'].unique())\n",
    "    if start_letter:\n",
    "        ls = [x for x in ls if x.startswith(start_letter)]\n",
    "    return ls"
   ]
  },
  {
   "cell_type": "code",
   "execution_count": 6,
   "id": "41a2afc8",
   "metadata": {},
   "outputs": [],
   "source": [
    "def get_distribution_by_state(df, state_name=None):\n",
    "    result = []\n",
    "    if state_name:\n",
    "        row = df[df['State'] == state_name]\n",
    "        dist = row.loc[:, row.columns != 'State'].to_dict('records')[0]\n",
    "        for key, value in dist.items():\n",
    "            result.append({\"x\": key, \"y\": value})\n",
    "    else:\n",
    "        ls = df.columns\n",
    "        _df = df.mean(axis=0, numeric_only=True)\n",
    "        for key in ls:\n",
    "            if key != 'State':\n",
    "                result.append({\"x\": key, \"y\": _df[key]})\n",
    "    return result"
   ]
  },
  {
   "cell_type": "markdown",
   "id": "7581871d",
   "metadata": {},
   "source": [
    "# Customize Init Table Component"
   ]
  },
  {
   "cell_type": "code",
   "execution_count": 7,
   "id": "ff471859",
   "metadata": {},
   "outputs": [],
   "source": [
    "from magneton import CustomInitLinkedViews\n",
    "\n",
    "def init(): \n",
    "    # Fetch initial view data\n",
    "    return {\n",
    "        \"distribution\": get_distribution_by_state(state_data_df),\n",
    "        \"index\": -1,\n",
    "        \"table\": get_data_table(state_data_df, 'C')\n",
    "    }\n",
    "\n",
    "# Create widget \n",
    "lv_widget = CustomInitLinkedViews(state_data_df, 'State', {\"init\": init})"
   ]
  },
  {
   "cell_type": "code",
   "execution_count": 8,
   "id": "1c753772",
   "metadata": {},
   "outputs": [
    {
     "data": {
      "text/plain": [
       "component(11b5e14c0, self=<magneton.core.widget.StatefulWidgetBase.StatefulWidgetBase object at 0x11b607b50>)"
      ]
     },
     "execution_count": 8,
     "metadata": {},
     "output_type": "execute_result"
    },
    {
     "data": {
      "application/vnd.jupyter.widget-view+json": {
       "model_id": "d2a6f7ece5eb4142a237d3d82da33fa7",
       "version_major": 2,
       "version_minor": 0
      },
      "text/plain": [
       "LayoutWidget(Layout(component(11b5e14c0, self=<magneton.core.widget.StatefulWidgetBase.StatefulWidgetBase obje…"
      ]
     },
     "metadata": {},
     "output_type": "display_data"
    }
   ],
   "source": [
    "#reload_bundle()\n",
    "lv_widget.show()"
   ]
  },
  {
   "cell_type": "code",
   "execution_count": 9,
   "id": "ead74177",
   "metadata": {},
   "outputs": [
    {
     "data": {
      "text/plain": [
       "component(11b64f3a0, self=<magneton.core.widget.StatefulWidgetBase.StatefulWidgetBase object at 0x11b65a670>)"
      ]
     },
     "execution_count": 9,
     "metadata": {},
     "output_type": "execute_result"
    },
    {
     "data": {
      "application/vnd.jupyter.widget-view+json": {
       "model_id": "34348f5445b4416a9253067b8571c3f3",
       "version_major": 2,
       "version_minor": 0
      },
      "text/plain": [
       "LayoutWidget(Layout(component(11b64f3a0, self=<magneton.core.widget.StatefulWidgetBase.StatefulWidgetBase obje…"
      ]
     },
     "metadata": {},
     "output_type": "display_data"
    }
   ],
   "source": [
    "#reload_bundle()\n",
    "lv_widget.history().show()"
   ]
  },
  {
   "cell_type": "code",
   "execution_count": 10,
   "id": "badc3f4f",
   "metadata": {},
   "outputs": [
    {
     "data": {
      "text/plain": [
       "{'data': {'distribution': [{'x': '16', 'y': 10780.892156862745}, {'x': '17', 'y': 19507.617647058825}, {'x': '18', 'y': 25770.343137254902}, {'x': '19', 'y': 29889.57843137255}, {'x': '20', 'y': 31893.63725490196}, {'x': '21', 'y': 32993.80392156863}, {'x': '22', 'y': 34589.28431372549}, {'x': '23', 'y': 35954.35294117647}, {'x': '24', 'y': 37229.950980392154}, {'x': '25-29', 'y': 196819.26470588235}, {'x': '30-34', 'y': 193680.9019607843}, {'x': '35-39', 'y': 188180.22549019608}, {'x': '40-44', 'y': 175456.16666666666}, {'x': '45-49', 'y': 189654.73529411765}, {'x': '50-54', 'y': 194420.6568627451}, {'x': '55-59', 'y': 200998.32352941178}, {'x': '60-64', 'y': 183109.0588235294}, {'x': '65-69', 'y': 153192.54901960783}, {'x': '70-74', 'y': 114757.26470588235}, {'x': '75-79', 'y': 74324.23529411765}, {'x': '80-84', 'y': 46302.5}, {'x': '85+', 'y': 39020.71568627451}, {'x': 'Under 16', 'y': 750.9705882352941}], 'index': -1, 'table': ['California', 'Colorado', 'Connecticut']}}"
      ]
     },
     "execution_count": 10,
     "metadata": {},
     "output_type": "execute_result"
    }
   ],
   "source": [
    "#reload_bundle()\n",
    "lv_widget.get_state()"
   ]
  },
  {
   "cell_type": "code",
   "execution_count": 11,
   "id": "e30935b2",
   "metadata": {},
   "outputs": [
    {
     "data": {
      "text/plain": [
       "component(10b675880, self=<magneton.core.widget.StatefulWidgetBase.StatefulWidgetBase object at 0x11b66a460>)"
      ]
     },
     "execution_count": 11,
     "metadata": {},
     "output_type": "execute_result"
    },
    {
     "data": {
      "application/vnd.jupyter.widget-view+json": {
       "model_id": "4283e06f853847d6b3452f7801884d52",
       "version_major": 2,
       "version_minor": 0
      },
      "text/plain": [
       "LayoutWidget(Layout(component(10b675880, self=<magneton.core.widget.StatefulWidgetBase.StatefulWidgetBase obje…"
      ]
     },
     "metadata": {},
     "output_type": "display_data"
    }
   ],
   "source": [
    "lv_widget.view_state()"
   ]
  },
  {
   "cell_type": "markdown",
   "id": "84bc7b99",
   "metadata": {},
   "source": [
    "# Customize Bar View Component"
   ]
  },
  {
   "cell_type": "code",
   "execution_count": 12,
   "id": "f9f77376",
   "metadata": {},
   "outputs": [],
   "source": [
    "def get_filtered_distribution_by_buckets(df):\n",
    "    dist = get_distribution_by_state(state_data_df)\n",
    "    filtered_ls = []\n",
    "    for _d in dist:\n",
    "        if \"-\" in _d['x']:\n",
    "            filtered_ls.append(_d)\n",
    "    return filtered_ls"
   ]
  },
  {
   "cell_type": "code",
   "execution_count": 13,
   "id": "058b2483",
   "metadata": {},
   "outputs": [],
   "source": [
    "from magneton import CustomInitLinkedViews\n",
    "    \n",
    "def init(): \n",
    "    # Fetch initial view data\n",
    "    return {\n",
    "        \"distribution\": get_filtered_distribution_by_buckets(state_data_df),\n",
    "        \"index\": -1,\n",
    "        \"table\": get_data_table(state_data_df, 'C')\n",
    "    }\n",
    "\n",
    "# Create widget \n",
    "lv_widget2 = CustomInitLinkedViews(state_data_df, 'State', {\"init\": init})"
   ]
  },
  {
   "cell_type": "code",
   "execution_count": 14,
   "id": "9116a9a9",
   "metadata": {},
   "outputs": [
    {
     "data": {
      "text/plain": [
       "component(111216880, self=<magneton.core.widget.StatefulWidgetBase.StatefulWidgetBase object at 0x111259b50>)"
      ]
     },
     "execution_count": 14,
     "metadata": {},
     "output_type": "execute_result"
    },
    {
     "data": {
      "application/vnd.jupyter.widget-view+json": {
       "model_id": "c6c6cb6ae02e4b1daeaa0ce83a5b987d",
       "version_major": 2,
       "version_minor": 0
      },
      "text/plain": [
       "LayoutWidget(Layout(component(111216880, self=<magneton.core.widget.StatefulWidgetBase.StatefulWidgetBase obje…"
      ]
     },
     "metadata": {},
     "output_type": "display_data"
    }
   ],
   "source": [
    "reload_bundle()\n",
    "lv_widget2.show()"
   ]
  },
  {
   "cell_type": "raw",
   "id": "e8cd4c55",
   "metadata": {},
   "source": [
    "# problem: the select operation doesn't filter non-hyphanted bar charts and selected state not disabled"
   ]
  },
  {
   "cell_type": "code",
   "execution_count": null,
   "id": "f5c7f21d",
   "metadata": {},
   "outputs": [],
   "source": []
  }
 ],
 "metadata": {
  "kernelspec": {
   "display_name": "Python 3 (ipykernel)",
   "language": "python",
   "name": "python3"
  },
  "language_info": {
   "codemirror_mode": {
    "name": "ipython",
    "version": 3
   },
   "file_extension": ".py",
   "mimetype": "text/x-python",
   "name": "python",
   "nbconvert_exporter": "python",
   "pygments_lexer": "ipython3",
   "version": "3.9.13"
  },
  "vscode": {
   "interpreter": {
    "hash": "1969bb85aac28e13d40e6bbb10858a8d5a24994d890621fece8ba081534ca906"
   }
  }
 },
 "nbformat": 4,
 "nbformat_minor": 5
}
