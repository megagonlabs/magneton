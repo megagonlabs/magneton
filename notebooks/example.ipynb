{
 "cells": [
  {
   "cell_type": "markdown",
   "id": "086e59a3",
   "metadata": {},
   "source": [
    "# Import Widget Libraries"
   ]
  },
  {
   "cell_type": "code",
   "execution_count": 1,
   "id": "d4a1228b",
   "metadata": {},
   "outputs": [
    {
     "name": "stdout",
     "output_type": "stream",
     "text": [
      "magneton_client: 0.0.0\n"
     ]
    }
   ],
   "source": [
    "%load_ext autoreload   \n",
    "%autoreload 2\n",
    "import magneton\n",
    "from magneton.core.idom_loader import reload_bundle\n",
    "from magneton.core.widget import WidgetModel"
   ]
  },
  {
   "cell_type": "markdown",
   "id": "f2f39b4f",
   "metadata": {},
   "source": [
    "# Created LinkedViews from dataset"
   ]
  },
  {
   "cell_type": "markdown",
   "id": "08774d6f",
   "metadata": {},
   "source": [
    "## Proprocess Data"
   ]
  },
  {
   "cell_type": "code",
   "execution_count": 2,
   "id": "57342a7a",
   "metadata": {},
   "outputs": [],
   "source": [
    "import pandas as pd"
   ]
  },
  {
   "cell_type": "code",
   "execution_count": 3,
   "id": "4fd69c88",
   "metadata": {},
   "outputs": [],
   "source": [
    "def transform_data(data_url):\n",
    "    df = pd.read_csv(data_url)\n",
    "    df = df[df['Year'] == 2017]\n",
    "    df = df[['Cohort','State','Drivers']]\n",
    "    df = df.pivot_table(index=['State'], \n",
    "            columns=['Cohort'], values='Drivers').fillna(0)\n",
    "    df = df.reset_index()\n",
    "    return df"
   ]
  },
  {
   "cell_type": "code",
   "execution_count": 4,
   "id": "8a4be7c2",
   "metadata": {},
   "outputs": [],
   "source": [
    "data_url ='https://data.transportation.gov/api/views/xfkb-3bxx/rows.csv?accessType=DOWNLOAD'\n",
    "\n",
    "state_data_df = transform_data(data_url)"
   ]
  },
  {
   "cell_type": "code",
   "execution_count": 5,
   "id": "ff471859",
   "metadata": {},
   "outputs": [],
   "source": [
    "from magneton import LinkedViews\n",
    "\n",
    "def get_data_table(df):\n",
    "    return list(df['State'].unique())\n",
    "    \n",
    "def get_distribution_by_state(df, state_name=None):\n",
    "    if state_name:\n",
    "        row = df[df['State'] == state_name]\n",
    "        dist = row.loc[:, row.columns != 'State'].to_dict('records')[0]\n",
    "        result = []\n",
    "        for key, value in dist.items():\n",
    "            result.append({\"x\": key, \"y\": value})\n",
    "        return result\n",
    "    return None\n",
    "\n",
    "def init(): \n",
    "    # Fetch initial view data\n",
    "    return {\n",
    "        \"distribution\": get_distribution_by_state(state_data_df),\n",
    "        \"index\": -1,\n",
    "        \"table\": get_data_table(state_data_df)\n",
    "    }\n",
    "\n",
    "def select(state, component):\n",
    "    data = {\n",
    "            \"distribution\": get_distribution_by_state(state_data_df, state),\n",
    "            \"index\": get_data_table(state_data_df).index(state)\n",
    "        }\n",
    "    return data\n",
    "# Create widget \n",
    "lv_widget = LinkedViews({\"init\": init, \"select\":select})"
   ]
  },
  {
   "cell_type": "code",
   "execution_count": 6,
   "id": "1c753772",
   "metadata": {},
   "outputs": [
    {
     "data": {
      "text/plain": [
       "component(11afa6100, self=<magneton.core.widget.StatefulWidgetBase.StatefulWidgetBase object at 0x11afcc6d0>)"
      ]
     },
     "execution_count": 6,
     "metadata": {},
     "output_type": "execute_result"
    },
    {
     "data": {
      "application/vnd.jupyter.widget-view+json": {
       "model_id": "6ba0f7b78b8040f4a7eedf95a91cd1a9",
       "version_major": 2,
       "version_minor": 0
      },
      "text/plain": [
       "LayoutWidget(Layout(component(11afa6100, self=<magneton.core.widget.StatefulWidgetBase.StatefulWidgetBase obje…"
      ]
     },
     "metadata": {},
     "output_type": "display_data"
    }
   ],
   "source": [
    "#reload_bundle()\n",
    "lv_widget.show()"
   ]
  },
  {
   "cell_type": "code",
   "execution_count": 7,
   "id": "ead74177",
   "metadata": {},
   "outputs": [
    {
     "data": {
      "text/plain": [
       "component(11affd460, self=<magneton.core.widget.StatefulWidgetBase.StatefulWidgetBase object at 0x11afcc2e0>)"
      ]
     },
     "execution_count": 7,
     "metadata": {},
     "output_type": "execute_result"
    },
    {
     "data": {
      "application/vnd.jupyter.widget-view+json": {
       "model_id": "8b6849fe229d4f8fae44995af666e255",
       "version_major": 2,
       "version_minor": 0
      },
      "text/plain": [
       "LayoutWidget(Layout(component(11affd460, self=<magneton.core.widget.StatefulWidgetBase.StatefulWidgetBase obje…"
      ]
     },
     "metadata": {},
     "output_type": "display_data"
    }
   ],
   "source": [
    "#reload_bundle()\n",
    "lv_widget.history().show()"
   ]
  },
  {
   "cell_type": "code",
   "execution_count": 8,
   "id": "badc3f4f",
   "metadata": {},
   "outputs": [
    {
     "data": {
      "text/plain": [
       "{'data': {}}"
      ]
     },
     "execution_count": 8,
     "metadata": {},
     "output_type": "execute_result"
    }
   ],
   "source": [
    "#reload_bundle()\n",
    "lv_widget.get_state()"
   ]
  },
  {
   "cell_type": "code",
   "execution_count": 9,
   "id": "e30935b2",
   "metadata": {},
   "outputs": [
    {
     "data": {
      "text/plain": [
       "component(10b316f40, self=<magneton.core.widget.StatefulWidgetBase.StatefulWidgetBase object at 0x11b00e850>)"
      ]
     },
     "execution_count": 9,
     "metadata": {},
     "output_type": "execute_result"
    },
    {
     "data": {
      "application/vnd.jupyter.widget-view+json": {
       "model_id": "9ce31f3bd05d4dbca792b71d59215dbb",
       "version_major": 2,
       "version_minor": 0
      },
      "text/plain": [
       "LayoutWidget(Layout(component(10b316f40, self=<magneton.core.widget.StatefulWidgetBase.StatefulWidgetBase obje…"
      ]
     },
     "metadata": {},
     "output_type": "display_data"
    }
   ],
   "source": [
    "lv_widget.view_state()"
   ]
  },
  {
   "cell_type": "code",
   "execution_count": null,
   "id": "913c240c",
   "metadata": {},
   "outputs": [],
   "source": []
  }
 ],
 "metadata": {
  "kernelspec": {
   "display_name": "Python 3 (ipykernel)",
   "language": "python",
   "name": "python3"
  },
  "language_info": {
   "codemirror_mode": {
    "name": "ipython",
    "version": 3
   },
   "file_extension": ".py",
   "mimetype": "text/x-python",
   "name": "python",
   "nbconvert_exporter": "python",
   "pygments_lexer": "ipython3",
   "version": "3.9.13"
  },
  "vscode": {
   "interpreter": {
    "hash": "1969bb85aac28e13d40e6bbb10858a8d5a24994d890621fece8ba081534ca906"
   }
  }
 },
 "nbformat": 4,
 "nbformat_minor": 5
}
