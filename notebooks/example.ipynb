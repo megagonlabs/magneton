{
 "cells": [
  {
   "cell_type": "markdown",
   "id": "086e59a3",
   "metadata": {},
   "source": [
    "# Import Widget Libraries"
   ]
  },
  {
   "cell_type": "code",
   "execution_count": 1,
   "id": "d4a1228b",
   "metadata": {},
   "outputs": [
    {
     "name": "stdout",
     "output_type": "stream",
     "text": [
      "magneton_client: 0.0.0\n"
     ]
    }
   ],
   "source": [
    "%load_ext autoreload   \n",
    "%autoreload 2\n",
    "import magneton\n",
    "from magneton.core.idom_loader import reload_bundle\n",
    "from magneton.core.widget import WidgetModel"
   ]
  },
  {
   "cell_type": "markdown",
   "id": "80af343a",
   "metadata": {},
   "source": [
    "# Create an BarViewer Widget"
   ]
  },
  {
   "cell_type": "code",
   "execution_count": 2,
   "id": "4f1794f4",
   "metadata": {
    "scrolled": false
   },
   "outputs": [],
   "source": [
    "from magneton import BarViewer\n",
    "\n",
    "def get_distribution():\n",
    "    dist = [{\"x\": \"A\", \"y\": 10}, {\"x\": \"B\", \"y\": 5}]\n",
    "    return dist\n",
    "\n",
    "def init(): \n",
    "    # Fetch initial view data\n",
    "    return {\n",
    "        \"distribution\": get_distribution()\n",
    "    }\n",
    "\n",
    "# Create widget \n",
    "barviewer = BarViewer({\"init\": init})"
   ]
  },
  {
   "cell_type": "code",
   "execution_count": 3,
   "id": "67584270",
   "metadata": {
    "scrolled": false
   },
   "outputs": [
    {
     "data": {
      "text/plain": [
       "component(10529fee0, self=<magneton.core.widget.StatefulWidgetBase.StatefulWidgetBase object at 0x105280190>)"
      ]
     },
     "execution_count": 3,
     "metadata": {},
     "output_type": "execute_result"
    },
    {
     "data": {
      "application/vnd.jupyter.widget-view+json": {
       "model_id": "5532cc39d53846068a8ed1f4b368b348",
       "version_major": 2,
       "version_minor": 0
      },
      "text/plain": [
       "LayoutWidget(Layout(component(10529fee0, self=<magneton.core.widget.StatefulWidgetBase.StatefulWidgetBase obje…"
      ]
     },
     "metadata": {},
     "output_type": "display_data"
    }
   ],
   "source": [
    "reload_bundle()\n",
    "barviewer.show()"
   ]
  },
  {
   "cell_type": "markdown",
   "id": "f2f39b4f",
   "metadata": {},
   "source": [
    "# Created LinkedViews from dataset"
   ]
  },
  {
   "cell_type": "markdown",
   "id": "08774d6f",
   "metadata": {},
   "source": [
    "## Proprocess Data"
   ]
  },
  {
   "cell_type": "code",
   "execution_count": 4,
   "id": "57342a7a",
   "metadata": {},
   "outputs": [],
   "source": [
    "import pandas as pd"
   ]
  },
  {
   "cell_type": "code",
   "execution_count": 5,
   "id": "4fd69c88",
   "metadata": {},
   "outputs": [],
   "source": [
    "def transform_data(data_url):\n",
    "    df = pd.read_csv(data_url)\n",
    "    df = df[df['Year'] == 2017]\n",
    "    df = df[['Cohort','State','Drivers']]\n",
    "    df = df.pivot_table(index=['State'], \n",
    "            columns=['Cohort'], values='Drivers').fillna(0)\n",
    "    df = df.reset_index()\n",
    "    return df"
   ]
  },
  {
   "cell_type": "code",
   "execution_count": 6,
   "id": "8a4be7c2",
   "metadata": {},
   "outputs": [],
   "source": [
    "data_url ='https://data.transportation.gov/api/views/xfkb-3bxx/rows.csv?accessType=DOWNLOAD'\n",
    "\n",
    "state_data_df = transform_data(data_url)"
   ]
  },
  {
   "cell_type": "code",
   "execution_count": 7,
   "id": "ff471859",
   "metadata": {},
   "outputs": [],
   "source": [
    "from magneton import LinkedViews\n",
    "\n",
    "def get_data_table(df):\n",
    "    return list(df['State'].unique())\n",
    "    \n",
    "def get_distribution_by_state(df, state_name=None):\n",
    "    if state_name:\n",
    "        row = df[df['State'] == state_name]\n",
    "        dist = row.loc[:, row.columns != 'State'].to_dict('records')[0]\n",
    "        result = []\n",
    "        for key, value in dist.items():\n",
    "            result.append({\"x\": key, \"y\": value})\n",
    "        return result\n",
    "    return None\n",
    "\n",
    "def init(): \n",
    "    # Fetch initial view data\n",
    "    return {\n",
    "        \"table\": get_data_table(state_data_df),\n",
    "        \"distribution\": get_distribution_by_state(state_data_df)\n",
    "    }\n",
    "\n",
    "def select(state, component):\n",
    "    data = {\n",
    "            \"table\": get_data_table(state_data_df),\n",
    "            \"distribution\": get_distribution_by_state(state_data_df, state)\n",
    "        }\n",
    "    return data\n",
    "# Create widget \n",
    "lv_widget = LinkedViews({\"init\": init, \"select\":select})"
   ]
  },
  {
   "cell_type": "code",
   "execution_count": 8,
   "id": "1c753772",
   "metadata": {},
   "outputs": [
    {
     "data": {
      "text/plain": [
       "component(1143d03a0, self=<magneton.core.widget.StatefulWidgetBase.StatefulWidgetBase object at 0x1144276d0>)"
      ]
     },
     "execution_count": 8,
     "metadata": {},
     "output_type": "execute_result"
    },
    {
     "data": {
      "application/vnd.jupyter.widget-view+json": {
       "model_id": "03bd9a87ff4649b48cbff8a5d0b1f5a1",
       "version_major": 2,
       "version_minor": 0
      },
      "text/plain": [
       "LayoutWidget(Layout(component(1143d03a0, self=<magneton.core.widget.StatefulWidgetBase.StatefulWidgetBase obje…"
      ]
     },
     "metadata": {},
     "output_type": "display_data"
    }
   ],
   "source": [
    "#reload_bundle()\n",
    "lv_widget.show()"
   ]
  },
  {
   "cell_type": "code",
   "execution_count": 9,
   "id": "ead74177",
   "metadata": {},
   "outputs": [
    {
     "data": {
      "text/plain": [
       "component(1143d0c40, self=<magneton.core.widget.StatefulWidgetBase.StatefulWidgetBase object at 0x1143f9160>)"
      ]
     },
     "execution_count": 9,
     "metadata": {},
     "output_type": "execute_result"
    },
    {
     "data": {
      "application/vnd.jupyter.widget-view+json": {
       "model_id": "698697aad2b747699286dcaccbb44fa5",
       "version_major": 2,
       "version_minor": 0
      },
      "text/plain": [
       "LayoutWidget(Layout(component(1143d0c40, self=<magneton.core.widget.StatefulWidgetBase.StatefulWidgetBase obje…"
      ]
     },
     "metadata": {},
     "output_type": "display_data"
    }
   ],
   "source": [
    "#reload_bundle()\n",
    "lv_widget.history().show()"
   ]
  },
  {
   "cell_type": "code",
   "execution_count": null,
   "id": "badc3f4f",
   "metadata": {},
   "outputs": [],
   "source": []
  }
 ],
 "metadata": {
  "kernelspec": {
   "display_name": "Python 3 (ipykernel)",
   "language": "python",
   "name": "python3"
  },
  "language_info": {
   "codemirror_mode": {
    "name": "ipython",
    "version": 3
   },
   "file_extension": ".py",
   "mimetype": "text/x-python",
   "name": "python",
   "nbconvert_exporter": "python",
   "pygments_lexer": "ipython3",
   "version": "3.9.13"
  },
  "vscode": {
   "interpreter": {
    "hash": "1969bb85aac28e13d40e6bbb10858a8d5a24994d890621fece8ba081534ca906"
   }
  }
 },
 "nbformat": 4,
 "nbformat_minor": 5
}
