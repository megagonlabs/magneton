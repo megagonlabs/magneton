{
 "cells": [
  {
   "cell_type": "code",
   "execution_count": 1,
   "id": "d4a1228b",
   "metadata": {},
   "outputs": [
    {
     "name": "stdout",
     "output_type": "stream",
     "text": [
      "kyurem_client: 0.0.0\n"
     ]
    }
   ],
   "source": [
    "%load_ext autoreload   \n",
    "%autoreload 2\n",
    "from kyurem import SummaryView, Service"
   ]
  },
  {
   "cell_type": "markdown",
   "id": "7eb7a066",
   "metadata": {},
   "source": [
    "# Load Service"
   ]
  },
  {
   "cell_type": "code",
   "execution_count": 2,
   "id": "1525bf4b",
   "metadata": {},
   "outputs": [],
   "source": [
    "service = Service(kh = 'indeed.v0.0.1:c2b0ce85')"
   ]
  },
  {
   "cell_type": "markdown",
   "id": "3ac119ca",
   "metadata": {},
   "source": [
    "# Get Schema Graph"
   ]
  },
  {
   "cell_type": "code",
   "execution_count": 3,
   "id": "d5b3a5e0",
   "metadata": {},
   "outputs": [],
   "source": [
    "schema = service.get_kh_edge_list()"
   ]
  },
  {
   "cell_type": "markdown",
   "id": "90e7cc16",
   "metadata": {},
   "source": [
    "# Display Summary"
   ]
  },
  {
   "cell_type": "code",
   "execution_count": 5,
   "id": "4142fda2",
   "metadata": {
    "scrolled": false
   },
   "outputs": [
    {
     "name": "stderr",
     "output_type": "stream",
     "text": [
      "[autoreload of kyurem.widgets.Distribution failed: Traceback (most recent call last):\n",
      "  File \"/home/fchoi/.local/share/virtualenvs/kyurem-migration-FfkIKKAu/lib/python3.9/site-packages/IPython/extensions/autoreload.py\", line 257, in check\n",
      "    superreload(m, reload, self.old_objects)\n",
      "  File \"/home/fchoi/.local/share/virtualenvs/kyurem-migration-FfkIKKAu/lib/python3.9/site-packages/IPython/extensions/autoreload.py\", line 480, in superreload\n",
      "    update_generic(old_obj, new_obj)\n",
      "  File \"/home/fchoi/.local/share/virtualenvs/kyurem-migration-FfkIKKAu/lib/python3.9/site-packages/IPython/extensions/autoreload.py\", line 377, in update_generic\n",
      "    update(a, b)\n",
      "  File \"/home/fchoi/.local/share/virtualenvs/kyurem-migration-FfkIKKAu/lib/python3.9/site-packages/IPython/extensions/autoreload.py\", line 329, in update_class\n",
      "    if update_generic(old_obj, new_obj):\n",
      "  File \"/home/fchoi/.local/share/virtualenvs/kyurem-migration-FfkIKKAu/lib/python3.9/site-packages/IPython/extensions/autoreload.py\", line 377, in update_generic\n",
      "    update(a, b)\n",
      "  File \"/home/fchoi/.local/share/virtualenvs/kyurem-migration-FfkIKKAu/lib/python3.9/site-packages/IPython/extensions/autoreload.py\", line 289, in update_function\n",
      "    setattr(old, name, getattr(new, name))\n",
      "ValueError: __init__() requires a code object with 0 free vars, not 1\n",
      "]\n",
      "[autoreload of kyurem.widgets.DualDistribution failed: Traceback (most recent call last):\n",
      "  File \"/home/fchoi/.local/share/virtualenvs/kyurem-migration-FfkIKKAu/lib/python3.9/site-packages/IPython/extensions/autoreload.py\", line 257, in check\n",
      "    superreload(m, reload, self.old_objects)\n",
      "  File \"/home/fchoi/.local/share/virtualenvs/kyurem-migration-FfkIKKAu/lib/python3.9/site-packages/IPython/extensions/autoreload.py\", line 480, in superreload\n",
      "    update_generic(old_obj, new_obj)\n",
      "  File \"/home/fchoi/.local/share/virtualenvs/kyurem-migration-FfkIKKAu/lib/python3.9/site-packages/IPython/extensions/autoreload.py\", line 377, in update_generic\n",
      "    update(a, b)\n",
      "  File \"/home/fchoi/.local/share/virtualenvs/kyurem-migration-FfkIKKAu/lib/python3.9/site-packages/IPython/extensions/autoreload.py\", line 329, in update_class\n",
      "    if update_generic(old_obj, new_obj):\n",
      "  File \"/home/fchoi/.local/share/virtualenvs/kyurem-migration-FfkIKKAu/lib/python3.9/site-packages/IPython/extensions/autoreload.py\", line 377, in update_generic\n",
      "    update(a, b)\n",
      "  File \"/home/fchoi/.local/share/virtualenvs/kyurem-migration-FfkIKKAu/lib/python3.9/site-packages/IPython/extensions/autoreload.py\", line 289, in update_function\n",
      "    setattr(old, name, getattr(new, name))\n",
      "ValueError: __init__() requires a code object with 0 free vars, not 1\n",
      "]\n",
      "[autoreload of kyurem.widgets.LinkedDistribution failed: Traceback (most recent call last):\n",
      "  File \"/home/fchoi/.local/share/virtualenvs/kyurem-migration-FfkIKKAu/lib/python3.9/site-packages/IPython/extensions/autoreload.py\", line 257, in check\n",
      "    superreload(m, reload, self.old_objects)\n",
      "  File \"/home/fchoi/.local/share/virtualenvs/kyurem-migration-FfkIKKAu/lib/python3.9/site-packages/IPython/extensions/autoreload.py\", line 480, in superreload\n",
      "    update_generic(old_obj, new_obj)\n",
      "  File \"/home/fchoi/.local/share/virtualenvs/kyurem-migration-FfkIKKAu/lib/python3.9/site-packages/IPython/extensions/autoreload.py\", line 377, in update_generic\n",
      "    update(a, b)\n",
      "  File \"/home/fchoi/.local/share/virtualenvs/kyurem-migration-FfkIKKAu/lib/python3.9/site-packages/IPython/extensions/autoreload.py\", line 329, in update_class\n",
      "    if update_generic(old_obj, new_obj):\n",
      "  File \"/home/fchoi/.local/share/virtualenvs/kyurem-migration-FfkIKKAu/lib/python3.9/site-packages/IPython/extensions/autoreload.py\", line 377, in update_generic\n",
      "    update(a, b)\n",
      "  File \"/home/fchoi/.local/share/virtualenvs/kyurem-migration-FfkIKKAu/lib/python3.9/site-packages/IPython/extensions/autoreload.py\", line 289, in update_function\n",
      "    setattr(old, name, getattr(new, name))\n",
      "ValueError: __init__() requires a code object with 0 free vars, not 1\n",
      "]\n",
      "[autoreload of kyurem.widgets.Schema failed: Traceback (most recent call last):\n",
      "  File \"/home/fchoi/.local/share/virtualenvs/kyurem-migration-FfkIKKAu/lib/python3.9/site-packages/IPython/extensions/autoreload.py\", line 257, in check\n",
      "    superreload(m, reload, self.old_objects)\n",
      "  File \"/home/fchoi/.local/share/virtualenvs/kyurem-migration-FfkIKKAu/lib/python3.9/site-packages/IPython/extensions/autoreload.py\", line 480, in superreload\n",
      "    update_generic(old_obj, new_obj)\n",
      "  File \"/home/fchoi/.local/share/virtualenvs/kyurem-migration-FfkIKKAu/lib/python3.9/site-packages/IPython/extensions/autoreload.py\", line 377, in update_generic\n",
      "    update(a, b)\n",
      "  File \"/home/fchoi/.local/share/virtualenvs/kyurem-migration-FfkIKKAu/lib/python3.9/site-packages/IPython/extensions/autoreload.py\", line 329, in update_class\n",
      "    if update_generic(old_obj, new_obj):\n",
      "  File \"/home/fchoi/.local/share/virtualenvs/kyurem-migration-FfkIKKAu/lib/python3.9/site-packages/IPython/extensions/autoreload.py\", line 377, in update_generic\n",
      "    update(a, b)\n",
      "  File \"/home/fchoi/.local/share/virtualenvs/kyurem-migration-FfkIKKAu/lib/python3.9/site-packages/IPython/extensions/autoreload.py\", line 289, in update_function\n",
      "    setattr(old, name, getattr(new, name))\n",
      "ValueError: __init__() requires a code object with 0 free vars, not 1\n",
      "]\n"
     ]
    },
    {
     "data": {
      "text/plain": [
       "show(7f24c8d6d5e0, self=<kyurem.widgets.SummaryView.SummaryView object at 0x7f24c8caf610>)"
      ]
     },
     "execution_count": 5,
     "metadata": {},
     "output_type": "execute_result"
    },
    {
     "data": {
      "application/vnd.jupyter.widget-view+json": {
       "model_id": "a5b73bae6e9b4e87bbc5e917bf31bbf9",
       "version_major": 2,
       "version_minor": 0
      },
      "text/plain": [
       "LayoutWidget(Layout(show(7f24c8d6d5e0, self=<kyurem.widgets.SummaryView.SummaryView object at 0x7f24c8caf610>)…"
      ]
     },
     "metadata": {},
     "output_type": "display_data"
    }
   ],
   "source": [
    "widget = SummaryView(schema, service)\n",
    "widget.show()"
   ]
  },
  {
   "cell_type": "markdown",
   "id": "9376f9c5",
   "metadata": {},
   "source": [
    "# Example: Reverse Interaction > Select node"
   ]
  },
  {
   "cell_type": "code",
   "execution_count": null,
   "id": "2ad7bfea",
   "metadata": {},
   "outputs": [],
   "source": [
    "node = {}\n",
    "node['node_label'] = 'attribute'\n",
    "node['node_property'] = 'title'\n",
    "node['node_property_value'] = 'Comparative Literature'"
   ]
  },
  {
   "cell_type": "code",
   "execution_count": null,
   "id": "825789af",
   "metadata": {},
   "outputs": [],
   "source": [
    "node_neighborhood = service.get_node_neighborhood(node)"
   ]
  },
  {
   "cell_type": "code",
   "execution_count": null,
   "id": "adcc0ce4",
   "metadata": {},
   "outputs": [],
   "source": [
    "node_neighborhood"
   ]
  },
  {
   "cell_type": "markdown",
   "id": "7ba47be3",
   "metadata": {},
   "source": [
    "# Example: Reverse Interaction > Select relation"
   ]
  },
  {
   "cell_type": "code",
   "execution_count": null,
   "id": "b399b50f",
   "metadata": {},
   "outputs": [],
   "source": [
    "relation = {}\n",
    "relation['type'] = 'has_core_skill'\n",
    "relation['direction'] = 'in'"
   ]
  },
  {
   "cell_type": "code",
   "execution_count": null,
   "id": "e1f3c328",
   "metadata": {},
   "outputs": [],
   "source": [
    "relation_neighborhood = service.get_relation_neighborhood(node, relation)"
   ]
  },
  {
   "cell_type": "code",
   "execution_count": null,
   "id": "dd5272e0",
   "metadata": {},
   "outputs": [],
   "source": [
    "relation_neighborhood"
   ]
  },
  {
   "cell_type": "markdown",
   "id": "024621b7",
   "metadata": {},
   "source": [
    "# Example: Reverse Interaction > Select relation + Empty Node"
   ]
  },
  {
   "cell_type": "code",
   "execution_count": null,
   "id": "ede6a29e",
   "metadata": {},
   "outputs": [],
   "source": [
    "relation_neighborhood = service.get_relation_neighborhood(None, relation)"
   ]
  },
  {
   "cell_type": "code",
   "execution_count": null,
   "id": "b32e4437",
   "metadata": {},
   "outputs": [],
   "source": [
    "relation_neighborhood"
   ]
  },
  {
   "cell_type": "code",
   "execution_count": null,
   "id": "8bc2dbdd",
   "metadata": {},
   "outputs": [],
   "source": []
  }
 ],
 "metadata": {
  "kernelspec": {
   "display_name": "Python 3 (ipykernel)",
   "language": "python",
   "name": "python3"
  },
  "language_info": {
   "codemirror_mode": {
    "name": "ipython",
    "version": 3
   },
   "file_extension": ".py",
   "mimetype": "text/x-python",
   "name": "python",
   "nbconvert_exporter": "python",
   "pygments_lexer": "ipython3",
   "version": "3.9.13"
  },
  "vscode": {
   "interpreter": {
    "hash": "1969bb85aac28e13d40e6bbb10858a8d5a24994d890621fece8ba081534ca906"
   }
  }
 },
 "nbformat": 4,
 "nbformat_minor": 5
}
