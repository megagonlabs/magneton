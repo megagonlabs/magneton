{
 "cells": [
  {
   "cell_type": "markdown",
   "id": "086e59a3",
   "metadata": {},
   "source": [
    "# Import Widget Libraries"
   ]
  },
  {
   "cell_type": "code",
   "execution_count": 1,
   "id": "d4a1228b",
   "metadata": {},
   "outputs": [
    {
     "name": "stdout",
     "output_type": "stream",
     "text": [
      "magneton_client: 0.0.0\n"
     ]
    }
   ],
   "source": [
    "%load_ext autoreload   \n",
    "%autoreload 2\n",
    "import magneton\n",
    "from magneton.core.idom_loader import reload_bundle\n",
    "from magneton.core.widget import WidgetModel"
   ]
  },
  {
   "cell_type": "markdown",
   "id": "08774d6f",
   "metadata": {},
   "source": [
    "# Pre-process Data"
   ]
  },
  {
   "cell_type": "code",
   "execution_count": 2,
   "id": "57342a7a",
   "metadata": {},
   "outputs": [],
   "source": [
    "import pandas as pd"
   ]
  },
  {
   "cell_type": "code",
   "execution_count": 3,
   "id": "4fd69c88",
   "metadata": {},
   "outputs": [],
   "source": [
    "def transform_data(data_url):\n",
    "    df = pd.read_csv(data_url)\n",
    "    df = df[df['Year'] == 2017]\n",
    "    df = df[['Cohort','State','Drivers']]\n",
    "    df = df.pivot_table(index=['State'], \n",
    "            columns=['Cohort'], values='Drivers').fillna(0)\n",
    "    df = df.reset_index()\n",
    "    return df"
   ]
  },
  {
   "cell_type": "code",
   "execution_count": 4,
   "id": "8a4be7c2",
   "metadata": {},
   "outputs": [],
   "source": [
    "data_url ='https://data.transportation.gov/api/views/xfkb-3bxx/rows.csv?accessType=DOWNLOAD'\n",
    "\n",
    "state_data_df = transform_data(data_url)"
   ]
  },
  {
   "cell_type": "markdown",
   "id": "4499171e",
   "metadata": {},
   "source": [
    "# Define Actions"
   ]
  },
  {
   "cell_type": "code",
   "execution_count": 5,
   "id": "f074f501",
   "metadata": {},
   "outputs": [],
   "source": [
    "def get_data_table(df, start_letter=None):\n",
    "    ls = list(df['State'].unique())\n",
    "    if start_letter:\n",
    "        ls = [x for x in ls if x.startswith(start_letter)]\n",
    "    return ls"
   ]
  },
  {
   "cell_type": "code",
   "execution_count": 6,
   "id": "41a2afc8",
   "metadata": {},
   "outputs": [],
   "source": [
    "def get_distribution_by_state(df, state_name=None):\n",
    "    result = []\n",
    "    if state_name:\n",
    "        row = df[df['State'] == state_name]\n",
    "        dist = row.loc[:, row.columns != 'State'].to_dict('records')[0]\n",
    "        for key, value in dist.items():\n",
    "            result.append({\"x\": key, \"y\": value})\n",
    "    else:\n",
    "        ls = df.columns\n",
    "        _df = df.mean(axis=0, numeric_only=True)\n",
    "        for key in ls:\n",
    "            if key != 'State':\n",
    "                result.append({\"x\": key, \"y\": _df[key]})\n",
    "    return result"
   ]
  },
  {
   "cell_type": "code",
   "execution_count": 7,
   "id": "8c8e869a",
   "metadata": {},
   "outputs": [],
   "source": [
    "def get_filtered_distribution_by_buckets(df, state_name=None):\n",
    "    dist = get_distribution_by_state(df, state_name)\n",
    "    filtered_ls = []\n",
    "    for _d in dist:\n",
    "        if \"-\" in _d['x']:\n",
    "            filtered_ls.append(_d)\n",
    "    return filtered_ls"
   ]
  },
  {
   "cell_type": "markdown",
   "id": "7581871d",
   "metadata": {},
   "source": [
    "# Customize All Components and Actions"
   ]
  },
  {
   "cell_type": "code",
   "execution_count": 8,
   "id": "058b2483",
   "metadata": {},
   "outputs": [],
   "source": [
    "from magneton import FullyCustomizableLinkedViews\n",
    "    \n",
    "def init(): \n",
    "    # Fetch initial view data\n",
    "    return {\n",
    "        \"distribution\": get_filtered_distribution_by_buckets(state_data_df),\n",
    "        \"index\": -1,\n",
    "        \"table\": get_data_table(state_data_df, 'C')\n",
    "    }\n",
    "\n",
    "def select(element):\n",
    "    # implement selection\n",
    "    dist = get_filtered_distribution_by_buckets(state_data_df, element)\n",
    "    index = get_data_table(state_data_df, 'C').index(element)\n",
    "    return {\n",
    "            \"distribution\": dist,\n",
    "            \"index\": index\n",
    "            }\n",
    "# Create widget \n",
    "lv_widget = FullyCustomizableLinkedViews(state_data_df, 'State', {\"init\": init, \"select\": select})"
   ]
  },
  {
   "cell_type": "code",
   "execution_count": 9,
   "id": "9116a9a9",
   "metadata": {},
   "outputs": [
    {
     "data": {
      "text/plain": [
       "component(10b499b80, self=<magneton.core.widget.StatefulWidgetBase.StatefulWidgetBase object at 0x1033c3100>)"
      ]
     },
     "execution_count": 9,
     "metadata": {},
     "output_type": "execute_result"
    },
    {
     "data": {
      "application/vnd.jupyter.widget-view+json": {
       "model_id": "28f013119d4b4fd0b0a8371a3bb25818",
       "version_major": 2,
       "version_minor": 0
      },
      "text/plain": [
       "LayoutWidget(Layout(component(10b499b80, self=<magneton.core.widget.StatefulWidgetBase.StatefulWidgetBase obje…"
      ]
     },
     "metadata": {},
     "output_type": "display_data"
    }
   ],
   "source": [
    "lv_widget.show()"
   ]
  },
  {
   "cell_type": "code",
   "execution_count": null,
   "id": "f5c7f21d",
   "metadata": {},
   "outputs": [],
   "source": []
  }
 ],
 "metadata": {
  "kernelspec": {
   "display_name": "Python 3 (ipykernel)",
   "language": "python",
   "name": "python3"
  },
  "language_info": {
   "codemirror_mode": {
    "name": "ipython",
    "version": 3
   },
   "file_extension": ".py",
   "mimetype": "text/x-python",
   "name": "python",
   "nbconvert_exporter": "python",
   "pygments_lexer": "ipython3",
   "version": "3.9.13"
  },
  "vscode": {
   "interpreter": {
    "hash": "1969bb85aac28e13d40e6bbb10858a8d5a24994d890621fece8ba081534ca906"
   }
  }
 },
 "nbformat": 4,
 "nbformat_minor": 5
}
